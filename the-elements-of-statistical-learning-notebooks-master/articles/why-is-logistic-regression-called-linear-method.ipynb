{
 "cells": [
  {
   "cell_type": "markdown",
   "metadata": {},
   "source": [
    "# Why is Logistic Regression Called Linear Method?\n",
    "\n",
    "Let's start with the linear regression, the most basic tool of statistical learning."
   ]
  },
  {
   "cell_type": "markdown",
   "metadata": {},
   "source": [
    "### Cautions\n",
    "\n",
    "* For brevity, everything here is assumed to be in 1D.\n",
    "* Mathematical and implementational details are not dicussed here, while basic implementations are provided anyway.  \n",
    "  Please consult with textbooks or Google.\n",
    "* The main reference of this notebook is \"The Elements of Statictical Learning\" (ESL) 2E by Hastie et al."
   ]
  },
  {
   "cell_type": "code",
   "execution_count": 1,
   "metadata": {},
   "outputs": [],
   "source": [
    "%matplotlib inline\n",
    "import scipy\n",
    "import matplotlib.pyplot as plt"
   ]
  },
  {
   "cell_type": "markdown",
   "metadata": {},
   "source": [
    "### Linear Regression\n",
    "\n",
    "It seeks the best straight line to explain the data.\n",
    "\n",
    "In other words, linear regression is like -- I am looking at the scatterplot, holding a big ruler, and I simply draws a straight line intuitively suitable for the data.\n",
    "\n",
    "\\begin{equation}\n",
    "Y = f(X) = \\beta_0 + \\beta_1X\n",
    "\\end{equation}\n",
    "\n",
    "The solution -- or the estimate of -- $(\\beta_0, \\beta_1)$ of the above problem will be more or less similar with my straight line."
   ]
  },
  {
   "cell_type": "code",
   "execution_count": 2,
   "metadata": {},
   "outputs": [
    {
     "data": {
      "image/png": "[encoded data removed]",
      "text/plain": [
       "<matplotlib.figure.Figure at 0x7f4c422fcf60>"
      ]
     },
     "metadata": {},
     "output_type": "display_data"
    }
   ],
   "source": [
    "\"\"\"Typical example for 1D linear regression\"\"\"\n",
    "# Generate data\n",
    "sample_gaussian = scipy.random.multivariate_normal(\n",
    "    mean=(0, 1),\n",
    "    cov=((1, .5), (.5, 1)),\n",
    "    size=100,\n",
    ")\n",
    "sample_x = sample_gaussian[:, 0]\n",
    "sample_y = sample_gaussian[:, 1]\n",
    "\n",
    "# Plot the data\n",
    "fig0 = plt.figure(0)\n",
    "ax00 = fig0.add_subplot(1, 1, 1)\n",
    "ax00.plot(sample_x, sample_y, 'o')\n",
    "\n",
    "# Center the data\n",
    "mean_y = sample_y.mean()\n",
    "sample_y_centered = sample_y - mean_y\n",
    "\n",
    "# Linear Regression for 1D\n",
    "hat_beta = sample_y_centered.dot(sample_x) / (sample_x*sample_x).sum()\n",
    "hat_y = mean_y + hat_beta*sample_x\n",
    "\n",
    "# Plot the fit\n",
    "ax00.set_title('Linear Regression')\n",
    "ax00.plot(sample_x, hat_y)\n",
    "plt.show()"
   ]
  },
  {
   "cell_type": "markdown",
   "metadata": {},
   "source": [
    "### Linear Regression for Classification\n",
    "\n",
    "The response variable becomes discrete and the \"classification problem\" pursuits an answer: Where this item belongs.\n",
    "\n",
    "\\begin{equation}\n",
    "Y = f(X) = \\beta_0 + \\beta_1X \\\\\n",
    "\\text{where } Y \\in \\{0,1\\}\n",
    "\\end{equation}\n",
    "\n",
    "But the linear regression doesn't care much anyway."
   ]
  },
  {
   "cell_type": "code",
   "execution_count": 3,
   "metadata": {},
   "outputs": [
    {
     "data": {
      "image/png": "[encoded data removed]",
      "text/plain": [
       "<matplotlib.figure.Figure at 0x7f4c400806a0>"
      ]
     },
     "metadata": {},
     "output_type": "display_data"
    }
   ],
   "source": [
    "\"\"\"1D linear regression for 0-1 responses\"\"\"\n",
    "sample_x = scipy.concatenate((scipy.linspace(-2, -.5, 50),\n",
    "                              scipy.linspace(.5, 2, 50)))\n",
    "sample_y = scipy.concatenate((scipy.zeros(50), scipy.ones(50)))\n",
    "\n",
    "fig1 = plt.figure(1, figsize=(10, 5))\n",
    "ax11 = fig1.add_subplot(1, 2, 1)\n",
    "ax11.plot(sample_x, sample_y, 'o', markersize=1)\n",
    "\n",
    "# Center the data\n",
    "mean_y = sample_y.mean()\n",
    "sample_y_centered = sample_y - mean_y\n",
    "\n",
    "# Linear Regression for 1D\n",
    "hat_beta = sample_y_centered.dot(sample_x) / (sample_x*sample_x).sum()\n",
    "hat_y = mean_y + hat_beta*sample_x\n",
    "\n",
    "# Plot the fit\n",
    "ax11.set_title('Linear Regression')\n",
    "ax11.plot(sample_x[[0, -1]], hat_y[[0, -1]])\n",
    "plt.show()"
   ]
  },
  {
   "cell_type": "markdown",
   "metadata": {},
   "source": [
    "### What if $Y$ is of 3 classes (or more)?\n",
    "\n",
    "One of the popular choices is to bring the indicator (or dummy) variables $(Y_1, Y_2, Y_3)$ instead of $Y$. Then we can equivalently represent $Y$ as\n",
    "\n",
    "\\begin{align}\n",
    "Y = 0 &\\Rightarrow (Y_1, Y_2, Y_3) = (1,0,0) \\\\\n",
    "Y = 1 &\\Rightarrow (Y_1, Y_2, Y_3) = (0,1,0) \\\\\n",
    "Y = 2 &\\Rightarrow (Y_1, Y_2, Y_3) = (0,0,1)\n",
    "\\end{align}\n",
    "\n",
    "If the linear regression applies to each of $Y_i$ separately, we get 3 fitted values and it is a natural decision to take the highest value as our answer."
   ]
  },
  {
   "cell_type": "markdown",
   "metadata": {},
   "source": [
    "### Does it seems good? Why if not?\n",
    "\n",
    "Using the indicator variables, we may intuitively consider the fitted values as the score, or the possibility, to belong to some group. Theoretically it is also true.\n",
    "\n",
    "> With an indicator variable $Y_k$,\n",
    ">\n",
    "> \\begin{equation}\n",
    "\\text{regression function} = \\text{conditional expectation} = \\text{posterior probability}\n",
    "\\end{equation}\n",
    ">\n",
    "> \\begin{equation}\n",
    "f(x) = \\text{E}(Y_k|X=x) = \\text{Pr}(G=k|X=x)\n",
    "\\end{equation}\n",
    "\n",
    "But our fitted values that the linear regression provided do not seem suitable as probabilities. So here comes the better approaches like linear discriminant analysis (LDA) and logistic regression (LDA not covered here).\n",
    "\n",
    "In a nutshell, logistic regression tries to make the regression function satisfy the properties of probability."
   ]
  },
  {
   "cell_type": "markdown",
   "metadata": {},
   "source": [
    "### Logit transform\n",
    "\n",
    "\\begin{equation}\n",
    "\\text{logit}: (0,1) \\mapsto \\mathbb{R} \\\\\n",
    "\\text{logit}(p) = \\log\\frac{p}{1-p}\n",
    "\\end{equation}\n",
    "\n",
    "It is monotone and continuous, so is its inverse (called logistic function).\n",
    "\n",
    "\\begin{equation}\n",
    "\\text{logistic}: \\mathbb{R} \\mapsto (0,1) \\\\\n",
    "\\text{logistic}(a) = \\frac1{1+\\exp(-a)} = \\frac{\\exp(a)}{\\exp(a)+1}\n",
    "\\end{equation}\n",
    "\n",
    "Therefore it seems pretty good for converting the real number to the probability."
   ]
  },
  {
   "cell_type": "code",
   "execution_count": 4,
   "metadata": {},
   "outputs": [],
   "source": [
    "def logit(p:scipy.ndarray)->scipy.ndarray:\n",
    "    return scipy.log(p/(1-p))\n",
    "\n",
    "\n",
    "def logistic(a:scipy.ndarray)->scipy.ndarray:\n",
    "    return scipy.reciprocal(1+scipy.exp(-a))"
   ]
  },
  {
   "cell_type": "code",
   "execution_count": 9,
   "metadata": {},
   "outputs": [
    {
     "data": {
      "image/png": "[encoded data removed]",
      "text/plain": [
       "<matplotlib.figure.Figure at 0x7f4c3f8bf518>"
      ]
     },
     "metadata": {},
     "output_type": "display_data"
    }
   ],
   "source": [
    "xgrid1 = scipy.linspace(0, 1, 10000, endpoint=False)[1:]\n",
    "y_logitx = logit(xgrid1)\n",
    "\n",
    "xgrid2 = y_logitx\n",
    "y_logisticx = logistic(xgrid2)\n",
    "\n",
    "fig2 = plt.figure(2, figsize=(10, 5))\n",
    "ax21 = fig2.add_subplot(1, 2, 1)\n",
    "ax21.plot(xgrid1, y_logitx)\n",
    "ax21.set_title('Logit Transform')\n",
    "\n",
    "ax22 = fig2.add_subplot(1, 2, 2)\n",
    "ax22.plot(xgrid2, y_logisticx)\n",
    "ax22.set_title('Logistic Function: Inverse of Logit')\n",
    "plt.show()"
   ]
  },
  {
   "cell_type": "markdown",
   "metadata": {},
   "source": [
    "### Logistic Regression\n",
    "\n",
    "Using indicator variables, what we have done is\n",
    "\n",
    "\\begin{align}\n",
    "\\text{Pr}(G=1|X=x) &= \\beta_{10} + \\beta_{11} x \\\\\n",
    "\\text{Pr}(G=2|X=x) &= \\beta_{20} + \\beta_{21} x \\\\\n",
    "&\\vdots \\\\\n",
    "\\text{Pr}(G=K|X=x) &= \\beta_{K0} + \\beta_{K1} x \\\\\n",
    "\\end{align}\n",
    "\n",
    "But if we want more probability-like estimates, the monotone transformation comes to action:\n",
    "\n",
    "\\begin{align}\n",
    "\\text{logit } \\text{Pr}(G=1|X=x) &= \\beta_{10} + \\beta_{11} x \\\\\n",
    "\\text{logit } \\text{Pr}(G=2|X=x) &= \\beta_{20} + \\beta_{21} x \\\\\n",
    "&\\vdots \\\\\n",
    "\\text{logit } \\text{Pr}(G=K-1|X=x) &= \\beta_{(K-1)0} + \\beta_{(K-1)1} x\n",
    "\\\\\n",
    "\\text{Pr}(G=K|X=x) &= 1- \\sum_{k=1}^{K-1}\\text{Pr}(G=k|X=x)\n",
    "\\end{align}\n",
    "\n",
    "where we arrive at the formulation of logistic regression."
   ]
  },
  {
   "cell_type": "code",
   "execution_count": 6,
   "metadata": {},
   "outputs": [],
   "source": [
    "\"\"\"Logistic regression\n",
    "\n",
    "Please check any textbook for the detail of the algorithm\n",
    "(I refer to the page 121 of ESL, Section 4.4).\"\"\"\n",
    "import scipy.linalg\n",
    "\n",
    "def fvec_p(mat_x:scipy.ndarray, vec_beta:scipy.ndarray)->scipy.ndarray:\n",
    "    \"\"\"Compute the vector p, the vector of fitted probabilties\"\"\"\n",
    "    num = scipy.exp(mat_x@vec_beta)\n",
    "    return num/(num+1)\n",
    "\n",
    "\n",
    "def fdiag_W(mat_x:scipy.ndarray, vec_beta:scipy.ndarray)->scipy.ndarray:\n",
    "    \"\"\"Compute the diagonal element of W\"\"\"\n",
    "    vec_p = fvec_p(mat_x, vec_beta)\n",
    "    return vec_p*(1-vec_p)"
   ]
  },
  {
   "cell_type": "code",
   "execution_count": 7,
   "metadata": {},
   "outputs": [],
   "source": [
    "# Add a constant variable\n",
    "size_beta = 2\n",
    "sample_1x = scipy.vstack((scipy.ones_like(sample_x), sample_x)).T\n",
    "\n",
    "# initialization for iteration\n",
    "hat_beta_old = scipy.zeros(size_beta)\n",
    "beta_increment = scipy.ones(size_beta)\n",
    "\n",
    "# Newton-Raphson iteration\n",
    "while (beta_increment*beta_increment).sum() > 1e-8:\n",
    "    vec_p = fvec_p(sample_1x, hat_beta_old)\n",
    "    gradient = sample_1x.T @ (sample_y-vec_p)\n",
    "    hessian = sample_1x.T @ scipy.diag(fdiag_W(sample_1x, hat_beta_old)) @ sample_1x\n",
    "\n",
    "    try:\n",
    "        beta_increment = scipy.linalg.solve(hessian, gradient)\n",
    "    except scipy.linalg.LinAlgError:\n",
    "        break\n",
    "    \n",
    "    hat_beta_new = hat_beta_old + beta_increment\n",
    "    hat_beta_old = hat_beta_new.copy()"
   ]
  },
  {
   "cell_type": "code",
   "execution_count": 8,
   "metadata": {},
   "outputs": [
    {
     "data": {
      "image/png": "[encoded data removed]",
      "text/plain": [
       "<matplotlib.figure.Figure at 0x7f4c400806a0>"
      ]
     },
     "execution_count": 8,
     "metadata": {},
     "output_type": "execute_result"
    }
   ],
   "source": [
    "# Plot and compare\n",
    "ax12 = fig1.add_subplot(1, 2, 2)\n",
    "ax12.plot(sample_x, sample_y, 'o', markersize=2)\n",
    "\n",
    "ax12.plot(sample_x, logistic(sample_1x @ hat_beta_new))\n",
    "ax12.set_ylim(ax11.get_ylim())\n",
    "ax12.set_title('Logistic Regression')\n",
    "fig1"
   ]
  },
  {
   "cell_type": "markdown",
   "metadata": {},
   "source": [
    "Logistic regression seems to preserve the decision rule (or decision boundary) as linear one, which looks definitely better."
   ]
  },
  {
   "cell_type": "markdown",
   "metadata": {},
   "source": [
    "### Justification of taking the monotone transform\n",
    "\n",
    "A monotone transform does not affect the order of the original input values.\n",
    "\n",
    "Therefore, because -- when using the indicator variables -- we take the maximum fitted value as the estimate, the logit transform doesn't do any harm."
   ]
  },
  {
   "cell_type": "markdown",
   "metadata": {},
   "source": [
    "### Improvement of taking the monotone transform\n",
    "\n",
    "Logistic regression makes the same decision as the linear regression with indicator variables. What's the difference then?\n",
    "\n",
    "1. Logistic regression keeps the decision boundary linear as the linear regression does.\n",
    "2. Moreover it makes the solution more sensible when testing, or real application.\n",
    "\n",
    "Consider we fit the linear regression model with indicator variables. Then we should test the model. What if the test point is outside range (or convex hull) of the training data? \n",
    "\n",
    "> This is a consequence of the rigid nature of linear regression, especially if we make predictions outside the hull of the training data. These violation (of probabilistic properties) in themselves does not guarantee that this approach will not work. (page 104 of ESL, $\\S$ 4.2)\n",
    ">\n",
    "> The logistic regression model arises from the desire to model the posterior probabilities of the $K$ classes via linear functions in $x$, while at the same time ensuring that they sum to one and remain in $[0,1]$.\n",
    "> (page 119 of ESL, $\\S$ 4.4)\n",
    "\n"
   ]
  },
  {
   "cell_type": "markdown",
   "metadata": {},
   "source": [
    "### So, is the solution linear?\n",
    "\n",
    "As you may see the actual implementation of logistic regression, it usually requires MLE with the multinomial distribution and the solution is not even the closed-form so we solve it via an iterative procedure.\n",
    "\n",
    "Therefore the logistic regression is called linear method because the decision boundary it provides is linear, not because we can get its estimates by solving a linear equation.\n",
    "\n",
    "End of the story."
   ]
  }
 ],
 "metadata": {
  "kernelspec": {
   "display_name": "Python 3",
   "language": "python",
   "name": "python3"
  },
  "language_info": {
   "codemirror_mode": {
    "name": "ipython",
    "version": 3
   },
   "file_extension": ".py",
   "mimetype": "text/x-python",
   "name": "python",
   "nbconvert_exporter": "python",
   "pygments_lexer": "ipython3",
   "version": "3.6.4"
  }
 },
 "nbformat": 4,
 "nbformat_minor": 2
}
