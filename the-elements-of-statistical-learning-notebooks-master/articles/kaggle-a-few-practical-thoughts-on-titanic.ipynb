{
 "cells": [
  {
   "cell_type": "markdown",
   "metadata": {},
   "source": [
    "# A Few Practical Thoughts on Supervised Learning\n",
    "> __Caution__: I am newbie for Kaggle and also real-world machine learning problems. So this notebook contains kind of \"failure story\" and some questions to you, ladies and gentlemen. I will appreciate your answer!\n",
    "\n",
    "## Motivation\n",
    "There are many precious notebooks in Kaggle, (although I have read only a few of most-voted ones), and many of them just used categorical variables, not using dummy variables. And then the comment pointing the use of dummies also got many votes. This is my motivation; how the dummies improve the model?\n",
    "\n",
    "References so far:\n",
    "* https://www.kaggle.com/startupsci/titanic-data-science-solutions\n",
    "* https://www.kaggle.com/sinakhorami/titanic-best-working-classifier\n",
    "* https://www.kaggle.com/ash316/eda-to-prediction-dietanic\n",
    "\n",
    "Since I think that other similar topics could be included here, below are the main questions:\n",
    "* Nominal variables vs. Dummies\n",
    "* Does scaling really have effects?  \n",
    "  Then which variable is appropriate to be applied?\n",
    "* How much does the cross-validation improve the model accuracy?\n",
    "* Is the regularization really helpful for the generalization?\n",
    "\n",
    "Here the only logistic regression is used for the training method and there is no comparison among various ones, simply because I do not know much detail of other sophisticated methods. Logistic regression is chosen since it is simple and easy to understand, for me."
   ]
  },
  {
   "cell_type": "code",
   "execution_count": 1,
   "metadata": {},
   "outputs": [],
   "source": [
    "import re\n",
    "\n",
    "import scipy\n",
    "import pandas\n",
    "import matplotlib.pyplot as plt\n",
    "import sklearn\n",
    "import sklearn.model_selection\n",
    "import sklearn.pipeline\n",
    "from sklearn.linear_model import LogisticRegression, LogisticRegressionCV"
   ]
  },
  {
   "cell_type": "markdown",
   "metadata": {},
   "source": [
    "## The Copied and Pasted Contents from Kaggle\n",
    "\n",
    "FYI, the dataset is from Kaggle. For those who see this outside Kaggle, below is the copied from https://www.kaggle.com/c/titanic.\n",
    "### Data Description\n",
    "#### Overview\n",
    "The data has been split into two groups:\n",
    "* training set (train.csv)\n",
    "* test set (test.csv)\n",
    "\n",
    "__The training set__ should be used to build your machine learning models. For the training set, we provide the outcome (also known as the \"ground truth\") for each passenger. Your model will be based on \"features\" like passengers’ gender and class. You can also use [feature engineering](https://triangleinequality.wordpress.com/2013/09/08/basic-feature-engineering-with-the-titanic-data) to create new features.\n",
    "\n",
    "__The test set__ should be used to see how well your model performs on unseen data. For the test set, we do not provide the ground truth for each passenger. It is your job to predict these outcomes. For each passenger in the test set, use the model you trained to predict whether or not they survived the sinking of the Titanic.\n",
    "\n",
    "We also include __gender_submission.csv__, a set of predictions that assume all and only female passengers survive, as an example of what a submission file should look like.\n",
    "\n",
    "#### Data Dictionary\n",
    "\n",
    "Variable | Definition | Key\n",
    "---|---|---\n",
    "survival | Survival | 0 = No, 1 = Yes\n",
    "pclass | Ticket class | 1 = 1st, 2 = 2nd, 3 = 3rd\n",
    "sex | Sex |\n",
    "Age | Age in years |\n",
    "sibsp | # of siblings / spouses aboard the Titanic |\n",
    "parch | # of parents / children aboard the Titanic |\n",
    "ticket | Ticket number |\n",
    "fare | Passenger fare |\n",
    "cabin | Cabin number |\n",
    "embarked | Port of Embarkation | C = Cherbourg, Q = Queenstown, S = Southampton\n",
    "\n",
    "#### Variable Notes\n",
    "\n",
    "* __pclass__: A proxy for socio-economic status (SES)  \n",
    "  1st = Upper  \n",
    "  2nd = Middle  \n",
    "  3rd = Lower\n",
    "* __age__: Age is fractional if less than 1. If the age is estimated, is it in the form of xx.5\n",
    "* __sibsp__: The dataset defines family relations in this way...  \n",
    "  Sibling = brother, sister, stepbrother, stepsister  \n",
    "  Spouse = husband, wife (mistresses and fiancés were ignored)\n",
    "* __parch__: The dataset defines family relations in this way...  \n",
    "  Parent = mother, father  \n",
    "  Child = daughter, son, stepdaughter, stepson  \n",
    "  Some children travelled only with a nanny, therefore parch=0 for them."
   ]
  },
  {
   "cell_type": "markdown",
   "metadata": {},
   "source": [
    "# Part 1. Sightseeing\n",
    "Here I will do almost the same as other notebooks do. I would like to check the training data where the preprocessing is necessary. I will also follow some preprocessing strategies from other notebooks (e.g. a strategy to fill `NA`s for `Age`).\n",
    "\n",
    "Let's check the data type first, and see the first few lines."
   ]
  },
  {
   "cell_type": "code",
   "execution_count": 2,
   "metadata": {},
   "outputs": [
    {
     "name": "stdout",
     "output_type": "stream",
     "text": [
      "<class 'pandas.core.frame.DataFrame'>\n",
      "RangeIndex: 891 entries, 0 to 890\n",
      "Data columns (total 12 columns):\n",
      "PassengerId    891 non-null int64\n",
      "Survived       891 non-null int64\n",
      "Pclass         891 non-null int64\n",
      "Name           891 non-null object\n",
      "Sex            891 non-null object\n",
      "Age            714 non-null float64\n",
      "SibSp          891 non-null int64\n",
      "Parch          891 non-null int64\n",
      "Ticket         891 non-null object\n",
      "Fare           891 non-null float64\n",
      "Cabin          204 non-null object\n",
      "Embarked       889 non-null object\n",
      "dtypes: float64(2), int64(5), object(5)\n",
      "memory usage: 83.6+ KB\n"
     ]
    },
    {
     "data": {
      "text/html": [
       "<div>\n",
       "<style scoped>\n",
       "    .dataframe tbody tr th:only-of-type {\n",
       "        vertical-align: middle;\n",
       "    }\n",
       "\n",
       "    .dataframe tbody tr th {\n",
       "        vertical-align: top;\n",
       "    }\n",
       "\n",
       "    .dataframe thead th {\n",
       "        text-align: right;\n",
       "    }\n",
       "</style>\n",
       "<table border=\"1\" class=\"dataframe\">\n",
       "  <thead>\n",
       "    <tr style=\"text-align: right;\">\n",
       "      <th></th>\n",
       "      <th>PassengerId</th>\n",
       "      <th>Survived</th>\n",
       "      <th>Pclass</th>\n",
       "      <th>Name</th>\n",
       "      <th>Sex</th>\n",
       "      <th>Age</th>\n",
       "      <th>SibSp</th>\n",
       "      <th>Parch</th>\n",
       "      <th>Ticket</th>\n",
       "      <th>Fare</th>\n",
       "      <th>Cabin</th>\n",
       "      <th>Embarked</th>\n",
       "    </tr>\n",
       "  </thead>\n",
       "  <tbody>\n",
       "    <tr>\n",
       "      <th>0</th>\n",
       "      <td>1</td>\n",
       "      <td>0</td>\n",
       "      <td>3</td>\n",
       "      <td>Braund, Mr. Owen Harris</td>\n",
       "      <td>male</td>\n",
       "      <td>22.0</td>\n",
       "      <td>1</td>\n",
       "      <td>0</td>\n",
       "      <td>A/5 21171</td>\n",
       "      <td>7.2500</td>\n",
       "      <td>NaN</td>\n",
       "      <td>S</td>\n",
       "    </tr>\n",
       "    <tr>\n",
       "      <th>1</th>\n",
       "      <td>2</td>\n",
       "      <td>1</td>\n",
       "      <td>1</td>\n",
       "      <td>Cumings, Mrs. John Bradley (Florence Briggs Th...</td>\n",
       "      <td>female</td>\n",
       "      <td>38.0</td>\n",
       "      <td>1</td>\n",
       "      <td>0</td>\n",
       "      <td>PC 17599</td>\n",
       "      <td>71.2833</td>\n",
       "      <td>C85</td>\n",
       "      <td>C</td>\n",
       "    </tr>\n",
       "    <tr>\n",
       "      <th>2</th>\n",
       "      <td>3</td>\n",
       "      <td>1</td>\n",
       "      <td>3</td>\n",
       "      <td>Heikkinen, Miss. Laina</td>\n",
       "      <td>female</td>\n",
       "      <td>26.0</td>\n",
       "      <td>0</td>\n",
       "      <td>0</td>\n",
       "      <td>STON/O2. 3101282</td>\n",
       "      <td>7.9250</td>\n",
       "      <td>NaN</td>\n",
       "      <td>S</td>\n",
       "    </tr>\n",
       "    <tr>\n",
       "      <th>3</th>\n",
       "      <td>4</td>\n",
       "      <td>1</td>\n",
       "      <td>1</td>\n",
       "      <td>Futrelle, Mrs. Jacques Heath (Lily May Peel)</td>\n",
       "      <td>female</td>\n",
       "      <td>35.0</td>\n",
       "      <td>1</td>\n",
       "      <td>0</td>\n",
       "      <td>113803</td>\n",
       "      <td>53.1000</td>\n",
       "      <td>C123</td>\n",
       "      <td>S</td>\n",
       "    </tr>\n",
       "    <tr>\n",
       "      <th>4</th>\n",
       "      <td>5</td>\n",
       "      <td>0</td>\n",
       "      <td>3</td>\n",
       "      <td>Allen, Mr. William Henry</td>\n",
       "      <td>male</td>\n",
       "      <td>35.0</td>\n",
       "      <td>0</td>\n",
       "      <td>0</td>\n",
       "      <td>373450</td>\n",
       "      <td>8.0500</td>\n",
       "      <td>NaN</td>\n",
       "      <td>S</td>\n",
       "    </tr>\n",
       "  </tbody>\n",
       "</table>\n",
       "</div>"
      ],
      "text/plain": [
       "   PassengerId  Survived  Pclass  \\\n",
       "0            1         0       3   \n",
       "1            2         1       1   \n",
       "2            3         1       3   \n",
       "3            4         1       1   \n",
       "4            5         0       3   \n",
       "\n",
       "                                                Name     Sex   Age  SibSp  \\\n",
       "0                            Braund, Mr. Owen Harris    male  22.0      1   \n",
       "1  Cumings, Mrs. John Bradley (Florence Briggs Th...  female  38.0      1   \n",
       "2                             Heikkinen, Miss. Laina  female  26.0      0   \n",
       "3       Futrelle, Mrs. Jacques Heath (Lily May Peel)  female  35.0      1   \n",
       "4                           Allen, Mr. William Henry    male  35.0      0   \n",
       "\n",
       "   Parch            Ticket     Fare Cabin Embarked  \n",
       "0      0         A/5 21171   7.2500   NaN        S  \n",
       "1      0          PC 17599  71.2833   C85        C  \n",
       "2      0  STON/O2. 3101282   7.9250   NaN        S  \n",
       "3      0            113803  53.1000  C123        S  \n",
       "4      0            373450   8.0500   NaN        S  "
      ]
     },
     "execution_count": 2,
     "metadata": {},
     "output_type": "execute_result"
    }
   ],
   "source": [
    "dftrain_full = pandas.read_csv('../data/titanic/train.csv')\n",
    "dftrain_full.info()\n",
    "dftrain_full.head()"
   ]
  },
  {
   "cell_type": "markdown",
   "metadata": {},
   "source": [
    "Summary statistics next, for numerical and categorical variables respectively."
   ]
  },
  {
   "cell_type": "code",
   "execution_count": 3,
   "metadata": {},
   "outputs": [
    {
     "data": {
      "text/html": [
       "<div>\n",
       "<style scoped>\n",
       "    .dataframe tbody tr th:only-of-type {\n",
       "        vertical-align: middle;\n",
       "    }\n",
       "\n",
       "    .dataframe tbody tr th {\n",
       "        vertical-align: top;\n",
       "    }\n",
       "\n",
       "    .dataframe thead th {\n",
       "        text-align: right;\n",
       "    }\n",
       "</style>\n",
       "<table border=\"1\" class=\"dataframe\">\n",
       "  <thead>\n",
       "    <tr style=\"text-align: right;\">\n",
       "      <th></th>\n",
       "      <th>PassengerId</th>\n",
       "      <th>Survived</th>\n",
       "      <th>Pclass</th>\n",
       "      <th>Age</th>\n",
       "      <th>SibSp</th>\n",
       "      <th>Parch</th>\n",
       "      <th>Fare</th>\n",
       "    </tr>\n",
       "  </thead>\n",
       "  <tbody>\n",
       "    <tr>\n",
       "      <th>count</th>\n",
       "      <td>891.000000</td>\n",
       "      <td>891.000000</td>\n",
       "      <td>891.000000</td>\n",
       "      <td>714.000000</td>\n",
       "      <td>891.000000</td>\n",
       "      <td>891.000000</td>\n",
       "      <td>891.000000</td>\n",
       "    </tr>\n",
       "    <tr>\n",
       "      <th>mean</th>\n",
       "      <td>446.000000</td>\n",
       "      <td>0.383838</td>\n",
       "      <td>2.308642</td>\n",
       "      <td>29.699118</td>\n",
       "      <td>0.523008</td>\n",
       "      <td>0.381594</td>\n",
       "      <td>32.204208</td>\n",
       "    </tr>\n",
       "    <tr>\n",
       "      <th>std</th>\n",
       "      <td>257.353842</td>\n",
       "      <td>0.486592</td>\n",
       "      <td>0.836071</td>\n",
       "      <td>14.526497</td>\n",
       "      <td>1.102743</td>\n",
       "      <td>0.806057</td>\n",
       "      <td>49.693429</td>\n",
       "    </tr>\n",
       "    <tr>\n",
       "      <th>min</th>\n",
       "      <td>1.000000</td>\n",
       "      <td>0.000000</td>\n",
       "      <td>1.000000</td>\n",
       "      <td>0.420000</td>\n",
       "      <td>0.000000</td>\n",
       "      <td>0.000000</td>\n",
       "      <td>0.000000</td>\n",
       "    </tr>\n",
       "    <tr>\n",
       "      <th>25%</th>\n",
       "      <td>223.500000</td>\n",
       "      <td>0.000000</td>\n",
       "      <td>2.000000</td>\n",
       "      <td>20.125000</td>\n",
       "      <td>0.000000</td>\n",
       "      <td>0.000000</td>\n",
       "      <td>7.910400</td>\n",
       "    </tr>\n",
       "    <tr>\n",
       "      <th>50%</th>\n",
       "      <td>446.000000</td>\n",
       "      <td>0.000000</td>\n",
       "      <td>3.000000</td>\n",
       "      <td>28.000000</td>\n",
       "      <td>0.000000</td>\n",
       "      <td>0.000000</td>\n",
       "      <td>14.454200</td>\n",
       "    </tr>\n",
       "    <tr>\n",
       "      <th>75%</th>\n",
       "      <td>668.500000</td>\n",
       "      <td>1.000000</td>\n",
       "      <td>3.000000</td>\n",
       "      <td>38.000000</td>\n",
       "      <td>1.000000</td>\n",
       "      <td>0.000000</td>\n",
       "      <td>31.000000</td>\n",
       "    </tr>\n",
       "    <tr>\n",
       "      <th>max</th>\n",
       "      <td>891.000000</td>\n",
       "      <td>1.000000</td>\n",
       "      <td>3.000000</td>\n",
       "      <td>80.000000</td>\n",
       "      <td>8.000000</td>\n",
       "      <td>6.000000</td>\n",
       "      <td>512.329200</td>\n",
       "    </tr>\n",
       "  </tbody>\n",
       "</table>\n",
       "</div>"
      ],
      "text/plain": [
       "       PassengerId    Survived      Pclass         Age       SibSp  \\\n",
       "count   891.000000  891.000000  891.000000  714.000000  891.000000   \n",
       "mean    446.000000    0.383838    2.308642   29.699118    0.523008   \n",
       "std     257.353842    0.486592    0.836071   14.526497    1.102743   \n",
       "min       1.000000    0.000000    1.000000    0.420000    0.000000   \n",
       "25%     223.500000    0.000000    2.000000   20.125000    0.000000   \n",
       "50%     446.000000    0.000000    3.000000   28.000000    0.000000   \n",
       "75%     668.500000    1.000000    3.000000   38.000000    1.000000   \n",
       "max     891.000000    1.000000    3.000000   80.000000    8.000000   \n",
       "\n",
       "            Parch        Fare  \n",
       "count  891.000000  891.000000  \n",
       "mean     0.381594   32.204208  \n",
       "std      0.806057   49.693429  \n",
       "min      0.000000    0.000000  \n",
       "25%      0.000000    7.910400  \n",
       "50%      0.000000   14.454200  \n",
       "75%      0.000000   31.000000  \n",
       "max      6.000000  512.329200  "
      ]
     },
     "execution_count": 3,
     "metadata": {},
     "output_type": "execute_result"
    }
   ],
   "source": [
    "dftrain_full.describe()"
   ]
  },
  {
   "cell_type": "code",
   "execution_count": 4,
   "metadata": {},
   "outputs": [
    {
     "data": {
      "text/html": [
       "<div>\n",
       "<style scoped>\n",
       "    .dataframe tbody tr th:only-of-type {\n",
       "        vertical-align: middle;\n",
       "    }\n",
       "\n",
       "    .dataframe tbody tr th {\n",
       "        vertical-align: top;\n",
       "    }\n",
       "\n",
       "    .dataframe thead th {\n",
       "        text-align: right;\n",
       "    }\n",
       "</style>\n",
       "<table border=\"1\" class=\"dataframe\">\n",
       "  <thead>\n",
       "    <tr style=\"text-align: right;\">\n",
       "      <th></th>\n",
       "      <th>Name</th>\n",
       "      <th>Sex</th>\n",
       "      <th>Ticket</th>\n",
       "      <th>Cabin</th>\n",
       "      <th>Embarked</th>\n",
       "    </tr>\n",
       "  </thead>\n",
       "  <tbody>\n",
       "    <tr>\n",
       "      <th>count</th>\n",
       "      <td>891</td>\n",
       "      <td>891</td>\n",
       "      <td>891</td>\n",
       "      <td>204</td>\n",
       "      <td>889</td>\n",
       "    </tr>\n",
       "    <tr>\n",
       "      <th>unique</th>\n",
       "      <td>891</td>\n",
       "      <td>2</td>\n",
       "      <td>681</td>\n",
       "      <td>147</td>\n",
       "      <td>3</td>\n",
       "    </tr>\n",
       "    <tr>\n",
       "      <th>top</th>\n",
       "      <td>Renouf, Mr. Peter Henry</td>\n",
       "      <td>male</td>\n",
       "      <td>1601</td>\n",
       "      <td>G6</td>\n",
       "      <td>S</td>\n",
       "    </tr>\n",
       "    <tr>\n",
       "      <th>freq</th>\n",
       "      <td>1</td>\n",
       "      <td>577</td>\n",
       "      <td>7</td>\n",
       "      <td>4</td>\n",
       "      <td>644</td>\n",
       "    </tr>\n",
       "  </tbody>\n",
       "</table>\n",
       "</div>"
      ],
      "text/plain": [
       "                           Name   Sex Ticket Cabin Embarked\n",
       "count                       891   891    891   204      889\n",
       "unique                      891     2    681   147        3\n",
       "top     Renouf, Mr. Peter Henry  male   1601    G6        S\n",
       "freq                          1   577      7     4      644"
      ]
     },
     "execution_count": 4,
     "metadata": {},
     "output_type": "execute_result"
    }
   ],
   "source": [
    "dftrain_full.describe(include=['O'])"
   ]
  },
  {
   "cell_type": "markdown",
   "metadata": {},
   "source": [
    "And check the missing data."
   ]
  },
  {
   "cell_type": "code",
   "execution_count": 5,
   "metadata": {},
   "outputs": [
    {
     "name": "stdout",
     "output_type": "stream",
     "text": [
      "is NA?\n",
      " PassengerId      0\n",
      "Survived         0\n",
      "Pclass           0\n",
      "Name             0\n",
      "Sex              0\n",
      "Age            177\n",
      "SibSp            0\n",
      "Parch            0\n",
      "Ticket           0\n",
      "Fare             0\n",
      "Cabin          687\n",
      "Embarked         2\n",
      "dtype: int64 \n",
      "\n",
      "is NULL?\n",
      " PassengerId      0\n",
      "Survived         0\n",
      "Pclass           0\n",
      "Name             0\n",
      "Sex              0\n",
      "Age            177\n",
      "SibSp            0\n",
      "Parch            0\n",
      "Ticket           0\n",
      "Fare             0\n",
      "Cabin          687\n",
      "Embarked         2\n",
      "dtype: int64\n"
     ]
    }
   ],
   "source": [
    "print('is NA?\\n', dftrain_full.isna().sum(), '\\n')\n",
    "print('is NULL?\\n', dftrain_full.isnull().sum())"
   ]
  },
  {
   "cell_type": "markdown",
   "metadata": {},
   "source": [
    "## Variables\n",
    "> Q. Since the goal of this notebook is to compare the effect of some practices, I try to keep the data as raw as possible. For instance, I won't make a new variable `Family` by adding `SibSp` and `Parch`. Any thoughts will be welcome!\n",
    "\n",
    "From the simple glance above, I figure the variables as...\n",
    "\n",
    "1. Numerical variables:\n",
    "  * Age with missing data  \n",
    "    We fill the missing data with the mean w.r.t. their Title group\n",
    "  * Sibsp\n",
    "  * Parch\n",
    "  * Fare (Note that there are missing data in the test set!)\n",
    "1. Ordinal variables:\n",
    "  * Pclass\n",
    "1. Nominal variables: All the nominal converted to their K-1 dummies.\n",
    "  * Sex (`female` or `male`)\n",
    "  * Title from Name (`Master`, `Miss`, `Mrs`, `Mr`, `Rare`)\n",
    "  * Embarked (`Q`, `S`, `C`): Missing data are filled with `S`, the mode of the variable.\n",
    "1. Discarded variables: I couldn't convince myself on how to use it.\n",
    "  * PassengerId\n",
    "  * Name\n",
    "  * Ticket\n",
    "  * Cabin\n",
    "  \n",
    "Below is the function that extracts Title information from Name column, stolen from other famous Kaggle notebooks."
   ]
  },
  {
   "cell_type": "code",
   "execution_count": 6,
   "metadata": {},
   "outputs": [],
   "source": [
    "def get_title(name):\n",
    "    regex_title = re.search(' ([a-zA-Z]+)\\.', name)\n",
    "    if regex_title:\n",
    "        return regex_title.group(1)\n",
    "    return ''"
   ]
  },
  {
   "cell_type": "markdown",
   "metadata": {},
   "source": [
    "## Outline for Simulations\n",
    "\n",
    "1. No regularization\n",
    "  1. Dummy variables, or Not\n",
    "  1. Scaling only the numeric, or scaling all, or not at all\n",
    "1. Regularization with cross-validation\n",
    "  1. Dummy variables, or Not\n",
    "  1. Scaling only the numeric, or scaling all, or not at all\n",
    "\n",
    "It will be a quite repeated work! To simulate these with less code, below are the universal functions for preprocessing and training. It's quite long but can be used conveniently."
   ]
  },
  {
   "cell_type": "code",
   "execution_count": 7,
   "metadata": {},
   "outputs": [],
   "source": [
    "def preprocess(df: pandas.DataFrame,\n",
    "               dfgroup_age: pandas.DataFrame=None,\n",
    "               dfgroup_fare: pandas.DataFrame=None,\n",
    "               df_mean: pandas.DataFrame=None,\n",
    "               df_std: pandas.DataFrame=None,\n",
    "               use_dummies: bool=True,\n",
    "               standardized_columns=None):\n",
    "    \"\"\"Preprocessing function\n",
    "    \n",
    "    if only `df` is supplied, it regards `df` as the training data,\n",
    "    otherwise as the test data.\n",
    "    \n",
    "    This function prefers \"inplace\" operation,\n",
    "    so I will input a copy of a dataframe; e.g. `preprocess(df.copy())`.\n",
    "    \"\"\"\n",
    "    df['Title'] = df['Name'].apply(get_title)\n",
    "    df['Title'].replace(['Lady', 'Countess','Capt', 'Col', 'Don', 'Dr',\n",
    "                         'Major', 'Rev', 'Sir', 'Jonkheer', 'Dona'],\n",
    "                        'Rare',\n",
    "                        inplace=True)\n",
    "    df['Title'].replace({'Mlle': 'Miss', 'Ms': 'Miss', 'Mme': 'Mrs'},\n",
    "                        inplace=True)\n",
    "\n",
    "    df = pandas.concat([df, pandas.get_dummies(df['Sex'],\n",
    "                                               prefix='Sex')],\n",
    "                       axis=1)\n",
    "\n",
    "    df['Embarked'].fillna('S', inplace=True)\n",
    "\n",
    "    if use_dummies is True:\n",
    "        df = pandas.concat(\n",
    "            [df, pandas.get_dummies(df['Title'], prefix='Title')],\n",
    "            axis=1\n",
    "        )\n",
    "        df = pandas.concat(\n",
    "            [df, pandas.get_dummies(df['Embarked'], prefix='Embarked')],\n",
    "            axis=1\n",
    "        )\n",
    "        dropped_cols = ['PassengerId', 'Name', 'Ticket', 'Cabin',\n",
    "                        'Sex', 'Sex_male', 'Embarked', 'Embarked_C',\n",
    "                        'Title', 'Title_Rare']\n",
    "    else:\n",
    "        df['Title'].replace({'Master': 1, 'Miss': 2,\n",
    "                             'Mrs': 3, 'Mr': 4, 'Rare': 5},\n",
    "                            inplace=True)\n",
    "        df['Title'].fillna(0, inplace=True)\n",
    "        df['Embarked'].replace({'S': 0, 'Q': 1, 'C': 2}, inplace=True)\n",
    "        dropped_cols = ['PassengerId', 'Name', 'Ticket', 'Cabin',\n",
    "                        'Sex', 'Sex_male']\n",
    "\n",
    "    if dfgroup_age is None:\n",
    "        # Only at training\n",
    "        dfgroup_age = df.groupby('Title')['Age'].mean()\n",
    "    for title, age in dfgroup_age.items():\n",
    "        df.loc[(df.Age.isnull())&(df.Title == title), 'Age'] = age\n",
    "\n",
    "    if dfgroup_fare is None:\n",
    "        # Only at training\n",
    "        dfgroup_fare = df.groupby('Title')['Fare'].mean()\n",
    "    for title, fare in dfgroup_fare.items():\n",
    "        df.loc[(df.Fare.isnull())&(df.Title == title), 'Fare'] = fare\n",
    "\n",
    "    df.drop(columns=dropped_cols, inplace=True)\n",
    "    \n",
    "    # Generate mean and std, then standardize the specifed columns\n",
    "    if standardized_columns is not None:\n",
    "        if df_mean is None:\n",
    "            df_mean = df[standardized_columns].mean()\n",
    "        if df_std is None:\n",
    "            df_std = df[standardized_columns].std()\n",
    "        df[standardized_columns] -= df_mean\n",
    "        df[standardized_columns] /= df_std\n",
    "    return df, dfgroup_age, dfgroup_fare, df_mean, df_std"
   ]
  },
  {
   "cell_type": "markdown",
   "metadata": {},
   "source": [
    "# Part 2. No Regularization, No CV\n",
    "Without the duty of concerning the regularization parameter, the training procedure gets simpler.\n",
    "\n",
    "> Q. Honestly I am not sure to omit CV here.  \n",
    "> What would be the merit of CV for such simpler models, having no regularization parameters?\n",
    "\n",
    "## Split the Data for Validation\n",
    "\n",
    "The raw data are split into training and validation set for assessment of the model."
   ]
  },
  {
   "cell_type": "code",
   "execution_count": 8,
   "metadata": {},
   "outputs": [],
   "source": [
    "dftrain, dfval = sklearn.model_selection.train_test_split(\n",
    "    dftrain_full,\n",
    "    test_size=0.3,\n",
    "    random_state=0,\n",
    "    stratify=dftrain_full['Survived'],\n",
    ")"
   ]
  },
  {
   "cell_type": "markdown",
   "metadata": {},
   "source": [
    "## 1. Dummies or Not"
   ]
  },
  {
   "cell_type": "code",
   "execution_count": 9,
   "metadata": {},
   "outputs": [],
   "source": [
    "tr1Xy, tr1group_age, tr1group_fare, _, _ = preprocess(dftrain.copy())\n",
    "tr2Xy, tr2group_age, tr2group_fare, _, _ = preprocess(dftrain.copy(),\n",
    "                                                      use_dummies=False)\n",
    "tr1X = tr1Xy.drop(columns=['Survived'])\n",
    "tr1Y = tr1Xy['Survived']\n",
    "tr2X = tr2Xy.drop(columns=['Survived'])\n",
    "tr2Y = tr2Xy['Survived']\n",
    "\n",
    "# tr1Xy.head()\n",
    "# tr2Xy.head()"
   ]
  },
  {
   "cell_type": "code",
   "execution_count": 10,
   "metadata": {},
   "outputs": [],
   "source": [
    "# Prepare the validation data\n",
    "val1X, _, _, _, _ = preprocess(dfval.copy(), tr1group_age, tr1group_fare)\n",
    "val1Y = val1X['Survived']\n",
    "val1X.drop(columns=['Survived'], inplace=True)\n",
    "\n",
    "val2X, _, _, _, _ = preprocess(dfval.copy(), tr2group_age, tr2group_fare,\n",
    "                               use_dummies=False)\n",
    "val2Y = val2X['Survived']\n",
    "val2X.drop(columns=['Survived'], inplace=True)\n",
    "\n",
    "# val1X.head()\n",
    "# val2X.head()"
   ]
  },
  {
   "cell_type": "markdown",
   "metadata": {},
   "source": [
    "### Training and Validation\n",
    "\n",
    "Let's apply the simple logistic regression, and check the accuracy on the validation set."
   ]
  },
  {
   "cell_type": "code",
   "execution_count": 11,
   "metadata": {},
   "outputs": [
    {
     "name": "stdout",
     "output_type": "stream",
     "text": [
      "Validation accuracy (Dummies): 0.8283582089552239\n",
      "Validation accuracy (No dummies): 0.8208955223880597\n"
     ]
    }
   ],
   "source": [
    "# Set a very large value for the regularization parameter\n",
    "logistic1 = LogisticRegression(penalty='l2', C=1e50)\n",
    "logistic1.fit(tr1X, tr1Y)\n",
    "logistic1_pred = logistic1.predict(val1X)\n",
    "val1_accuracy = (logistic1_pred != val1Y.values).mean()\n",
    "\n",
    "logistic2 = LogisticRegression(penalty='l2', C=1e50)\n",
    "logistic2.fit(tr2X, tr2Y)\n",
    "logistic2_pred = logistic2.predict(val2X)\n",
    "val2_accuracy = (logistic2_pred != val2Y.values).mean()\n",
    "print('Validation accuracy (Dummies):', 1-val1_accuracy)\n",
    "print('Validation accuracy (No dummies):', 1-val2_accuracy)"
   ]
  },
  {
   "cell_type": "markdown",
   "metadata": {},
   "source": [
    "Oh, dummies do some help."
   ]
  },
  {
   "cell_type": "markdown",
   "metadata": {},
   "source": [
    "## 2. Standardize or Not\n",
    "\n",
    "I will use dummy variables from the above results.\n",
    "\n",
    "I found [there](https://www.quora.com/How-bad-is-it-to-standardize-dummy-variables) that the effect of standardization on dummy variables may be different case-by-case. So the goal is to check that effect for this Titanic data set. Therefore I conduct the experiment to standardize\n",
    "* nothing (already computed above),\n",
    "* only the numeric\n",
    "* all (the numeric + dummies)\n",
    "\n",
    "Then the similar training-and-validation cycle goes on."
   ]
  },
  {
   "cell_type": "code",
   "execution_count": 12,
   "metadata": {},
   "outputs": [],
   "source": [
    "columns_numeric = ['Pclass', 'Age', 'SibSp', 'Parch', 'Fare']\n",
    "columns_all = columns_numeric + [\n",
    "    'Sex_female', 'Title_Master', 'Title_Miss', 'Title_Mr', 'Title_Mrs',\n",
    "    'Embarked_Q', 'Embarked_S',\n",
    "]\n",
    "\n",
    "(tr3Xy,\n",
    " tr3group_age,\n",
    " tr3group_fare,\n",
    " tr3mean,\n",
    " tr3std) = preprocess(dftrain.copy(),\n",
    "                      standardized_columns=columns_numeric)\n",
    "(tr4Xy,\n",
    " tr4group_age,\n",
    " tr4group_fare,\n",
    " tr4mean,\n",
    " tr4std) = preprocess(dftrain.copy(),\n",
    "                      standardized_columns=columns_all)\n",
    "\n",
    "tr3X = tr3Xy.drop(columns=['Survived'])\n",
    "tr3Y = tr3Xy['Survived']\n",
    "tr4X = tr4Xy.drop(columns=['Survived'])\n",
    "tr4Y = tr4Xy['Survived']\n",
    "\n",
    "# print('Really standardized?\\n', tr3Xy.mean(), '\\n', tr3Xy.std())\n",
    "# print('Really standardized?\\n', tr4Xy.mean(), '\\n', tr4Xy.std())"
   ]
  },
  {
   "cell_type": "code",
   "execution_count": 13,
   "metadata": {},
   "outputs": [],
   "source": [
    "# Prepare the validation data\n",
    "val3X, _, _, _, _ = preprocess(dfval.copy(),\n",
    "                               tr3group_age, tr3group_fare,\n",
    "                               tr3mean, tr3std,\n",
    "                               standardized_columns=columns_numeric)\n",
    "val4X, _, _, _, _ = preprocess(dfval.copy(),\n",
    "                               tr4group_age, tr4group_fare,\n",
    "                               tr4mean, tr4std,\n",
    "                               standardized_columns=columns_all)\n",
    "\n",
    "val3Y = val3X['Survived']\n",
    "val3X.drop(columns=['Survived'], inplace=True)\n",
    "val4Y = val4X['Survived']\n",
    "val4X.drop(columns=['Survived'], inplace=True)\n",
    "\n",
    "# val3X.head()\n",
    "# val4X.head()"
   ]
  },
  {
   "cell_type": "code",
   "execution_count": 14,
   "metadata": {},
   "outputs": [
    {
     "name": "stdout",
     "output_type": "stream",
     "text": [
      "Validation accuracy (Standardized numeric variables): 0.8283582089552239\n",
      "Validation accuracy (All standardized): 0.8283582089552239\n"
     ]
    }
   ],
   "source": [
    "logistic3 = LogisticRegression(penalty='l2', C=1e50)\n",
    "logistic3.fit(tr3X, tr3Y)\n",
    "logistic3_pred = logistic3.predict(val3X)\n",
    "val3_accuracy = (logistic3_pred != val3Y.values).mean()\n",
    "\n",
    "logistic4 = LogisticRegression(penalty='l2', C=1e50)\n",
    "logistic4.fit(tr4X, tr4Y)\n",
    "logistic4_pred = logistic4.predict(val4X)\n",
    "val4_accuracy = (logistic4_pred != val4Y.values).mean()\n",
    "print('Validation accuracy (Standardized numeric variables):', 1-val3_accuracy)\n",
    "print('Validation accuracy (All standardized):', 1-val4_accuracy)"
   ]
  },
  {
   "cell_type": "markdown",
   "metadata": {},
   "source": [
    "Unfortunately, the standardization shows no effect here. So I continue with regularization."
   ]
  },
  {
   "cell_type": "markdown",
   "metadata": {},
   "source": [
    "# Part 3. Regularization with Cross-Validation\n",
    "\n",
    "So far our experiments did not give any implication on standardization. However I continue to test it with more general situation, by adding the regularization.\n",
    "\n",
    "I use the cross-validation technique for catching the best regularization parameter $\\lambda$. I leave the reference from scikit-learn [here](http://scikit-learn.org/stable/modules/cross_validation.html) and [there](http://scikit-learn.org/stable/modules/grid_search.html)."
   ]
  },
  {
   "cell_type": "markdown",
   "metadata": {},
   "source": [
    "## 1. Dummies or Not"
   ]
  },
  {
   "cell_type": "code",
   "execution_count": 15,
   "metadata": {},
   "outputs": [],
   "source": [
    "tr5Xy, _, _, _, _ = preprocess(dftrain_full.copy())\n",
    "tr6Xy, _, _, _, _ = preprocess(dftrain_full.copy(), use_dummies=False)\n",
    "\n",
    "tr5X = tr5Xy.drop(columns=['Survived'])\n",
    "tr5y = tr5Xy['Survived']\n",
    "tr6X = tr6Xy.drop(columns=['Survived'])\n",
    "tr6y = tr6Xy['Survived']\n",
    "\n",
    "logistic5 = LogisticRegressionCV(penalty='l2', Cs=100, cv=10)\n",
    "logistic6 = LogisticRegressionCV(penalty='l2', Cs=100, cv=10)\n",
    "\n",
    "logistic5.fit(tr5X, tr5y)\n",
    "logistic6.fit(tr6X, tr6y)\n",
    "\n",
    "val5accuracy = logistic5.scores_[1]\n",
    "val6accuracy = logistic6.scores_[1]"
   ]
  },
  {
   "cell_type": "code",
   "execution_count": 16,
   "metadata": {},
   "outputs": [
    {
     "data": {
      "text/plain": [
       "Text(0.5,1,'LogisticRegressionCV')"
      ]
     },
     "execution_count": 16,
     "metadata": {},
     "output_type": "execute_result"
    },
    {
     "data": {
      "image/png": "[encoded data removed]",
      "text/plain": [
       "<Figure size 432x288 with 1 Axes>"
      ]
     },
     "metadata": {},
     "output_type": "display_data"
    }
   ],
   "source": [
    "# Plot\n",
    "fig1 = plt.figure(1)\n",
    "ax1 = fig1.add_subplot(1, 1, 1)\n",
    "ax1.semilogx(logistic5.Cs_, val5accuracy.mean(axis=0), label='With dummies')\n",
    "ax1.semilogx(logistic6.Cs_, val6accuracy.mean(axis=0), label='No dummies')\n",
    "ax1.set_xlabel('Regularization')\n",
    "ax1.set_ylabel('Accuracy')\n",
    "ax1.legend()\n",
    "ax1.set_title('LogisticRegressionCV')"
   ]
  },
  {
   "cell_type": "markdown",
   "metadata": {},
   "source": [
    "Again, dummies do good."
   ]
  },
  {
   "cell_type": "markdown",
   "metadata": {},
   "source": [
    "## 2. Standardize or Not\n",
    "\n",
    "Since it is confirmed that dummies do help, I will use dummy variables for the next experiment."
   ]
  },
  {
   "cell_type": "code",
   "execution_count": 17,
   "metadata": {},
   "outputs": [],
   "source": [
    "# https://stackoverflow.com/questions/20625582\n",
    "pandas.options.mode.chained_assignment = None\n",
    "\n",
    "\n",
    "class CustomScaler(sklearn.base.TransformerMixin):\n",
    "    \"\"\"This standardizes only specified variables.\n",
    "    Reference: https://stackoverflow.com/questions/37685412\n",
    "    \"\"\"\n",
    "    def __init__(self, columns):\n",
    "        self.columns = columns\n",
    "        self.scaler = sklearn.preprocessing.StandardScaler()\n",
    "        \n",
    "    def fit(self, X, y):\n",
    "        self.scaler.fit(X[self.columns], y)\n",
    "        return self\n",
    "    \n",
    "    def transform(self, X):\n",
    "        X.loc[:, self.columns] = self.scaler.transform(X[self.columns])\n",
    "        return X"
   ]
  },
  {
   "cell_type": "code",
   "execution_count": 18,
   "metadata": {},
   "outputs": [],
   "source": [
    "# Only the numeric standardized\n",
    "pipe7 = sklearn.pipeline.make_pipeline(\n",
    "    CustomScaler(columns=['Age', 'SibSp', 'Parch', 'Fare']),\n",
    "    LogisticRegressionCV(penalty='l2', Cs=100, cv=10)\n",
    ")\n",
    "# All standardized\n",
    "pipe8 = sklearn.pipeline.make_pipeline(\n",
    "    sklearn.preprocessing.StandardScaler(),\n",
    "    LogisticRegressionCV(penalty='l2', Cs=100, cv=10)\n",
    ")\n",
    "tr7Xy, _, _, _, _ = preprocess(dftrain_full.copy())\n",
    "tr7X = tr7Xy.drop(columns=['Survived'])\n",
    "tr7y = tr7Xy['Survived']\n",
    "\n",
    "pipe7.fit(tr7X, tr7y)\n",
    "pipe8.fit(tr7X, tr7y)\n",
    "\n",
    "# Access LogisticRegressionCV classes from pipelines\n",
    "logistic7 = pipe7.steps[1][1]\n",
    "logistic8 = pipe8.steps[1][1]\n",
    "\n",
    "# Get the raw CV results (cv x Cs ndarrays)\n",
    "val7accuracy = logistic7.scores_[1]\n",
    "val8accuracy = logistic8.scores_[1]"
   ]
  },
  {
   "cell_type": "code",
   "execution_count": 19,
   "metadata": {},
   "outputs": [
    {
     "data": {
      "text/plain": [
       "Text(0.5,1,'LogisticRegressionCV with Dummies')"
      ]
     },
     "execution_count": 19,
     "metadata": {},
     "output_type": "execute_result"
    },
    {
     "data": {
      "image/png": "[encoded data removed]",
      "text/plain": [
       "<Figure size 432x288 with 1 Axes>"
      ]
     },
     "metadata": {},
     "output_type": "display_data"
    }
   ],
   "source": [
    "# Plot\n",
    "fig2 = plt.figure(2)\n",
    "ax2 = fig2.add_subplot(1, 1, 1)\n",
    "ax2.semilogx(logistic5.Cs_, val5accuracy.mean(axis=0), label='None')\n",
    "ax2.semilogx(logistic7.Cs_, val7accuracy.mean(axis=0), label='Numeric')\n",
    "ax2.semilogx(logistic8.Cs_, val8accuracy.mean(axis=0), label='All')\n",
    "ax2.set_xlabel('Regularization')\n",
    "ax2.set_ylabel('Accuracy')\n",
    "ax2.legend()\n",
    "ax2.set_title('LogisticRegressionCV with Dummies')"
   ]
  },
  {
   "cell_type": "markdown",
   "metadata": {},
   "source": [
    "I see from this figure that \"Standardize-all\" strategy is better than others."
   ]
  },
  {
   "cell_type": "markdown",
   "metadata": {},
   "source": [
    "# Final Tests\n",
    "\n",
    "I will pass the final test data to every model that trained so far. To list them,\n",
    "* `logistic1`: No regularization, no CV, with dummies, no standardization\n",
    "* `logistic2`: No regularization, no CV, no dummies, no standardization\n",
    "* `logistic3`: No regularization, no CV, with dummies, standardized numeric variables\n",
    "* `logistic4`: No regularization, no CV, with dummies, all standardized\n",
    "* `logistic5`: Regularization with CV, with dummies, no standardization\n",
    "* `logistic6`: Regularization with CV, no dummies, no standardization\n",
    "* `pipe7`: Regularization with CV, with dummies, standardized numeric variables\n",
    "* `pipe8`: Regularization with CV, with dummies, all standardized"
   ]
  },
  {
   "cell_type": "code",
   "execution_count": 20,
   "metadata": {},
   "outputs": [],
   "source": [
    "# Read the test data\n",
    "dftest = pandas.read_csv('../data/titanic/test.csv')\n",
    "\n",
    "# Generating-csv function for the submission\n",
    "def submit(dftest: pandas.DataFrame, pred: scipy.ndarray, csv_fname: str)->None:\n",
    "    dfsubmit = pandas.DataFrame(data={'PassengerId': dftest['PassengerId'],\n",
    "                                      'Survived': pred})\n",
    "    dfsubmit.to_csv(f'../data/titanic/{csv_fname}', index=False)"
   ]
  },
  {
   "cell_type": "code",
   "execution_count": 21,
   "metadata": {},
   "outputs": [],
   "source": [
    "# The first round, plain logistic regression models without CV\n",
    "te1X, _, _, _, _ = preprocess(dftest.copy(), tr1group_age, tr1group_fare)\n",
    "pred1 = logistic1.predict(te1X)\n",
    "submit(dftest, pred1, 'logistic1.csv')\n",
    "\n",
    "te2X, _, _, _, _ = preprocess(dftest.copy(), tr2group_age, tr2group_fare,\n",
    "                              use_dummies=False)\n",
    "pred2 = logistic2.predict(te2X)\n",
    "submit(dftest, pred2, 'logistic2.csv')\n",
    "\n",
    "te3X, _, _, _, _ = preprocess(dftest.copy(),\n",
    "                              tr3group_age, tr3group_fare,\n",
    "                              tr3mean, tr3std,\n",
    "                              standardized_columns=columns_numeric)\n",
    "pred3 = logistic3.predict(te3X)\n",
    "submit(dftest, pred3, 'logistic3.csv')\n",
    "\n",
    "te4X, _, _, _, _ = preprocess(dftest.copy(),\n",
    "                              tr4group_age, tr4group_fare,\n",
    "                              tr4mean, tr4std,\n",
    "                              standardized_columns=columns_all)\n",
    "pred4 = logistic4.predict(te4X)\n",
    "submit(dftest, pred4, 'logistic4.csv')"
   ]
  },
  {
   "cell_type": "code",
   "execution_count": 22,
   "metadata": {},
   "outputs": [],
   "source": [
    "# The second round, regularization with CV\n",
    "te5X, _, _, _, _ = preprocess(dftest.copy())\n",
    "pred5 = logistic5.predict(te5X)\n",
    "submit(dftest, pred5, 'logistic5.csv')\n",
    "\n",
    "te6X, _, _, _, _ = preprocess(dftest.copy(), use_dummies=False)\n",
    "pred6 = logistic6.predict(te6X)\n",
    "submit(dftest, pred6, 'logistic6.csv')\n",
    "\n",
    "pred7 = pipe7.predict(te5X)\n",
    "submit(dftest, pred7, 'logistic7.csv')\n",
    "\n",
    "pred8 = pipe8.predict(te5X)\n",
    "submit(dftest, pred8, 'logistic8.csv')"
   ]
  },
  {
   "cell_type": "markdown",
   "metadata": {},
   "source": [
    "> Q. Coding such experiments makes me duplicated works. I think it is not a fault of scikit-learn, and it seems quite inevitable. I am curious of how others do such things.\n",
    "\n",
    "# Results\n",
    "\n",
    "Note that the demo `gender_submission.csv` provided by Kaggle gave me 76.555%.\n",
    "\n",
    " | Plain | Regularization\n",
    "---| --- | ---\n",
    "No dummies, No std | 76.555% | 76.076%\n",
    "Dummies, No std | 78.947% | 78.468%\n",
    "Dummies, Numeric std | 78.947% | 78.468%\n",
    "Dummies, All std | 78.947% | 78.468%\n",
    "\n",
    "\n",
    "## What I learned\n",
    "\n",
    "Feeling bad to say, but I couldn't say any implication from this experiments.\n",
    "\n",
    "* Dummies surely help to make the model better.\n",
    "* I need to compare with more complex models!  \n",
    "  I am not sure but simpler models may be robust on scaling or standardization.  \n",
    "  > Q. Really?\n",
    "* Plotting with CV makes me feel comfortable to visually compare some models.  \n",
    "  But from the final test results, I may say that it does no help sometimes.\n",
    "\n",
    "Any feedback, suggestion, pointing my mistakes is welcome."
   ]
  }
 ],
 "metadata": {
  "kernelspec": {
   "display_name": "Python 3",
   "language": "python",
   "name": "python3"
  },
  "language_info": {
   "codemirror_mode": {
    "name": "ipython",
    "version": 3
   },
   "file_extension": ".py",
   "mimetype": "text/x-python",
   "name": "python",
   "nbconvert_exporter": "python",
   "pygments_lexer": "ipython3",
   "version": "3.6.4"
  }
 },
 "nbformat": 4,
 "nbformat_minor": 2
}
