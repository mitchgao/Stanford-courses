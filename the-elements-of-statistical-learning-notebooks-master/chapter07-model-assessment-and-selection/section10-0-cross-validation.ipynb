{
 "cells": [
  {
   "cell_type": "markdown",
   "metadata": {},
   "source": [
    "# $\\S$ 7.10. Cross-Validation\n",
    "\n",
    "Probably the simplest and most widely used method for estimating prediction error is cross-validation. This method directly estimates the expected extra-sample error\n",
    "\n",
    "\\begin{equation}\n",
    "\\text{Err} = \\text{E}\\left[ L(Y, \\hat{f}(X)) \\right],\n",
    "\\end{equation}\n",
    "\n",
    "the average generalization error when the method $\\hat{f}(X)$ is applied to an independent test sample from the joint distribution of $X$ and $Y$."
   ]
  },
  {
   "cell_type": "markdown",
   "metadata": {},
   "source": [
    "As mentioned earlier, we might hope that cross-validation estimates the conditional error, with the training set $\\mathcal{T}$ held fixed. But as we will see in $\\S$ 7.12, cross-validation typically estimates well only the expected prediction error."
   ]
  }
 ],
 "metadata": {
  "kernelspec": {
   "display_name": "Python 3",
   "language": "python",
   "name": "python3"
  },
  "language_info": {
   "codemirror_mode": {
    "name": "ipython",
    "version": 3
   },
   "file_extension": ".py",
   "mimetype": "text/x-python",
   "name": "python",
   "nbconvert_exporter": "python",
   "pygments_lexer": "ipython3",
   "version": "3.6.4"
  }
 },
 "nbformat": 4,
 "nbformat_minor": 2
}
