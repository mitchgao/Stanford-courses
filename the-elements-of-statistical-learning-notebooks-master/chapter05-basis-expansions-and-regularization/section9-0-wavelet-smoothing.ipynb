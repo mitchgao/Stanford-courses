{
 "cells": [
  {
   "cell_type": "markdown",
   "metadata": {},
   "source": [
    "# $\\S$ 5.9. Wavelet Smoothing\n",
    "\n",
    "We have seen two different modes of operation with dictionaries of basis function.\n",
    "* With regression splines, we select a subset of the bases, using either subject-matter knowledge, or else automatically. The more adaptive procedures such as MARS (Chapter 9) can capture both smooth and non-smooth behaviour.\n",
    "* With smooth splines, we use a complete basis, but then shrink the coefficients toward smoothness."
   ]
  },
  {
   "cell_type": "markdown",
   "metadata": {},
   "source": [
    "### Sparse representation\n",
    "\n",
    "Wavelets typically use a complete orthonormal basis to represent functions, but then shrink and select the coefficients toward a _sparse_ representation. Just as a smooth function can be represented by a few spline basis functions, a mostly flat function with a few isolated bumps can be represented with a few (bumpy) basis function."
   ]
  },
  {
   "cell_type": "markdown",
   "metadata": {},
   "source": [
    "### Time and frequency localization\n",
    "\n",
    "Wavelets bases are very popular in signal processing and compression, since they are able to represent both smooth and/or locally bumpy functions in an efficient way -- a phenomenon dubbed _time and frequency localization_. In contrast, the traditional Fourier basis allows only frequency localization."
   ]
  },
  {
   "cell_type": "markdown",
   "metadata": {},
   "source": [
    "### Introduction\n",
    "\n",
    "Before we give details, let's look at the Haar wavelets in the left panel of FIGURE 5.16 to get an intuitive idea of how wavelet smoothing works.\n",
    "\n",
    "The vertical axis indicates the scale (frequency) of the wavelets, from low scale at the bottom to high scale at the top. At each scale the wavelets are \"packed in\" side-by-side to completely fill the time axis: We have only shown a selected subset.\n",
    "\n",
    "Wavelet smoothing fits the coefficients for this basis by least squares, and then thresholds (discards, filters) the smaller coefficients. Since there are many basis functions at each scale, it can use bases where it needs them and discard the unnecessary ones, to achieve time and frequency localization. The Haar wavelets are simple to understand, but not smooth enought for most purposes. The _symmlet_ wavelets in the right panel of FIGURE 5.16 have the same orthonormal properties, but are smoother."
   ]
  },
  {
   "cell_type": "markdown",
   "metadata": {},
   "source": [
    "### Nuclear magnetic resonance (NMR) data\n",
    "\n",
    "FIGURE 5.17 displays an NMR signal, which appears to be composed of\n",
    "* smooth components and\n",
    "* isolated spikes,\n",
    "* plus some noise.\n",
    "\n",
    "The wavelet transform, using a symmlet basis, is shown in the lower left panel. The wavelet coefficients are arranged in rows, from lowest scale at the bottom to highest scale at the top.\n",
    "\n",
    "The bottom right panel shows the wavelet coefficients after thresholding. The thresholding procedure is the same soft-thresholding rule that arises in the lasso procedure for linear regression ($\\S$ 3.4.2).\n",
    "\n",
    "Notice that many of the smaller coefficients have been set to zero. The green curve in the top panel shows the back-transform of the thresholded coefficients: This is the smoothed version of the orignal signal."
   ]
  },
  {
   "cell_type": "code",
   "execution_count": 1,
   "metadata": {},
   "outputs": [
    {
     "name": "stdout",
     "output_type": "stream",
     "text": [
      "Data not found on the official ESL page ):\n"
     ]
    }
   ],
   "source": [
    "\"\"\"FIGURE 5.17\"\"\"\n",
    "print('Data not found on the official ESL page ):')"
   ]
  }
 ],
 "metadata": {
  "kernelspec": {
   "display_name": "Python 3",
   "language": "python",
   "name": "python3"
  },
  "language_info": {
   "codemirror_mode": {
    "name": "ipython",
    "version": 3
   },
   "file_extension": ".py",
   "mimetype": "text/x-python",
   "name": "python",
   "nbconvert_exporter": "python",
   "pygments_lexer": "ipython3",
   "version": "3.6.4"
  }
 },
 "nbformat": 4,
 "nbformat_minor": 2
}
