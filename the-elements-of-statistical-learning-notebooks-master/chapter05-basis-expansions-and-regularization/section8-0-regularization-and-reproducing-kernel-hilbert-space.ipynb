{
 "cells": [
  {
   "cell_type": "markdown",
   "metadata": {},
   "source": [
    "# $\\S$ 5.8. Regularization and Reproducing Kernel Hilbert Spaces\n",
    "\n",
    "### Formulation\n",
    "\n",
    "A general class of regularization problems has the form\n",
    "\n",
    "\\begin{equation}\n",
    "\\min_{f\\in\\mathcal{H}} \\left[ \\sum_{i=1}^N L(y_i, f(x_i)) + \\lambda J(f) \\right],\n",
    "\\end{equation}\n",
    "\n",
    "where\n",
    "* $L(y, f(x))$ is a loss function,\n",
    "* $J(f)$ is a penalty functional, and\n",
    "* $\\mathcal{H}$ is a space of functions on which $J(f)$ is defined.\n",
    "\n",
    "Girosi et al. (1995) describe quite general penalty functionals of the form\n",
    "\n",
    "\\begin{equation}\n",
    "J(f) = \\int_{\\mathbb{R}^d} \\frac{|\\tilde{f}(s)|^2}{\\tilde{G}(s)} ds,\n",
    "\\end{equation}\n",
    "\n",
    "where\n",
    "* $\\tilde{f}$ denotes the Fourier transform of $f$,\n",
    "* $\\tilde{G}$ is some positive function that $\\tilde{G} \\rightarrow 0$ as $\\|s\\| \\rightarrow \\infty$, and\n",
    "* the idea is that $1/\\tilde{G}$ increases the penalty for high-frequency components of $f$."
   ]
  },
  {
   "cell_type": "markdown",
   "metadata": {},
   "source": [
    "### Solution\n",
    "\n",
    "Under some additional assumptions they show that the solutions have the form\n",
    "\n",
    "\\begin{equation}\n",
    "f(X) = \\sum_{k=1}^K \\alpha_k\\phi_k(X) + \\sum_{i=1}^N \\theta_i G(X-x_i),\n",
    "\\end{equation}\n",
    "\n",
    "where\n",
    "* $\\phi_k$ span the null space of the penalty functional $J$, \n",
    "* $G$ is the inverse Fourier transform of $\\tilde{G}$.\n",
    "\n",
    "Smoothing splines and thin-plate splines fall into this framework.\n",
    "\n",
    "> The remarkable feature of this solution is that while the criterion is defined over an infinite-dimensional space, the solution is finite-dimensional."
   ]
  }
 ],
 "metadata": {
  "kernelspec": {
   "display_name": "Python 3",
   "language": "python",
   "name": "python3"
  },
  "language_info": {
   "codemirror_mode": {
    "name": "ipython",
    "version": 3
   },
   "file_extension": ".py",
   "mimetype": "text/x-python",
   "name": "python",
   "nbconvert_exporter": "python",
   "pygments_lexer": "ipython3",
   "version": "3.6.4"
  }
 },
 "nbformat": 4,
 "nbformat_minor": 2
}
