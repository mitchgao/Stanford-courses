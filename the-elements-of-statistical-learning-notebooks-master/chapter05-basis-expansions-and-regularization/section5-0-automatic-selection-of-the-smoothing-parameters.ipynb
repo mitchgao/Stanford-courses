{
 "cells": [
  {
   "cell_type": "markdown",
   "metadata": {},
   "source": [
    "# $\\S$ 5.5. Automatic Selection of the Smoothing Parameters\n",
    "\n",
    "> Selecting the placement and number of knots for regression splines can be a combinatorially complex task, and we will not discuss this further here.\n",
    "\n",
    "The smoothing parameters for regression splines encompass the degree of the splines, and the number and placement of the knots. For splines, we have only the penalty parameter $\\lambda$ to select, since the knots are at all the unique training $X$'s, and cubic degree is almost always used in practice.\n",
    "\n",
    "Selecting the placement and number of knots for regression splines can be a combinatorially complex task, unless some simplifications are enforced. The MARS procedure (in Chapter 9) uses a greedy algorithm with some additional approximations to achieve a practical compromise. We will not discuss this further here."
   ]
  }
 ],
 "metadata": {
  "kernelspec": {
   "display_name": "Python 3",
   "language": "python",
   "name": "python3"
  },
  "language_info": {
   "codemirror_mode": {
    "name": "ipython",
    "version": 3
   },
   "file_extension": ".py",
   "mimetype": "text/x-python",
   "name": "python",
   "nbconvert_exporter": "python",
   "pygments_lexer": "ipython3",
   "version": "3.6.4"
  }
 },
 "nbformat": 4,
 "nbformat_minor": 2
}
