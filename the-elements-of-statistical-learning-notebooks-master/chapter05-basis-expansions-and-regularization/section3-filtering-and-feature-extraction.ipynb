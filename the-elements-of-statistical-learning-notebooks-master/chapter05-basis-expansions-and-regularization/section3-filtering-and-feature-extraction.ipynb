{
 "cells": [
  {
   "cell_type": "markdown",
   "metadata": {},
   "source": [
    "# $\\S$ 5.3. Filtering and Feature Extraction\n",
    "\n",
    "### Review of the phoneme example\n",
    "\n",
    "In the previous example, we constructed a $p \\times M$ basis matrix $\\mathbf{H}$, and then transformed our features $x$ into new features\n",
    "\n",
    "\\begin{equation}\n",
    "x^* = \\mathbf{H}^T x.\n",
    "\\end{equation}\n",
    "\n",
    "These filtered versions of the features were then used as inputs into a learning procedure: In the previous example, this was linear logistic regression."
   ]
  },
  {
   "cell_type": "markdown",
   "metadata": {},
   "source": [
    "### Nonlinear or linear preprocessing of features\n",
    "\n",
    "Preprocessing of high-dimensional features is a very general and powerful method for improving the performance of a learning algorithm. The preprocessing need not be linear as it was above, but can be a general (nonlinear) function of the form\n",
    "\n",
    "\\begin{equation}\n",
    "x^* = g(x)\n",
    "\\end{equation}\n",
    "\n",
    "The derived features $x^*$ can then be used as inputs into any (linear of nonlinear) learning procedure."
   ]
  },
  {
   "cell_type": "markdown",
   "metadata": {},
   "source": [
    "### Example: Wavelet and neural network\n",
    "\n",
    "For example, for signal or image recognition a popular approach is to first transform the raw features via a wavelet transform ($\\S$ 5.9) and then use the features as inputs into a neural network (Chapter 11).\n",
    "\n",
    "Wavelets are effective in capturing discrete jumps or edges, and the neural network is a powerful tool for constructing nonlinear functions of these features for predicting the target variable. By using domain knowledge to construct appropriate features, one can often improve upon a learning method that has only the raw features $x$ at its disposal."
   ]
  }
 ],
 "metadata": {
  "kernelspec": {
   "display_name": "Python 3",
   "language": "python",
   "name": "python3"
  },
  "language_info": {
   "codemirror_mode": {
    "name": "ipython",
    "version": 3
   },
   "file_extension": ".py",
   "mimetype": "text/x-python",
   "name": "python",
   "nbconvert_exporter": "python",
   "pygments_lexer": "ipython3",
   "version": "3.6.4"
  }
 },
 "nbformat": 4,
 "nbformat_minor": 2
}
