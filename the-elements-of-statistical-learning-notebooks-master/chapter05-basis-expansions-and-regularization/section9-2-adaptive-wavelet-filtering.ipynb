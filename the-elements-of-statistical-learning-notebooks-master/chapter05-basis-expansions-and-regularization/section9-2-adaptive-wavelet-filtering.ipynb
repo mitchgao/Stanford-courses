{
 "cells": [
  {
   "cell_type": "markdown",
   "metadata": {},
   "source": [
    "## $\\S$ 5.9.2. Adaptive Wavelet Filtering\n",
    "\n",
    "Wavelets are particular useful when the data are measured on a uniform lattice, such as a discretized signal, image, or a time series. We will focus on the one-dimensional case, and having $N=2^J$ lattice-points is convenient.\n",
    "\n",
    "Suppose\n",
    "* $\\mathbf{y}$ is the response vector,\n",
    "* $\\mathbf{W}$ is the $N \\times N$ orthonormal wavelet basis matrix evaluated at the $N$ uniformly spaced observations.\n",
    "\n",
    "Then\n",
    "\n",
    "\\begin{equation}\n",
    "\\mathbf{y}^* = \\mathbf{W}^T\\mathbf{y}\n",
    "\\end{equation}\n",
    "\n",
    "is called the _wavelet transform_ of $\\mathbf{y}$ (and is the full least squares regression coefficients)."
   ]
  },
  {
   "cell_type": "markdown",
   "metadata": {},
   "source": [
    "A popular method for adaptive wavelet fitting is known as _SURE shrinkage_ (Stein Unbiased Risk Estimation, Donoho and Johnstone, 1994). We start with the criterion\n",
    "\n",
    "\\begin{equation}\n",
    "\\min_{\\boldsymbol\\theta} \\|\\mathbf{y} - \\mathbf{W}\\boldsymbol\\theta\\|_2^2 + 2\\lambda\\|\\boldsymbol\\theta\\|_1,\n",
    "\\end{equation}\n",
    "\n",
    "which is the same as the lasso criterion in Chapter 3.\n",
    "\n",
    "Because $\\mathbf{W}$ is orthonormal, this leads to the simple solution:\n",
    "\n",
    "\\begin{equation}\n",
    "\\hat\\theta_j = \\text{sign}(y_j^*)(|y_j^*|-\\lambda)_+.\n",
    "\\end{equation}\n",
    "\n",
    "The least squares coefficients are translated toward zero, and truncated at zero. The fitted function (vector) is then given by the _inverse wavelet transform_\n",
    "\n",
    "\\begin{equation}\n",
    "\\hat{\\mathbf{f}} = \\mathbf{W}\\hat{\\boldsymbol\\theta}\n",
    "\\end{equation}"
   ]
  },
  {
   "cell_type": "markdown",
   "metadata": {},
   "source": [
    "### Choice of $\\lambda$\n",
    "\n",
    "A simple choice of $\\lambda$ is\n",
    "\n",
    "\\begin{equation}\n",
    "\\lambda = \\sigma\\sqrt{2\\log N},\n",
    "\\end{equation}\n",
    "\n",
    "where $\\sigma$ is an estimate of the standard deviation of the noise.\n",
    "\n",
    "#### Motivation for this choice\n",
    "\n",
    "Since $\\mathbf{W}$ is an orthonormal transformation, if the elements of $\\mathbf{y}$ are white noise (independent Gaussian variates with mean 0 and variance $\\sigma^2$), then so are $\\mathbf{y}^*$. Furthermore if random variables $Z_1, Z_2, \\cdots, Z_N$ are white noise, the expected maximum $|Z_j|$ for $j=1,\\cdots,N$ is approximately $\\sigma\\sqrt{2\\log N}$. Hence all coefficients below $\\sigma\\sqrt{2\\log N}$ are likely to be noise and are set to zero.\n",
    "\n"
   ]
  },
  {
   "cell_type": "markdown",
   "metadata": {},
   "source": [
    "### Choice of $\\mathbf{W}$\n",
    "\n",
    "The space $\\mathbf{W}$ could be any basis of orthonormal functions: Polynomials, natural splines or cosinusoids. What makes wavelets special is the particular form of basis functions used, which allows for a representation _localized in time and in frequency_."
   ]
  },
  {
   "cell_type": "markdown",
   "metadata": {},
   "source": [
    "### NMR signal revisited"
   ]
  },
  {
   "cell_type": "markdown",
   "metadata": {},
   "source": [
    "### Similarity between SURE and smoothing spline criteria\n",
    "\n",
    "* Both are hierarchically structured from coarse to fine detail, although wavelets are also localized in time within each resolution level.\n",
    "* The splines build in a basis toward smooth functions by imposing differential shrinking constants $d_k$. Early version of SURE shrinkage treated all scales equally.\n",
    "* The spline $L_2$ penalty cause pure shrinkage, while the SURE $L_1$ penalty does shrinkage and selection.\n",
    "\n",
    "More generally smoothing splines achieve compression of the original signal by imposing smoothness, while wavelets impose sparsity. FIGURE 5.19 compares a wavelet fit (using SURE shrinkage) to a smoothing spline fit (using corss-validation) on two examples different in nature.\n",
    "\n",
    "For the NMR data in the upper panel, the smoothing spline introducees detail everywhere in order to capture the detail in the isolated spike; the wavelet fit nicely localizes the spike. In the lower panel, the true function is smooth, and the noise is relatively high. The wavelet fit has let in some additional and unnecessary wiggles -- a price it pays in variance for the additional adaptivity."
   ]
  },
  {
   "cell_type": "code",
   "execution_count": 1,
   "metadata": {},
   "outputs": [
    {
     "name": "stdout",
     "output_type": "stream",
     "text": [
      "Under construction ...\n"
     ]
    }
   ],
   "source": [
    "\"\"\"FIGURE 5.19. Wavelet smoothing compared with smoothing splines on two examples.\n",
    "Each panel compares the SURE-shrunk wavelet fit to the cross-validated smoothing spline fit.\"\"\"\n",
    "print('Under construction ...')"
   ]
  },
  {
   "cell_type": "markdown",
   "metadata": {},
   "source": [
    "### Computational aspects\n",
    "\n",
    "The wavelet transform is not performed by matrix multiplication as in\n",
    "\n",
    "\\begin{equation}\n",
    "\\mathbf{y}^* = \\mathbf{W}^T\\mathbf{y}.\n",
    "\\end{equation}\n",
    "\n",
    "In fact, using clever pyramidal schemes $\\mathbf{y}^*$ can be obtained in $O(N)$ computations, which is even faster than the $N\\log(N)$ of the FFT. It is easy to see for the Haar basis (Exercise 5.19). Likewise, the inverse wavelet transform $\\mathbf{W}\\hat{\\boldsymbol\\theta}$ is also $O(N)$."
   ]
  },
  {
   "cell_type": "markdown",
   "metadata": {},
   "source": [
    "This has been a very brief glimpse of this vast and growing field. There is a very large mathematical and computational base built on wavelets. Modern image compression is often performed using two-dimensional wavelet representations."
   ]
  }
 ],
 "metadata": {
  "kernelspec": {
   "display_name": "Python 3",
   "language": "python",
   "name": "python3"
  },
  "language_info": {
   "codemirror_mode": {
    "name": "ipython",
    "version": 3
   },
   "file_extension": ".py",
   "mimetype": "text/x-python",
   "name": "python",
   "nbconvert_exporter": "python",
   "pygments_lexer": "ipython3",
   "version": "3.6.4"
  }
 },
 "nbformat": 4,
 "nbformat_minor": 2
}
