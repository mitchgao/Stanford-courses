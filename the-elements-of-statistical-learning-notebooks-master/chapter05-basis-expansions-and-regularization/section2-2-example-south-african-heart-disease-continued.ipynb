{
 "cells": [
  {
   "cell_type": "markdown",
   "metadata": {},
   "source": [
    "## $\\S$ 5.2.2. Example: South African Heart Disease (Continued)\n",
    "\n",
    "In $\\S$ 4.4.2 we fit linear logistic regression models to the South African heart disease data. Here we explore nonlinearities in the functions using natural splines.\n",
    "\n",
    "The functional form of the model is\n",
    "\n",
    "\\begin{equation}\n",
    "\\text{logit}\\left[ \\text{Pr}(\\textsf{chd}|X) \\right] = \\theta_0 + h_1(X_1)^T\\theta_1 + h_2(X_2)^T\\theta_2 + \\cdots + h_p(X_p)^T\\theta_p,\n",
    "\\end{equation}\n",
    "\n",
    "where each of the $\\theta_j$ are vectors of coefficients multiplying their associated vector of natural spline basis functions $h_j$."
   ]
  },
  {
   "cell_type": "markdown",
   "metadata": {},
   "source": [
    "### Transformation in a whole\n",
    "\n",
    "We can combine all $p$ vectors of basis functions (and the constant term) into one big vector $h(X)$, and then the model is simply\n",
    "\n",
    "\\begin{equation}\n",
    "h(X)^T\\theta,\n",
    "\\end{equation}\n",
    "\n",
    "with total number of parameters\n",
    "\n",
    "\\begin{equation}\n",
    "\\text{df} = \\sum_{j=1}^p \\text{df}_j.\n",
    "\\end{equation}\n",
    "\n",
    "Each basis function is evaluated at each of the $N$ samples, resulting in a $N \\times \\text{df}$ basis matrix $\\mathbf{H}$. At this point the model is like any other linear logistic model, and the algorithms described in $\\S$ 4.4.1 apply."
   ]
  },
  {
   "cell_type": "markdown",
   "metadata": {},
   "source": [
    "### Backward stepwise process\n",
    "\n",
    "We carried out a backward stepwise deletion process, dropping terms from this model while preserving the group structure of each term, rather than dropping one coefficient at a time. The AIC statistic ($\\S$ 7.5) was used to drop terms, and all the terms remaining in the final model would cause AIC to increase if deleted from the model (see TABLE 5.1).\n",
    "\n",
    "FIGURE 5.4 shows a plot of the final model selected by the stepwise regression. The functions displayed are\n",
    "\n",
    "\\begin{equation}\n",
    "\\hat{f}_j(X_j) = h_j(X_j)^T\\hat\\theta_j,\n",
    "\\end{equation}\n",
    "\n",
    "for each variable $X_j$. $\\mathbf{\\Sigma}$, the covariance matrix of $\\hat\\theta$, is estimated by\n",
    "\n",
    "\\begin{equation}\n",
    "\\hat{\\mathbf{\\Sigma}} = \\left( \\mathbf{H}^T\\mathbf{WH} \\right)^{-1},\n",
    "\\end{equation}\n",
    "\n",
    "where $\\mathbf{W}$ is the diagonal weight matrix from the logistic regression. Hence\n",
    "\n",
    "\\begin{equation}\n",
    "v_j(X_j) = \\text{Var}\\left( \\hat{f}_j(X_j) \\right) = h_j(X_j)^T \\hat{\\mathbf{\\Sigma}}_{jj} h_j(X_j)\n",
    "\\end{equation}\n",
    "\n",
    "is the pointwise variance function of $\\hat{f}_j$, where $\\text{Cov}(\\hat\\theta_j) = \\hat{\\mathbf{\\Sigma}}_{jj}$ is the appropriate sub-matrix of $\\hat{\\mathbf{\\Sigma}}$.\n",
    "\n",
    "The shaded region in each panel is defined by\n",
    "\n",
    "\\begin{equation}\n",
    "\\hat{f}_j(X_j) \\pm 2\\sqrt{v_j(X_j)}.\n",
    "\\end{equation}"
   ]
  },
  {
   "cell_type": "markdown",
   "metadata": {},
   "source": [
    "### What linear models could not excavate: nonlinearity\n",
    "\n",
    "The AIC statistic is slightly more generous than the likelihood-ratio test (deviance test). Both $\\textsf{sbp}$ and $\\textsf{obesity}$ are included in the model, while they are not in the linear model. FIGURE 5.4 explains why, since their contributions are inherently nonlinear.\n",
    "\n",
    "> These effects at first may come as a surprise, but a explanation lies in the nature of the retrospective data."
   ]
  }
 ],
 "metadata": {
  "kernelspec": {
   "display_name": "Python 3",
   "language": "python",
   "name": "python3"
  },
  "language_info": {
   "codemirror_mode": {
    "name": "ipython",
    "version": 3
   },
   "file_extension": ".py",
   "mimetype": "text/x-python",
   "name": "python",
   "nbconvert_exporter": "python",
   "pygments_lexer": "ipython3",
   "version": "3.6.4"
  }
 },
 "nbformat": 4,
 "nbformat_minor": 2
}
