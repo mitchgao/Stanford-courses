{
 "cells": [
  {
   "cell_type": "markdown",
   "metadata": {},
   "source": [
    "# $\\S$ 5.5. Automatic Selection of the Smoothing Parameters\n",
    "## $\\S$ 5.5.1. Fixing the Degrees of Freedom\n",
    "\n",
    "Since, for smoothing splines,\n",
    "\n",
    "\\begin{equation}\n",
    "\\text{df}_\\lambda = \\text{trace}(\\mathbf{S}_\\lambda)\n",
    "\\end{equation}\n",
    "\n",
    "is monotone in $\\lambda$, we can invert the relationship and specify $\\lambda$ by fixing $\\text{df}$."
   ]
  },
  {
   "cell_type": "markdown",
   "metadata": {},
   "source": [
    "### Numerical inverse and its usage to model selection\n",
    "\n",
    "In practice this can be achieved by simple numerical methods. So, for example, in $\\textsf{R}$ one can use $\\textsf{smooth.spline(x,y,df=6)}$ to specify the amount of smoothing. This encourages a more traditional mode of model selection, where we might try a couple of different values of $\\text{df}$, and select one based on approximate $F$-tests, residual plots and other more subjective criteria. Using $\\text{df}$ in this way provides a uniform approach to compare many different smoothing methods. It is particularly useful in _generalized additive models_ (Chapter 9), where several smoothing methods can be simultaneously used in one model."
   ]
  }
 ],
 "metadata": {
  "kernelspec": {
   "display_name": "Python 3",
   "language": "python",
   "name": "python3"
  },
  "language_info": {
   "codemirror_mode": {
    "name": "ipython",
    "version": 3
   },
   "file_extension": ".py",
   "mimetype": "text/x-python",
   "name": "python",
   "nbconvert_exporter": "python",
   "pygments_lexer": "ipython3",
   "version": "3.6.4"
  }
 },
 "nbformat": 4,
 "nbformat_minor": 2
}
