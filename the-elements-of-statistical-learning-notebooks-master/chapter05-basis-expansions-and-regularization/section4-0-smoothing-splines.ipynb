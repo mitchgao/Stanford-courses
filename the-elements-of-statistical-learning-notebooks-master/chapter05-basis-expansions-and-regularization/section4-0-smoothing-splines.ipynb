{
 "cells": [
  {
   "cell_type": "markdown",
   "metadata": {},
   "source": [
    "# $\\S$ 5.4. Smoothing Splines\n",
    "\n",
    "Here we discuss a spline basis method that avoids the knot selection problem completely by using a maximal set of knots.\n",
    "\n",
    "> The complexity of the fit is controlled by regularization.\n",
    "\n",
    "Consider the following problem: Among all functions $f(x)$ with two continuous derivatives, find one that minimizes the penalized residual sum of squares\n",
    "\n",
    "\\begin{equation}\n",
    "\\text{RSS}(f, \\lambda) = \\sum_{i=1}^N \\left( y_i - f(x_i) \\right)^2 + \\lambda \\int \\left( f''(t)\\right)^2 dt,\n",
    "\\end{equation}\n",
    "\n",
    "where $\\lambda$ is a fixed _smoothing parameter_. The first term measures closeness to the data, while the second term penalizes curvature in the function, and $\\lambda$ establishes a tradeoff between the two.\n",
    "\n",
    "Consider the two special cases:\n",
    "1. $\\lambda = 0$: $f$ can be any function that interpolates the data.\n",
    "2. $\\lambda = \\infty$: the simple least squares line fit, since no second derivative can be tolerated.\n",
    "\n",
    "These vary from very rough to very smooth, and the hope is that $\\lambda \\in (0,\\infty)$ indexes an interesting class of functions in between."
   ]
  },
  {
   "cell_type": "markdown",
   "metadata": {},
   "source": [
    "### The natural cubic spline as the minimizer\n",
    "\n",
    "The above $\\text{RSS}$ is defined on an infinite-dimensional function space -- in fact, a Sobolev space of functions for which the second term is defined.\n",
    "\n",
    "Remarkably, it can be shown that for the $\\text{RSS}$ there is an explicit, finite-dimensional, unique minimizer which is a natural cubic spline with knots at the unique values of the $x_i$, $i=1,\\cdots,N$ (Exercise 5.7).\n",
    "\n",
    "At face value it seems that the family is still over-parametrized, since there are as many as $N$ knots, which implies $N$ degrees of freedom. However, the penalty term translates to a penalty on the spline coefficients, which are shrunk some of the way toward the linear fit."
   ]
  },
  {
   "cell_type": "markdown",
   "metadata": {},
   "source": [
    "### Computation\n",
    "\n",
    "Since the solution is a natural spline, we can write it as\n",
    "\n",
    "\\begin{equation}\n",
    "f(x) = \\sum_{j=1}^N N_j(x) \\theta_j,\n",
    "\\end{equation}\n",
    "\n",
    "where the $N_j(x)$ are an $N$-dimensional set of basis functions for representing this family of natural splines ($\\S$ 5.2.1 and Exercise 5.4). The criterion thus reduces to\n",
    "\n",
    "\\begin{equation}\n",
    "\\text{RSS}(\\theta, \\lambda) = (\\mathbf{y} - \\mathbf{N}\\theta)^T(\\mathbf{y} - \\mathbf{N}\\theta) + \\lambda\\theta^T\\mathbf{\\Omega}_N\\theta,\n",
    "\\end{equation}\n",
    "\n",
    "where\n",
    "* $\\lbrace\\mathbf{N}\\rbrace_{ij} = N_j(x_i)$ and \n",
    "* $\\lbrace\\mathbf{\\Omega}_N\\rbrace_{jk} = \\int N_j''(t)N_k''(t)dt$.\n",
    "\n",
    "The solution is easily seen to be\n",
    "\n",
    "\\begin{equation}\n",
    "\\hat\\theta = \\left( \\mathbf{N}^T\\mathbf{N} + \\lambda\\mathbf{\\Omega}_N \\right)^{-1} \\mathbf{N}^T \\mathbf{y},\n",
    "\\end{equation}\n",
    "\n",
    "a generalized ridge regression. The fitted smoothing spline is given by\n",
    "\n",
    "\\begin{equation}\n",
    "\\hat{f}(x) = \\sum_{j=1}^N N_j(x) \\hat\\theta_j.\n",
    "\\end{equation}\n",
    "\n",
    "See the Appendix of this chapter for efficient computational techniques for smoothing splines."
   ]
  },
  {
   "cell_type": "code",
   "execution_count": 2,
   "metadata": {},
   "outputs": [
    {
     "name": "stdout",
     "output_type": "stream",
     "text": [
      "Under construction ...\n"
     ]
    }
   ],
   "source": [
    "\"\"\"FIGURE 5.6. A smoothing spline to BMD data with fixed lambda ~= 0.00022\n",
    "This choice, corresponding to about 12 degrees of freedom, will be discussed\n",
    "in the next section.\"\"\"\n",
    "print('Under construction ...')"
   ]
  }
 ],
 "metadata": {
  "kernelspec": {
   "display_name": "Python 3",
   "language": "python",
   "name": "python3"
  },
  "language_info": {
   "codemirror_mode": {
    "name": "ipython",
    "version": 3
   },
   "file_extension": ".py",
   "mimetype": "text/x-python",
   "name": "python",
   "nbconvert_exporter": "python",
   "pygments_lexer": "ipython3",
   "version": "3.6.4"
  }
 },
 "nbformat": 4,
 "nbformat_minor": 2
}
