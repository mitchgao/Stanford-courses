{
 "cells": [
  {
   "cell_type": "markdown",
   "metadata": {},
   "source": [
    "## $\\S$ 5.2.1. Natural Cubic Splines\n",
    "\n",
    "The behavior of polynomials fit to data tends to be erratic near the boundaries, and extrapolation can be dangerous. These problems are exacerbated with splines. This can be conveniently summarized in terms of the pointwise variance of spline functions fit by least squares (see the example in $\\S$ 5.3 for details). In FIGURE 5.3 we can see that the explosion of the variance near the boundaries is clear, and inevitably worst for cubic splines."
   ]
  },
  {
   "cell_type": "markdown",
   "metadata": {},
   "source": [
    "### More constraints near boundaries\n",
    "\n",
    "A _natural cubic spline_ adds additional constraints, namely that the function is linear beyond the boundary knots. This frees up four $\\text{df}$s (two constraints each in both boundary regions), which can be spent more profitably by sprinkling more interior knots.\n",
    "\n",
    "This tradeoff is illustrated in terms of variance in FIGURE 5.3. There will be a price paid in bias near the boundaries, but the assumption that the function is linear near the boundaries (where we have less information anyway) is often considered reasonable."
   ]
  },
  {
   "cell_type": "markdown",
   "metadata": {},
   "source": [
    "### Constructing basis functions\n",
    "\n",
    "A natural cubic splines with $K$ knots is represented by $K$ basis functions. One can start from a basis for cubic splines, and then derive the reduced basis by imposing the boundary constraints.\n",
    "\n",
    "For example, starting from the truncated power series basis in $\\S$ 5.2, we arrive at (Exercise 5.4):\n",
    "\n",
    "\\begin{align}\n",
    "N_1(X) &= 1, \\\\\n",
    "N_2(X) &= X, \\\\\n",
    "N_{k+2}(X) &= d_k(X) - d_{K-1}(X),\n",
    "\\end{align}\n",
    "\n",
    "where\n",
    "\n",
    "\\begin{equation}\n",
    "d_k(X) = \\frac{(X-\\xi_k)_+^3 - (X-\\xi_K)_+^3}{\\xi_K-\\xi_k}.\n",
    "\\end{equation}\n",
    "\n",
    "Each of these basis functions can be seen to have zero second and third derivative for $X \\ge \\xi_K$."
   ]
  },
  {
   "cell_type": "code",
   "execution_count": 1,
   "metadata": {},
   "outputs": [],
   "source": [
    "\"\"\"Example for the natural cubic spline\n",
    "It uses the same data of FIGURE 5.2.\n",
    "\"\"\"\n",
    "%matplotlib inline\n",
    "import scipy\n",
    "import scipy.linalg\n",
    "import matplotlib.pyplot as plt\n",
    "\n",
    "# Limits\n",
    "x0, x1 = scipy.array([0, 1])*8-1\n",
    "xis = scipy.array([.1, .26, .42, .58, .74, .9])*8-1\n",
    "# x0, xi0, xi1, x1 = -1, 1.5, 4.5, 7\n",
    "y0, y1 = 0, 4\n",
    "\n",
    "# Sine line\n",
    "xgrid = scipy.linspace(x0, x1, 100)\n",
    "ygrid = scipy.cos(xgrid)+2\n",
    "# Random sample\n",
    "size_sample = 60\n",
    "err_sample = scipy.randn(size_sample)*.3\n",
    "x_sample = scipy.linspace(x0, x1, size_sample)\n",
    "y_sample = scipy.cos(x_sample)+2+err_sample"
   ]
  },
  {
   "cell_type": "code",
   "execution_count": 2,
   "metadata": {},
   "outputs": [],
   "source": [
    "def d(x:scipy.ndarray, xis:scipy.ndarray, k:int)->scipy.ndarray:\n",
    "    return (scipy.where(x < xis[k], 0, (x-xis[k])**3)\n",
    "            - scipy.where(x < xis[-1], 0, (x-xis[-1])**3))/(xis[-1]-xis[k])"
   ]
  },
  {
   "cell_type": "code",
   "execution_count": 3,
   "metadata": {},
   "outputs": [],
   "source": [
    "# Natural cubic spline\n",
    "# Construct H\n",
    "h1 = scipy.ones_like(x_sample)\n",
    "h2 = scipy.copy(x_sample)\n",
    "h3 = d(x_sample, xis, 0)-d(x_sample, xis, -2)\n",
    "h4 = d(x_sample, xis, 1)-d(x_sample, xis, -2)\n",
    "h5 = d(x_sample, xis, 2)-d(x_sample, xis, -2)\n",
    "h6 = d(x_sample, xis, 3)-d(x_sample, xis, -2)\n",
    "H = scipy.vstack((h1, h2, h3, h4, h5, h6)).T\n",
    "# OLS\n",
    "HH = H.T @ H\n",
    "beta = scipy.linalg.solve(HH, H.T @ y_sample)\n",
    "y_hat = H @ beta"
   ]
  },
  {
   "cell_type": "code",
   "execution_count": 5,
   "metadata": {},
   "outputs": [
    {
     "data": {
      "image/png": "[encoded data removed]",
      "text/plain": [
       "<matplotlib.figure.Figure at 0x7f0e2605d320>"
      ]
     },
     "metadata": {},
     "output_type": "display_data"
    }
   ],
   "source": [
    "# Plot\n",
    "fig = plt.figure(51, figsize=(10, 10))\n",
    "ax = fig.add_subplot(2, 2, 1)\n",
    "ax.plot(xgrid, ygrid, linewidth=3)\n",
    "for xi in xis:\n",
    "    ax.plot([xi, xi], [y0, y1], '--', color='gray')\n",
    "ax.set_ylim(y0, y1)\n",
    "ax.plot(x_sample, y_sample, 'o')\n",
    "ax.plot(x_sample, y_hat, color='g')\n",
    "ax.set_title('Natural Cubic Spline')\n",
    "plt.show()"
   ]
  }
 ],
 "metadata": {
  "kernelspec": {
   "display_name": "Python 3",
   "language": "python",
   "name": "python3"
  },
  "language_info": {
   "codemirror_mode": {
    "name": "ipython",
    "version": 3
   },
   "file_extension": ".py",
   "mimetype": "text/x-python",
   "name": "python",
   "nbconvert_exporter": "python",
   "pygments_lexer": "ipython3",
   "version": "3.6.4"
  }
 },
 "nbformat": 4,
 "nbformat_minor": 2
}
