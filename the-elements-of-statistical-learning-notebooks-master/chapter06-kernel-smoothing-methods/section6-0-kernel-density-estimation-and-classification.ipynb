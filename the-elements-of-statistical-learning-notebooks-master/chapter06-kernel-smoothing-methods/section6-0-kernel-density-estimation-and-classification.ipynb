{
 "cells": [
  {
   "cell_type": "markdown",
   "metadata": {},
   "source": [
    "# $\\S$ 6.6. Kernel Density Estimation and Classification\n",
    "\n",
    "Kernel density estimation is an unsupervised learning procedure, which historically precredes kernel regression. It also leads to naturally to a simple family of procedures for nonparametric classification."
   ]
  }
 ],
 "metadata": {
  "kernelspec": {
   "display_name": "Python 3",
   "language": "python",
   "name": "python3"
  },
  "language_info": {
   "codemirror_mode": {
    "name": "ipython",
    "version": 3
   },
   "file_extension": ".py",
   "mimetype": "text/x-python",
   "name": "python",
   "nbconvert_exporter": "python",
   "pygments_lexer": "ipython3",
   "version": "3.6.4"
  }
 },
 "nbformat": 4,
 "nbformat_minor": 2
}
