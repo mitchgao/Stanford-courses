{
 "cells": [
  {
   "cell_type": "markdown",
   "metadata": {},
   "source": [
    "# $\\S$ 6.8. Mixture Models for Density Estimation and Classification\n",
    "\n",
    "The mixture model is a useful tool for density estimation, and can be viewed as a kind of kernel method. The  Gaussian mixture model has the form\n",
    "\n",
    "\\begin{equation}\n",
    "f(x) = \\sum_{m=1}^M \\alpha_m\\phi(x;\\mu_m,\\mathbf{\\Sigma}_m)\n",
    "\\end{equation}\n",
    "\n",
    "with mixing proportions $\\sum\\alpha_m=1$.\n",
    "\n",
    "In general, mixture models can use any component densities in place of the Gaussian: The Gaussian mixture model is by far the most popular.\n",
    "\n",
    "The parameters are usually fit by maximum likelihood, using the EM algorithm as described in Chapter 8."
   ]
  },
  {
   "cell_type": "markdown",
   "metadata": {},
   "source": [
    "### Some special cases arise\n",
    "\n",
    "* If the covariance matrices are constrained to be scalar: $\\mathbf{\\Sigma}_m=\\sigma_m\\mathbf{I}$, then it has the form of a radial basis expansion.\n",
    "* If in addition $\\sigma_m = \\sigma >0$ is fixed, and $M\\uparrow N$, then the maximum likelihood estimate approaches the kernel density estimate  \n",
    "\n",
    "  \\begin{equation}\n",
    "  \\hat{f}_X(x_0) = \\frac1{N\\lambda} \\sum_{i=1}^N K_\\lambda(x_0,x)\n",
    "  \\end{equation}\n",
    "  \n",
    "  where $\\hat\\alpha_m = 1/N$ and $\\hat\\mu_m = x_m$.\n",
    "\n",
    "Using Bayes' theorem, separate mixture densities in each class lead to flexible models for $\\text{Pr}(G|X)$ (Chapter 12)."
   ]
  },
  {
   "cell_type": "markdown",
   "metadata": {},
   "source": [
    "### Heart disease, again\n",
    "\n",
    "FIGURE 6.17 shows an application of mixtures to the heart disease risk factor study."
   ]
  }
 ],
 "metadata": {
  "kernelspec": {
   "display_name": "Python 3",
   "language": "python",
   "name": "python3"
  },
  "language_info": {
   "codemirror_mode": {
    "name": "ipython",
    "version": 3
   },
   "file_extension": ".py",
   "mimetype": "text/x-python",
   "name": "python",
   "nbconvert_exporter": "python",
   "pygments_lexer": "ipython3",
   "version": "3.6.4"
  }
 },
 "nbformat": 4,
 "nbformat_minor": 2
}
