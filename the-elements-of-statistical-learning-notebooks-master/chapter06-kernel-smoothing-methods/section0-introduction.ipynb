{
 "cells": [
  {
   "cell_type": "markdown",
   "metadata": {},
   "source": [
    "# Chapter 6. Kernel Smoothing Methods\n",
    "\n",
    "In this chapter we describe a class of regression techniques that achieve flexibility in estimating the regression function $f(X)$ over the domain $\\mathbb{R}^p$ by fitting a different but simple model separately at each query point $x_0$. This is done for some neighborhood of the target point $x_0$ to fit the simple model, and in such a way that the resulting estimated function $\\hat{f}(X)$ is smooth in $\\mathbb{R}^p$.\n",
    "\n",
    "This localization is achieved via a weighting function or _kernel_ $K_\\lambda(x_0,x_i)$, which assigns a weight to $x_i$ based on its distance from $x_0$. The kernels $K_\\lambda$ are typically indexed by a paramter $\\lambda$ that dictates the width of the neighborhood. These _memory-based_ methods require in principle little or no training. The only paramter that needs to be determined from the training data is $\\lambda$. The model, however, is the entire training data set.\n",
    "\n",
    "We also discuss more general classes of kernel-based techniques, which tie in with structured methods in other chapters, and are useful for density estimation and classficiation."
   ]
  },
  {
   "cell_type": "markdown",
   "metadata": {},
   "source": [
    "### Caution, don't confuse!\n",
    "\n",
    "> In this chapter kernels are mostly used as a device for localization.\n",
    "\n",
    "The techniques in this chapter should not be confused with those associated with the more recent usage of the phrase \"kernel methods\". In this chapter kernels are mostly used as a device for localization. We discuss kernel methods in $\\S$ 5.8, 14.5.4, 18.5, and Chapter 12; in those contexts the kernel computes an inner product in a high-dimensional (implicit) feature space, and is used for regularized nonlinear modeling. We make some connections to the methodology in this chapter at the end of $\\S$ 6.7."
   ]
  }
 ],
 "metadata": {
  "kernelspec": {
   "display_name": "Python 3",
   "language": "python",
   "name": "python3"
  },
  "language_info": {
   "codemirror_mode": {
    "name": "ipython",
    "version": 3
   },
   "file_extension": ".py",
   "mimetype": "text/x-python",
   "name": "python",
   "nbconvert_exporter": "python",
   "pygments_lexer": "ipython3",
   "version": "3.6.4"
  }
 },
 "nbformat": 4,
 "nbformat_minor": 2
}
