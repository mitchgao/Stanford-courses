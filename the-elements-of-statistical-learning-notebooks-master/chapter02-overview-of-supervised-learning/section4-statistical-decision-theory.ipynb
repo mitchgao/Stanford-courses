{
 "cells": [
  {
   "cell_type": "markdown",
   "metadata": {},
   "source": [
    "# $\\S$ 2.4. Statistical Decision Theory\n",
    "\n",
    "In this section we develop a small amount of theory that provides a framework for developing models. We first consider the case of a quantitative output, and place outselves in the world of random variables nad probability spaces."
   ]
  },
  {
   "cell_type": "markdown",
   "metadata": {},
   "source": [
    "### Definitions\n",
    "\n",
    "Let\n",
    "* $X\\in\\mathbb{R}^p$ denote a real valued random input vector, and\n",
    "* $Y\\in\\mathbb{R}$ a real valued random output variable,\n",
    "* with joint distribution $\\text{Pr}(X,Y)$.\n",
    "\n",
    "We seek a function $f(X)$ for predicting $Y$  given values of the input $X$.\n",
    "\n",
    "#### Loss\n",
    "This Theory requires a _loss function_ $L(Y, f(X))$ for penalizing errors in prediction, and by for the most common and convenient is _squared error loss_:\n",
    "\n",
    "\\begin{equation}\n",
    "L(Y, f(X)) = (Y-f(X))^2.\n",
    "\\end{equation}\n",
    "\n",
    "#### Expected prediction error\n",
    "This leads us to a criterion for choosing $f$ the expected (squared) prediction error:\n",
    "\n",
    "\\begin{align}\n",
    "\\text{EPE}(f) &= \\text{E}(Y-f(X))^2\\\\\n",
    "&= \\int\\left(y-f(x)\\right)^2\\text{Pr}(dx,dy),\n",
    "\\end{align}\n",
    "\n",
    "By conditioning on $X$, we can write EPE as\n",
    "\n",
    "\\begin{equation}\n",
    "\\text{EPE}(f) = \\text{E}_X\\text{E}_{Y|X}\\left(\\left[Y-f(X)\\right]^2|X\\right)\n",
    "\\end{equation}\n",
    "\n",
    "and we see that it suffices to minimize EPE pointwise:\n",
    "\n",
    "\\begin{equation}\n",
    "f(x) = \\arg\\min_c\\text{E}_{Y|X}\\left(\\left[Y-c\\right]^2|X=x\\right)\n",
    "\\end{equation}\n",
    "\n",
    "#### Regression function\n",
    "The solution is the conditional expectation a.k.a. the _regression_ function:\n",
    "\n",
    "\\begin{equation}\n",
    "f(x) = \\text{E}\\left(Y|X=x\\right)\n",
    "\\end{equation}\n",
    "\n",
    "> Thus the best prediction of $Y$ at any point $X=x$ is the conditional mean, when best is measured by average squared error."
   ]
  },
  {
   "cell_type": "markdown",
   "metadata": {},
   "source": [
    "### Conclusions first\n",
    "\n",
    "Both KNN and least squares will end up approximating conditional expectations by averages. But they differ dramatically in terms of model assumptions:\n",
    "* Least squares assumes $f(x)$ is well approximated by a globally linear function.\n",
    "* $k$-nearest neighbors assumes $f(x)$ is well approximated by a locally constant function.\n",
    "Although the latter seems more palatable, we will see below that we may pay a price for this flexibility."
   ]
  },
  {
   "cell_type": "markdown",
   "metadata": {},
   "source": [
    "### The light and shadows of kNN\n",
    "\n",
    "The kNN attempts to directly implement this recipe using the training data:\n",
    "\n",
    "\\begin{equation}\n",
    "\\hat{f}(x) = \\text{Ave}\\left(y_i|x_i\\in N_k(x)\\right),\n",
    "\\end{equation}\n",
    "\n",
    "where\n",
    "* \"$\\text{Ave}$\" denotes average, and\n",
    "* $N_k(x)$ is the neighborhood containing the $k$ points in $\\mathcal{T}$ closest to $x$.\n",
    "\n",
    "Two approximations are happening here:\n",
    "* Expectation is approximated by averaging over sample data;\n",
    "* conditioning at a point is relaxed to conditioning on some region \"close\" to the target point.\n",
    "\n",
    "For large training sample size $N$, the points in the neighborhood are likely to be close to $x$, and as $k$ gets large the average will get more stable. In fact, under mild regularity conditions on the joint probability distribution $\\text{Pr}(X,Y)$, one can show that\n",
    "\n",
    "\\begin{equation}\n",
    "\\hat{f}(x)\\rightarrow\\text{E}(Y|X=x)\\text{ as }N,k\\rightarrow\\infty\\text{ s.t. }k/N\\rightarrow0\n",
    "\\end{equation}\n",
    "\n",
    "#### Isn't it perfect?\n",
    "\n",
    "In light of this, why look further, since it seems we have a universal approximator?\n",
    "* We often do not have very large samples.  \n",
    "  Linear models can usually get a more stable estimate than kNN, provided the structured model is appropriate (although such knowledge has to be learned from the data as well).\n",
    "* Curse of dimensionality.  \n",
    "  As the dimension $p$ gets large, so does the metric size of the $k$-nearest neighborhood. So settling for kNN as a surrogate for conditioning will fail us miserably.  \n",
    "  The convergence above still holds, but the _rate_ of convergence decreases as the dimension increases."
   ]
  },
  {
   "cell_type": "markdown",
   "metadata": {},
   "source": [
    "### Model-based approach for linear regression\n",
    "\n",
    "How does linear regression fit into this framework? The simplest explanation is that one assumes that the regression function $f(x)$ is approximately linear in its arguments:\n",
    "\n",
    "\\begin{equation}\n",
    "f(x)\\approx x^T\\beta.\n",
    "\\end{equation}\n",
    "\n",
    "This is a model-based approach -- we specify a model for the regression function. \n",
    "\n",
    "Plugging this linear model for $f(x)$ into EPE and differentiating, we can solve for $\\beta$ theoretically:\n",
    "\n",
    "\\begin{equation}\n",
    "\\beta = \\left[\\text{E}\\left(XX^T\\right)\\right]^{-1}\\text{E}(XY)\n",
    "\\end{equation}\n",
    "\n",
    "Note we have _not_ conditioned on $X$; rather we have used out knowledge of the functional relationship to _pool_ over values of $X$. The least squares solution\n",
    "\n",
    "\\begin{equation}\n",
    "\\hat\\beta = \\left( \\mathbf{X}^T \\mathbf{X} \\right)^{-1} \\mathbf{X}^T \\mathbf{y}\n",
    "\\end{equation}\n",
    "\n",
    "amounts to replacing the expectation in the theoretical solution by averages over the training data."
   ]
  },
  {
   "cell_type": "markdown",
   "metadata": {},
   "source": [
    "### kNN vs. least squares\n",
    "\n",
    "So both kNN and least squares end up approximating conditional expectations by averages. But they differ dramatically in terms of model assumptions:\n",
    "* Least squares assumes $f(x)$ is well approximated by a globally linear function.\n",
    "* kNN assumes $f(x)$ is well approximated by a locally constant function.\n",
    "\n",
    "Although the latter seems more palatable, we have already seen that we may pay a price for this flexibility."
   ]
  },
  {
   "cell_type": "markdown",
   "metadata": {},
   "source": [
    "### Additive models (Brief on modern techniques)\n",
    "\n",
    "Many of the more modern techniques described in this book are model based, although far more flexible than the rigid linear model.\n",
    "\n",
    "For example, additive models assume that\n",
    "\n",
    "\\begin{equation}\n",
    "f(X) = \\sum_{j=1}^p f_j(X_j).\n",
    "\\end{equation}\n",
    "\n",
    "This retains the additivity of the linear model, but each coordinate function $f_j$ is arbitrary. It turns out that the optimal estimate for the additive model uses techniques such as kNN to approximate _univariate_ conditional expectations _simultaneously_ for each of the coordinate functions.\n",
    "\n",
    "Thus the problems of estimating a conditional expectation in high dimensions are swept away in this case by imposing some (often unrealistic) model assumptions, in this case additivity."
   ]
  },
  {
   "cell_type": "markdown",
   "metadata": {},
   "source": [
    "### Are we happy with $L_2$ loss? Yes, so far.\n",
    "\n",
    "If we replace the $L_2$ loss function with the $L_1$:\n",
    "\n",
    "\\begin{equation}\n",
    "E\\left| Y - f(X) \\right|,\n",
    "\\end{equation}\n",
    "\n",
    "the solution in this case is the conditional median,\n",
    "\n",
    "\\begin{equation}\n",
    "\\hat{f}(x) = \\text{median}(Y|X=x),\n",
    "\\end{equation}\n",
    "\n",
    "which is a different measure of location, and its estimates are more robust than those for the conditional mean.\n",
    "\n",
    "$L_1$ criteria have discontinuities in their derivatives, which have hindered their widespread use. Other more resistant loss functions will be mentioned in later chapters, but squared error is analytically convenient and the most popular."
   ]
  },
  {
   "cell_type": "markdown",
   "metadata": {},
   "source": [
    "### Bayes classifier: For a categorical output with 0-1 loss function\n",
    "\n",
    "The same paradigm works when the output is a categorical variale $G$, except we need a different loss function for penalizing prediction errors. An estimate $\\hat{G}$ will assume values in $\\mathcal{G}$, the set of possible classes.\n",
    "\n",
    "Our loss function can be represented by $K\\times K$ matrix $\\mathbf{L}$, where $K=\\text{card}(\\mathcal{G})$. $\\mathbf{L}$ will be zero on the diagonal and nonnegative elsewhere, representing the price paid for misclassifying $\\mathcal{G}_k$ as $\\mathcal{G}_l$;\n",
    "\n",
    "\\begin{equation}\n",
    "\\mathbf{L} = \\begin{bmatrix}\n",
    "0 & L(\\mathcal{G}_1, \\mathcal{G}_2) & \\cdots & L(\\mathcal{G}_1, \\mathcal{G}_K) \\\\\n",
    "L(\\mathcal{G}_2, \\mathcal{G}_1) & 0 & \\cdots & L(\\mathcal{G}_2, \\mathcal{G}_K) \\\\\n",
    "\\vdots & \\vdots & \\ddots & \\vdots \\\\\n",
    "L(\\mathcal{G}_K, \\mathcal{G}_1) & L(\\mathcal{G}_K, \\mathcal{G}_2) & \\cdots & 0\n",
    "\\end{bmatrix}\n",
    "\\end{equation}\n",
    "\n",
    "The expected prediction error is\n",
    "\n",
    "\\begin{equation}\n",
    "\\text{EPE} = \\text{E}\\left[L(G, \\hat{G}(X)\\right],\n",
    "\\end{equation}\n",
    "\n",
    "where the expectation is taken w.r.t. the joint distribution $\\text{Pr}(G, X)$.\n",
    "\n",
    "Again we condition, and can write EPE as\n",
    "\n",
    "\\begin{equation}\n",
    "\\text{EPE} = \\text{E}_X\\sum^K_{k=1}L\\left(\\mathcal{G}_k, \\hat{G}(X)\\right)\\text{Pr}\\left(\\mathcal{G}_k|X\\right)\n",
    "\\end{equation}\n",
    "\n",
    "and again it suffices to minimize EPE pointwise:\n",
    "\n",
    "\\begin{equation}\n",
    "\\hat{G}(x) = \\arg\\min_{g\\in\\mathcal{G}}\\sum^K_{k=1} L\\left(\\mathcal{G}_k,g\\right)\\text{Pr}\\left(\\mathcal{G}_k|X=x\\right)\n",
    "\\end{equation}\n",
    "\n",
    "#### 0-1 loss for Bayes classifier\n",
    "\n",
    "Most often we use the _zero-one_ loss function, where all misclassifications are charged a single unit, i.e.,\n",
    "\n",
    "\\begin{equation}\n",
    "L(k,l) = \\begin{cases}\n",
    "0\\text{ if }k = l,\\\\\n",
    "1\\text{ otherwise}.\n",
    "\\end{cases}\n",
    "\\end{equation}\n",
    "\n",
    "With the 0-1 loss function this simplifies to\n",
    "\n",
    "\\begin{align}\n",
    "\\hat{G}(x) &= \\arg\\min_{g\\in\\mathcal{G}} \\left[1 - \\text{Pr}(g|X=x)\\right]\\\\\n",
    "&= \\mathcal{G}_k \\text{ if Pr}\\left(\\mathcal{G}_k|X=x\\right) = \\max_{g\\in\\mathcal{G}}\\text{Pr}(g|X=x)\n",
    "\\end{align}\n",
    "\n",
    "This reasonable solution is known as the _Bayes classifier_, and says that we classify to the most probable class, using the conditional (discrete) distribution $\\text{Pr}(G|X)$. FIGURE 2.5 shows the Bayes-optimal decision boundary for our simulation example. The error rate of the Bayes classifier is called the _Bayes rate_."
   ]
  },
  {
   "cell_type": "code",
   "execution_count": 1,
   "metadata": {},
   "outputs": [],
   "source": [
    "%matplotlib inline\n",
    "import random\n",
    "import scipy\n",
    "import scipy.stats\n",
    "import matplotlib.pyplot as plt"
   ]
  },
  {
   "cell_type": "code",
   "execution_count": 2,
   "metadata": {},
   "outputs": [],
   "source": [
    "\"\"\"FIGURE 2.5. The optimal Bayes decision boundary for the simulation example.\n",
    "Since the generating density is known for each class, this decision boundary can be\n",
    "calculated exactly.\"\"\"\n",
    "sample_size = 100\n",
    "# Parameters for mean distributions\n",
    "mean_blue = [1, 0]\n",
    "mean_orange = [0, 1]\n",
    "mean_cov = scipy.eye(2)\n",
    "mean_size = 10\n",
    "\n",
    "# Additional parameters for blue and orange distributions\n",
    "sample_cov = scipy.eye(2)/5\n",
    "\n",
    "# Generate mean components for blue and orange (10 means for each)\n",
    "sample_blue_mean = scipy.random.multivariate_normal(mean_blue, mean_cov, mean_size)\n",
    "sample_orange_mean = scipy.random.multivariate_normal(mean_orange, mean_cov, mean_size)\n",
    "\n",
    "# Generate blue points\n",
    "sample_blue = scipy.array([\n",
    "    scipy.random.multivariate_normal(sample_blue_mean[r], sample_cov)\n",
    "    for r in scipy.random.randint(0, 10, 100)\n",
    "])\n",
    "y_blue = scipy.zeros(sample_size)\n",
    "\n",
    "# Generate orange points\n",
    "sample_orange = scipy.array([\n",
    "    scipy.random.multivariate_normal(sample_orange_mean[r], sample_cov)\n",
    "    for r in scipy.random.randint(0, 10, 100)\n",
    "])\n",
    "y_orange = scipy.ones(sample_size)\n",
    "\n",
    "data_x = scipy.concatenate((sample_blue, sample_orange), axis=0)\n",
    "data_y = scipy.concatenate((y_blue, y_orange)) "
   ]
  },
  {
   "cell_type": "code",
   "execution_count": 3,
   "metadata": {},
   "outputs": [],
   "source": [
    "def density_blue(arr:scipy.ndarray)->scipy.ndarray:\n",
    "    densities = scipy.array([\n",
    "        scipy.stats.multivariate_normal.pdf(arr, mean=m, cov=mean_cov)\n",
    "        for m in sample_blue_mean\n",
    "    ])\n",
    "    return densities.mean(axis=0)\n",
    "\n",
    "\n",
    "def density_orange(arr:scipy.ndarray)->scipy.ndarray:\n",
    "    densities = scipy.array([\n",
    "        scipy.stats.multivariate_normal.pdf(arr, mean=m, cov=mean_cov)\n",
    "        for m in sample_orange_mean\n",
    "    ])\n",
    "    return densities.mean(axis=0)"
   ]
  },
  {
   "cell_type": "code",
   "execution_count": 4,
   "metadata": {},
   "outputs": [
    {
     "name": "stdout",
     "output_type": "stream",
     "text": [
      "[-1.74132129 -3.40363741] [4.15674722 3.37036023]\n"
     ]
    }
   ],
   "source": [
    "min_x = data_x.min(axis=0)\n",
    "max_x = data_x.max(axis=0)\n",
    "print(min_x, max_x)\n",
    "arr = scipy.array([(i, j)\n",
    "                   for i in scipy.linspace(min_x[0]-.1, max_x[0]+.1, 100)\n",
    "                   for j in scipy.linspace(min_x[1]-.1, max_x[1]+.1, 100)])\n",
    "proba_blue = density_blue(arr)\n",
    "proba_orange = density_orange(arr)"
   ]
  },
  {
   "cell_type": "code",
   "execution_count": 5,
   "metadata": {},
   "outputs": [
    {
     "data": {
      "text/plain": [
       "array([[-1.84132129, -3.50363741],\n",
       "       [-1.84132129, -3.43319299],\n",
       "       [-1.84132129, -3.36274857],\n",
       "       ...,\n",
       "       [ 4.25674722,  3.32947139],\n",
       "       [ 4.25674722,  3.39991581],\n",
       "       [ 4.25674722,  3.47036023]])"
      ]
     },
     "execution_count": 5,
     "metadata": {},
     "output_type": "execute_result"
    }
   ],
   "source": [
    "arr"
   ]
  },
  {
   "cell_type": "code",
   "execution_count": 6,
   "metadata": {},
   "outputs": [
    {
     "data": {
      "image/png": "[encoded data removed]",
      "text/plain": [
       "<Figure size 432x288 with 1 Axes>"
      ]
     },
     "metadata": {},
     "output_type": "display_data"
    }
   ],
   "source": [
    "# Plot\n",
    "fig = plt.figure(1)\n",
    "ax = fig.add_subplot(1, 1, 1)\n",
    "# Original data\n",
    "ax.plot(sample_blue[:, 0], sample_blue[:, 1], 'o', color='C0')\n",
    "ax.plot(sample_orange[:, 0], sample_orange[:, 1], 'o', color='C1')\n",
    "# Bayes classifier\n",
    "mask_blue = proba_blue > proba_orange\n",
    "mask_orange = ~mask_blue\n",
    "ax.plot(arr[mask_blue, 0], arr[mask_blue, 1], 'o',\n",
    "        markersize=2, color='C0', alpha=.2)\n",
    "ax.plot(arr[mask_orange, 0], arr[mask_orange, 1], 'o',\n",
    "        markersize=2, color='C1', alpha=.2)\n",
    "ax.set_title('Bayes Optimal Classifier')\n",
    "plt.show()"
   ]
  },
  {
   "cell_type": "markdown",
   "metadata": {},
   "source": [
    "### KNN and Bayes classifier\n",
    "\n",
    "Again we see that the kNN classifier directly approximates this solution -- a majority vote in a nearest neighborhood amounts to exactly this, except that\n",
    "* conditional probability at a point is relaxed to conditional probability within a neighborhood of a point,\n",
    "* and probabilities are estimated by training-sample proportions."
   ]
  },
  {
   "cell_type": "markdown",
   "metadata": {},
   "source": [
    "### From two-class to $K$-class\n",
    "Suppose for a two-class problem we had taken the dummy-variable approach and coded $G$ via a binary $Y$, followed by squared error loss estimation. Then\n",
    "\n",
    "\\begin{equation}\n",
    "\\hat{f}(X) = \\text{E}(Y|X) = \\text{Pr}(G=\\mathcal{G}_1|X)\n",
    "\\end{equation}\n",
    "\n",
    "if $\\mathcal{G}_1$ corresponded to $Y=1$.\n",
    "\n",
    "Likewise for a $K$-class problem,\n",
    "\n",
    "\\begin{equation}\n",
    "\\text{E}(Y_k|X) = \\text{Pr}(G=\\mathcal{G}_k|X).\n",
    "\\end{equation}\n",
    "\n",
    "> This shows that our dummy-variable regression procedure, followed by classification to the largest fitted value, is another way of representing the Bayes classifier.\n",
    "\n",
    "Although this theory is exact, in practice problems can occur, depending on the regression model used. For example, when linear regression is used, $\\hat{f}(X)$ need not be positive, and we might be suspicious about using it as an estimate of a probability. We will discuss a variety of approaches to modeling $\\text{Pr}(G|X)$ in Chapter 4."
   ]
  }
 ],
 "metadata": {
  "kernelspec": {
   "display_name": "Python 3",
   "language": "python",
   "name": "python3"
  },
  "language_info": {
   "codemirror_mode": {
    "name": "ipython",
    "version": 3
   },
   "file_extension": ".py",
   "mimetype": "text/x-python",
   "name": "python",
   "nbconvert_exporter": "python",
   "pygments_lexer": "ipython3",
   "version": "3.6.4"
  }
 },
 "nbformat": 4,
 "nbformat_minor": 2
}
