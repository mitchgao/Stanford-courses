{
 "cells": [
  {
   "cell_type": "markdown",
   "metadata": {},
   "source": [
    "## $\\S$ 3.4.3. Discussion: Subset Selection, Ridge Regression, and the Lasso\n",
    "\n",
    "### Explicit solutions in the ideal situation\n",
    "\n",
    "In the case of an orthonormal input matrix $\\mathbf{X}$, the three procecures have explicit solutions as below.\n",
    "\n",
    "* Best subset (size $M$) drops all variables with coefficients smaller than the $M$th largest; this is a form of \"hard-thresholding\".  \n",
    "\\begin{equation}\n",
    "\\hat\\beta_j\\cdot I\\left( \\lvert\\hat\\beta_j\\rvert \\ge \\lvert\\hat\\beta_{(M)}\\rvert \\right)\n",
    "\\end{equation}\n",
    "* Ridge does a proportional shrinkage.  \n",
    "\\begin{equation}\n",
    "\\frac{\\hat\\beta_j}{1+\\lambda}\n",
    "\\end{equation}\n",
    "* Lasso translates each coefficient by a constant factor $\\lambda$, truncating at zero. This is called \"soft-thresholding\".  \n",
    "\\begin{equation}\n",
    "\\text{sign}\\left( \\hat\\beta_j \\right)\\left( \\lvert\\hat\\beta_j\\rvert - \\lambda \\right)_+\n",
    "\\end{equation}"
   ]
  },
  {
   "cell_type": "code",
   "execution_count": 22,
   "metadata": {},
   "outputs": [
    {
     "data": {
      "image/png": "[encoded data removed]",
      "text/plain": [
       "<matplotlib.figure.Figure at 0x7fb23ed0f5f8>"
      ]
     },
     "metadata": {},
     "output_type": "display_data"
    }
   ],
   "source": [
    "import scipy\n",
    "import matplotlib.pyplot as plt\n",
    "\n",
    "x = scipy.linspace(-1, 1, 100)\n",
    "\n",
    "y_best_subset = x.copy()\n",
    "y_best_subset[scipy.absolute(y_best_subset) <= .33] = 0\n",
    "\n",
    "y_ridge = x/1.5\n",
    "\n",
    "y_lasso = x.copy()\n",
    "y_lasso[scipy.absolute(y_lasso) <= .33] = 0\n",
    "y_lasso[y_lasso > .33] -= .33\n",
    "y_lasso[y_lasso < -.33] += .33\n",
    "        \n",
    "\n",
    "fig34 = plt.figure(figsize=(9, 3))\n",
    "ax1 = fig34.add_subplot(1, 3, 1)\n",
    "ax1.plot(x, x, color='gray')\n",
    "ax1.plot(x, y_best_subset, 'r--')\n",
    "ax1.set_title('Best Subset')\n",
    "ax1.grid()\n",
    "\n",
    "ax2 = fig34.add_subplot(1, 3, 2)\n",
    "ax2.plot(x, x, color='gray')\n",
    "ax2.plot(x, y_ridge, 'r--')\n",
    "ax2.set_title('Ridge')\n",
    "ax2.grid()\n",
    "\n",
    "ax3 = fig34.add_subplot(1, 3, 3)\n",
    "ax3.plot(x, x, color='gray')\n",
    "ax3.plot(x, y_lasso, 'r--')\n",
    "ax3.set_title('Lasso')\n",
    "ax3.grid()\n",
    "plt.show()"
   ]
  },
  {
   "cell_type": "markdown",
   "metadata": {},
   "source": [
    "### Back to the reality; the nonorthonormal case\n",
    "\n",
    "FIGURE 3.11 helps understand their relationship. Please consult with the textbook."
   ]
  },
  {
   "cell_type": "markdown",
   "metadata": {},
   "source": [
    "### Generalization to Bayes estimates\n",
    "\n",
    "Consider the criterion, for $q \\ge 0$,\n",
    "\n",
    "\\begin{equation}\n",
    "\\tilde\\beta = \\arg\\min_\\beta \\left\\lbrace \\sum_{i=1}^N \\left( y_i - \\beta_0 - \\sum_{j=1}^p x_{ij}\\beta_j \\right)^2 + \\lambda\\sum_{j=1}^p\\lvert\\beta_j\\rvert^q\\right\\rbrace\n",
    "\\end{equation}\n",
    "\n",
    "See FIGURE 3.12 in the textbook for the contours of $\\sum_j\\lvert\\beta_j\\rvert^q$.\n",
    "\n",
    "Thinking of $\\lvert\\beta_j\\rvert^q$ as the log-prior density for $\\beta_j$, these are also the equicontours of the prior distrobution of the parameters.\n",
    "* $q=0$ $\\Rightarrow$ variable subset selction, as the penalty simply counts the number of nonzero parameters,\n",
    "* $q=1$ $\\Rightarrow$ Laplace distribution with density  \n",
    "\n",
    "\\begin{equation}\n",
    "\\frac{1}{2\\tau}\\exp\\left(-\\lvert\\beta\\rvert/\\tau\\right),\n",
    "\\end{equation}\n",
    "where $\\tau = 1/\\lambda$. In this view, the lasso, ridge, and best subset selection are Bayes estimates with different priors. Note, however, that they are derived as posterior modes, that is, maximizers of the posterior. It is more common to use the mean of the posterior as the Bayes estimate. Ridge solution is also the posterior mean, but the lasso and best subset selection are not.\n",
    "\n",
    "Note that the lasso case is the smallest $q$ such that the constraint region is convex; non-convext constraint regions make the optimization problem more difficult.\n",
    "\n",
    "We might try using other values of $q$ besides $0$, $1$, or $2$. Although one might consider estimating $q$ from data, our experience is that it is not worth the effort for the extra variance incurred.\n",
    "\n",
    "Although this is the case, with $q \\gt 1$, $\\lvert\\beta_j\\rvert^q$ is differentiable at $0$, and so does not share the ability of lasso ($q=1$) for setting coefficients exactly to zero. Partly for this reason as well as for computational tractability, Zou and Hastie (2005) introduced the *elastic-net* penalty, introduced in $\\S$ 18.4."
   ]
  }
 ],
 "metadata": {
  "kernelspec": {
   "display_name": "Python 3",
   "language": "python",
   "name": "python3"
  },
  "language_info": {
   "codemirror_mode": {
    "name": "ipython",
    "version": 3
   },
   "file_extension": ".py",
   "mimetype": "text/x-python",
   "name": "python",
   "nbconvert_exporter": "python",
   "pygments_lexer": "ipython3",
   "version": "3.5.2"
  }
 },
 "nbformat": 4,
 "nbformat_minor": 2
}
