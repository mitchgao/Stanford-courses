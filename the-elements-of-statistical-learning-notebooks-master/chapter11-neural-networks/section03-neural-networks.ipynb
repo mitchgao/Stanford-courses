{
 "cells": [
  {
   "cell_type": "markdown",
   "metadata": {},
   "source": [
    "# $\\S$ 11.3. Neural Networks\n",
    "\n",
    "### Single layer perceptron\n",
    "\n",
    "The term _neural networks_ has evolved to encompass a large class of models and learning methods. Here we describe the most widely used \"vanilla\" neural net, sometimes called the single hidden layer back-propagation network, or single layer perceptron.\n",
    "\n",
    "There has been a great deal of _hype_ surrounding neural networks, making them seem magical and mysterious. As we make clear in this section, they are just nonlinear statistical models, much like the PPR model.\n",
    "\n",
    "A neural network is a two-stage regression or classification model, typically represented by a _network diagram_ as in FIGURE 11.2. This network applies both to regression or classification.\n",
    "* For regression, typically $K=1$ and there is only one output unit $Y_1$ at the top.  \n",
    "  However, these networks can handle multiple quantitative responses in a seamless fashion, so we will deal with the general case.\n",
    "* For $K$-class classification, there are $K$ units at the top, with the $k$th unit modeling the probability of class $k$. There are $K$ target measurements $Y_k$ each being coded as a 0-1 variable for the $k$th class."
   ]
  },
  {
   "cell_type": "markdown",
   "metadata": {},
   "source": [
    "### $Z$\n",
    "\n",
    "Derived features $Z_m$ are created from linear combinations of the inputs, and the target $Y_k$ is modeled as a function of linear combinations of the $Z_m$,\n",
    "\n",
    "\\begin{align}\n",
    "Z_m &= \\sigma(\\alpha_{0m} + \\alpha_m^T X), & m=1,\\cdots,M, \\\\\n",
    "T_k &= \\beta_{0k} + \\beta_k^T Z, & k=1,\\cdots,K, \\\\\n",
    "f_k(X) &= g_k(T), & k=1,\\cdots,K.\n",
    "\\end{align}"
   ]
  },
  {
   "cell_type": "markdown",
   "metadata": {},
   "source": [
    "### Sigmoid\n",
    "\n",
    "The activation function $\\sigma(v)$ is usually chosen to be the _sigmoid_\n",
    "\n",
    "\\begin{equation}\n",
    "\\sigma(v) = \\frac{1}{1+e^{-v}}.\n",
    "\\end{equation}\n",
    "\n",
    "See FIGURE 11.3 for a plot of the sigmoid function.\n",
    "\n",
    "Sometimes Gaussian radial basis functions (Chapter 6) are used for the $\\sigma(v)$, producing what is known as a _radial basis function network_."
   ]
  },
  {
   "cell_type": "code",
   "execution_count": 1,
   "metadata": {},
   "outputs": [],
   "source": [
    "\"\"\"FIGURE 11.3. Plot of the sigmoid function.\n",
    "The scale parameter s controls the activation rate,\n",
    "and we can see that large s amounts to a hard activation at v=0.\n",
    "Note that sigmoid(s(v-v0)) shifts the activation threshold from 0 to v0.\"\"\"\n",
    "import scipy\n",
    "import matplotlib.pyplot as plt"
   ]
  },
  {
   "cell_type": "code",
   "execution_count": 2,
   "metadata": {},
   "outputs": [],
   "source": [
    "def sigmoid(x:scipy.ndarray, s:float)->scipy.ndarray:\n",
    "    return scipy.reciprocal(1+scipy.exp(-s*x))"
   ]
  },
  {
   "cell_type": "code",
   "execution_count": 4,
   "metadata": {},
   "outputs": [
    {
     "data": {
      "image/png": "[encoded data removed]",
      "text/plain": [
       "<matplotlib.figure.Figure at 0x7f793ba3f278>"
      ]
     },
     "metadata": {},
     "output_type": "display_data"
    }
   ],
   "source": [
    "x = scipy.linspace(-10, 10, 200)\n",
    "y_1 = sigmoid(x, 1)\n",
    "y_half = sigmoid(x, .5)\n",
    "y_10 = sigmoid(x, 10)\n",
    "\n",
    "fig = plt.figure(0, figsize=(10, 5))\n",
    "ax = fig.add_subplot(1, 1, 1)\n",
    "ax.plot(x, y_1, color='C3')\n",
    "ax.plot(x, y_half, '--', color='C0')\n",
    "ax.plot(x, y_10, '--', color='C4')\n",
    "ax.set_xlabel('v')\n",
    "ax.set_ylabel('sigmoid')\n",
    "plt.show()"
   ]
  },
  {
   "cell_type": "markdown",
   "metadata": {},
   "source": [
    "### Bias unit\n",
    "\n",
    "Neural network diagrams like FIGURE 11.2 are sometimes drawn with an additional _bias_ unit feeding into every unit in the hidden and output layers. Thinking of the constant \"$1$\" as an additional input feature, this bias unit captures the intercept $\\alpha_{0m}$ and $\\beta_{0k}$ in the above model."
   ]
  },
  {
   "cell_type": "markdown",
   "metadata": {},
   "source": [
    "### $g_k$\n",
    "\n",
    "The output function $g_k(T)$ allows a final transformation of the vector of outputs $T$. For regression we typically choose the identity function $g_k(T) = T$.\n",
    "\n",
    "Early work in $K$-class classification also used the identity function, but this was later abandoned in favor of the _softmax_ functon\n",
    "\n",
    "\\begin{equation}\n",
    "g_k(T) = \\frac{\\exp T_k}{\\sum_{l=1}^K \\exp T_l}.\n",
    "\\end{equation}\n",
    "\n",
    "This is of course exactly the transformation used in the multilogit model ($\\S$ 4.4), and produces positive estimates that sum to one. In $\\S$ 4.2 we discuss other problems with linear activation functions, in particular potentially severe masking effects."
   ]
  },
  {
   "cell_type": "markdown",
   "metadata": {},
   "source": [
    "### $Z$ again\n",
    "\n",
    "The units in the middle of the network, computing the derived features $Z_m$, are called _hidden units_ because the values $Z_m$ are not directly observed.\n",
    "\n",
    "We can think of the $Z_m$ as a basis expansion of the original inputs $X$; the neural network is then a standard linear model, or linear multilogit model, using these transformations and inputs.\n",
    "\n",
    "There is, however, an important enhancement over the basis expansion techniques;\n",
    "\n",
    "> here the parameters of the basis functions are learned from the data."
   ]
  },
  {
   "cell_type": "markdown",
   "metadata": {},
   "source": [
    "### Nonlinear generalization of the linear model\n",
    "\n",
    "Notice that if $\\sigma$ is the identity function, then the entire model collapses to a linear model in the inputs. Hence a neural network can be thought of as a nonlinear generalization of the linear model, both for regression and classification. By introducing the nonlinear transformation $\\sigma$, it greatly enlarges the class of linear models.\n",
    "\n",
    "In FIGURE 11.3 we see that\n",
    "* the rate of activation of the sigmoid depends on the norm of $\\alpha_m$, and\n",
    "* if $\\|\\alpha_m\\|$ is very small, the unit will indeed be operating in the _linear part_ of its activation function."
   ]
  },
  {
   "cell_type": "markdown",
   "metadata": {},
   "source": [
    "### Neural network versus PPR\n",
    "\n",
    "Notice also that neural network model with one hidden layer has exactly the same form as the projection pursuit model.\n",
    "\n",
    "The difference is that\n",
    "* the PPR model uses nonparametric functions $g_m(v)$, while\n",
    "* the neural network uses a far simpler function based on $\\sigma(v)$, with three free parameters in its argument.\n",
    "\n",
    "In detail, viewing the neural network models as a PPR model, we identify\n",
    "\n",
    "\\begin{align}\n",
    "g_m(\\omega_m^T X) &= \\beta_m \\sigma(\\alpha_{0m} + \\alpha_m^T X) \\\\\n",
    "&= \\beta_m \\sigma(\\alpha_{0m} + \\|\\alpha_m\\|\\omega_m^T X),\n",
    "\\end{align}\n",
    "\n",
    "where $\\omega_m = \\alpha_m / \\|\\alpha_m\\|$ is the $m$th unit-vector.\n",
    "\n",
    "Since\n",
    "\n",
    "\\begin{equation}\n",
    "\\sigma_{\\beta,\\alpha_0,s}(v) = \\beta\\sigma(\\alpha_0 + sv)\n",
    "\\end{equation}\n",
    "\n",
    "has lower complexity than a more general nonparametric $g(v)$, it is not surprising that a neural network might use 20 or 100 such functions, while the PPR model typically uses fewer terms, e.g., $M=5$ or $10$."
   ]
  },
  {
   "cell_type": "markdown",
   "metadata": {},
   "source": [
    "### The name, and the history\n",
    "\n",
    "Finally, we note that the name \"neural networks\" derives from the fact that they were first developed as models for the human brain. Each unit represents a neuron, and the connections (links in FIGURE 11.2) represent synapses.\n",
    "\n",
    "In early models, the neurons fired when the total signal passed to that unit exceeded a certain threshold. In the model above, this corresponds to use of a step function for $\\sigma(Z)$ and $g_m(T)$.\n",
    "\n",
    "Later the neural network was recognized as a useful tool for nonlinear statistical modeling, and for this purpose the step function is not smooth enough for optimization. Hence the step function was replaced by a smoother threshold function, the sigmoid."
   ]
  }
 ],
 "metadata": {
  "kernelspec": {
   "display_name": "Python 3",
   "language": "python",
   "name": "python3"
  },
  "language_info": {
   "codemirror_mode": {
    "name": "ipython",
    "version": 3
   },
   "file_extension": ".py",
   "mimetype": "text/x-python",
   "name": "python",
   "nbconvert_exporter": "python",
   "pygments_lexer": "ipython3",
   "version": "3.6.4"
  }
 },
 "nbformat": 4,
 "nbformat_minor": 2
}
