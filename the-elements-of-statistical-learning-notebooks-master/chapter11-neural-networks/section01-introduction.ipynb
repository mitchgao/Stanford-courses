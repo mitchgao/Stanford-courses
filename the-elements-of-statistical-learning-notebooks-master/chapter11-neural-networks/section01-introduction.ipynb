{
 "cells": [
  {
   "cell_type": "markdown",
   "metadata": {},
   "source": [
    "# Chapter 11. Neural Networks\n",
    "# $\\S$ 11.1 Introduction\n",
    "\n",
    "In this chapter we describe a class of learning methods that was developed separately in different fields -- statistics and artificial intelligence -- based on essentially identical models.\n",
    "\n",
    "> The central idea is to extract linear combinations of the inputs as derived features, and then model the target as a nonlinear function of these features.\n",
    "\n",
    "The result is a powerful learning method, with widespread applications in many fields."
   ]
  }
 ],
 "metadata": {
  "kernelspec": {
   "display_name": "Python 3",
   "language": "python",
   "name": "python3"
  },
  "language_info": {
   "codemirror_mode": {
    "name": "ipython",
    "version": 3
   },
   "file_extension": ".py",
   "mimetype": "text/x-python",
   "name": "python",
   "nbconvert_exporter": "python",
   "pygments_lexer": "ipython3",
   "version": "3.6.4"
  }
 },
 "nbformat": 4,
 "nbformat_minor": 2
}
