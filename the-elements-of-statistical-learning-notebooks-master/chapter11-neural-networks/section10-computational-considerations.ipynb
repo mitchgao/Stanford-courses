{
 "cells": [
  {
   "cell_type": "markdown",
   "metadata": {},
   "source": [
    "# $\\S$ 11.10. Computational Considerations\n",
    "\n",
    "With\n",
    "* $N$ observations,\n",
    "* $p$ predictors,\n",
    "* $M$ hidden units and\n",
    "* $L$ training epochs,\n",
    "\n",
    "a neural network fit typically requires $O(NpML)$ operations.\n",
    "\n",
    "There are many packages available for fitting neural networks, probably many more than exist for mainstream statistical methods. Because the available software varies widely in quality, and  the learning problem for neural networks is sensitive to issues such as input scaling, such software should be carefully chosen and tested."
   ]
  }
 ],
 "metadata": {
  "kernelspec": {
   "display_name": "Python 3",
   "language": "python",
   "name": "python3"
  },
  "language_info": {
   "codemirror_mode": {
    "name": "ipython",
    "version": 3
   },
   "file_extension": ".py",
   "mimetype": "text/x-python",
   "name": "python",
   "nbconvert_exporter": "python",
   "pygments_lexer": "ipython3",
   "version": "3.6.4"
  }
 },
 "nbformat": 4,
 "nbformat_minor": 2
}
