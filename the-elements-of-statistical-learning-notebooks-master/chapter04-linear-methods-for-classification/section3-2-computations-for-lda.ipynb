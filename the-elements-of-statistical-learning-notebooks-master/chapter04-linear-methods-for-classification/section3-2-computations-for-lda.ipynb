{
 "cells": [
  {
   "cell_type": "markdown",
   "metadata": {},
   "source": [
    "## $\\S$ 4.3.2. Computations for LDA\n",
    "\n",
    "Computations for LDA and QDA are simplified by diagonalizing $\\hat\\Sigma$ or $\\hat\\Sigma_k$. For the latter, suppose we compute the eigen-decomposition, for each $k$,\n",
    "\n",
    "\\begin{equation}\n",
    "\\hat\\Sigma_k = \\mathbf{U}_k\\mathbf{D}_k\\mathbf{U}_K^T,\n",
    "\\end{equation}\n",
    "\n",
    "where $\\mathbf{U}_k$ is $p\\times p$ orthogonal, and $\\mathbf{D}_k$ a diagonal matrix of positive eigenvalues $d_{kl}$.\n",
    "\n",
    "Then the ingredients for $\\delta_k(x)$ are\n",
    "* $(x-\\hat\\mu_k)^T\\hat\\Sigma_k^{-1}(x-\\hat\\mu_k) = \\left[\\mathbf{U}_k(x-\\hat\\mu_k)\\right]^T\\mathbf{D}_k^{-1}\\left[\\mathbf{U}_k(x-\\hat\\mu_k)\\right]$\n",
    "* $\\log|\\hat\\Sigma_k| = \\sum_l \\log d_{kl}$\n",
    "\n",
    "Note that the inversion of diagonal matrices only requires elementwise reprocials.\n",
    "\n",
    "The LDA classifier can be implemented by the following pair of steps:\n",
    "* *Sphere* the data w.r.t. the common covariance estimate $\\hat\\Sigma = \\mathbf{U}\\mathbf{D}\\mathbf{U}^T$:  \n",
    "\\begin{equation}\n",
    "X* \\rightarrow \\mathbf{D}^{-\\frac{1}{2}}\\mathbf{U}^TX,\n",
    "\\end{equation}  \n",
    "The common covariance estimate of $X*$ will now be the identity.\n",
    "* Classify to the closest class centroid in the transformed space, modulo the effect of the class prior probabilities $\\pi_k$."
   ]
  }
 ],
 "metadata": {
  "kernelspec": {
   "display_name": "Python 3",
   "language": "python",
   "name": "python3"
  },
  "language_info": {
   "codemirror_mode": {
    "name": "ipython",
    "version": 3
   },
   "file_extension": ".py",
   "mimetype": "text/x-python",
   "name": "python",
   "nbconvert_exporter": "python",
   "pygments_lexer": "ipython3",
   "version": "3.5.2"
  }
 },
 "nbformat": 4,
 "nbformat_minor": 2
}
