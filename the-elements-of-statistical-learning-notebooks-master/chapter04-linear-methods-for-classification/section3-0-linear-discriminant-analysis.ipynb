{
 "cells": [
  {
   "cell_type": "markdown",
   "metadata": {},
   "source": [
    "# $\\S$ 4.3. Linear Discriminant Analysis\n",
    "\n",
    "[$\\S$ 2.4. Decision theory for classification](/notebooks/chapter2-overview-of-supervised-learning/section4-statistical-decision-theory.ipynb) tells us that we need to know the class posteriors $\\text{Pr}(G|X)$ for optimal classification. Suppose\n",
    "* $f_k(x)$ is the class-conditional density of $X$ in class $G=k$,\n",
    "* $\\pi_k$ is the prior probability of class $k$, with $\\sum\\pi_k=1$.\n",
    "\n",
    "A simple application of Bayes theorem gives us\n",
    "\n",
    "\\begin{equation}\n",
    "\\text{Pr}(G=k|X=x) = \\frac{f_k(x)\\pi_k}{\\sum_{l=1}^K f_l(x)\\pi_l}.\n",
    "\\end{equation}\n",
    "\n",
    "We see that in terms of ability to classify, it is enough to have the $f_k(x)$.\n",
    "\n",
    "Many techniques are based on models for the class densities:\n",
    "* linear and quadratic discriminant analysis use Gaussian densities;\n",
    "* more flexible mixtures of Gaussian allow for nonlinear decision boundaires ($\\S$ 6.8);\n",
    "* general nonparametric density estimates for each class density allow the most flexibility ($\\S$ 6.6.2);\n",
    "* *Naive Bayes* models are a variant of the previous case, and assume that the inputs are conditionally independent in each class; i.e., each of the class densities are products of marginal densities ($\\S$ 6.6.3)."
   ]
  },
  {
   "cell_type": "markdown",
   "metadata": {},
   "source": [
    "### LDA from multivariate Gaussian\n",
    "\n",
    "Suppose that we model each class density as multivariate Gaussian\n",
    "\n",
    "\\begin{equation}\n",
    "f_k(x) = \\frac{1}{(2\\pi)^{p/2}|\\Sigma_k|^{1/2}}\\exp\\left\\lbrace -\\frac{1}{2}(x-\\mu_k)^T\\Sigma_k^{-1}(x-\\mu_k) \\right\\rbrace\n",
    "\\end{equation}\n",
    "\n",
    "Linear discriminant analysis (LDA) arises in the special case when we assume that the classes have a common covariance matrix $\\Sigma_k=\\Sigma,\\forall k$.\n",
    "\n",
    "In comparing two classes $k$ and $l$, it is sufficient to look at the log-ratio, and we see that as an equation linear in $x$,\n",
    "\n",
    "\\begin{align}\n",
    "\\log\\frac{\\text{Pr}(G=k|X=x)}{\\text{Pr}(G=l|X=x)} &= \\log\\frac{f_k(x)}{f_l(x)} + \\log\\frac{\\pi_k}{\\pi_l} \\\\\n",
    "&= \\log\\frac{\\pi_k}{\\pi_l} - \\frac{1}{2}\\mu_k^T\\Sigma^{-1}\\mu_k + \\frac{1}{2}\\mu_l^T\\Sigma^{-1}\\mu_l + x^T\\Sigma^{-1}(\\mu_k-\\mu_l) \\\\\n",
    "&= \\delta_k(x) - \\delta_l(x),\n",
    "\\end{align}\n",
    "\n",
    "where $\\delta_k$ is the *linear discriminant function*\n",
    "\n",
    "\\begin{equation}\n",
    "\\delta_k(x) = x^T\\Sigma^{-1}\\mu_k - \\frac{1}{2}\\mu_k^T\\Sigma^{-1}\\mu_k + \\log\\pi_k.\n",
    "\\end{equation}\n",
    "\n",
    "This linear log-odds function implies that the decision boundary between classes $k$ and $l$\n",
    "\n",
    "\\begin{equation}\n",
    "\\left\\lbrace x: \\delta_k(x) - \\delta_l(x) = 0 \\right\\rbrace\n",
    "\\end{equation}\n",
    "\n",
    "is linear in $x$; in $p$ dimensions a hyperplane. Also the linear discriminant functions are equivalent description of the decision rule, with\n",
    "\n",
    "\\begin{equation}\n",
    "G(x) = \\arg\\max_k \\delta_k(x).\n",
    "\\end{equation}"
   ]
  },
  {
   "cell_type": "code",
   "execution_count": 1,
   "metadata": {},
   "outputs": [],
   "source": [
    "\"\"\"FIGURE 4.5. An idealized example with K=3, p=2, and a common covariance\n",
    "\n",
    "Here the right panel shows the LDA classification results instead of the\n",
    "decision boundaries.\"\"\"\n",
    "import scipy\n",
    "import scipy.linalg\n",
    "import matplotlib.pyplot as plt"
   ]
  },
  {
   "cell_type": "code",
   "execution_count": 2,
   "metadata": {},
   "outputs": [],
   "source": [
    "size_cluster = 30\n",
    "# mat_rand = scipy.rand(2, 2)\n",
    "# cov = mat_rand.T @ mat_rand / 10\n",
    "cov = scipy.array([[1.0876306, 0.2065698],\n",
    "                   [0.2065698, 0.1157603]])/2\n",
    "\n",
    "cluster1 = scipy.random.multivariate_normal([-.5, 0], cov, size_cluster)\n",
    "cluster2 = scipy.random.multivariate_normal([.5, 0], cov, size_cluster)\n",
    "cluster3 = scipy.random.multivariate_normal([0, .5], cov, size_cluster)\n",
    "\n",
    "# Estimating parameters\n",
    "vec_mean1 = cluster1.mean(axis=0)\n",
    "vec_mean2 = cluster2.mean(axis=0)\n",
    "vec_mean3 = cluster3.mean(axis=0)\n",
    "\n",
    "cluster_centered1 = cluster1 - vec_mean1\n",
    "cluster_centered2 = cluster2 - vec_mean2\n",
    "cluster_centered3 = cluster3 - vec_mean3\n",
    "mat_cov = (cluster_centered1.T @ cluster_centered1 +\n",
    "           cluster_centered2.T @ cluster_centered2 +\n",
    "           cluster_centered3.T @ cluster_centered3)/(3*size_cluster-3)"
   ]
  },
  {
   "cell_type": "code",
   "execution_count": 3,
   "metadata": {},
   "outputs": [],
   "source": [
    "# Calculate linear discriminant scores\n",
    "sigma_inv_mu123 = scipy.linalg.solve(\n",
    "    mat_cov,\n",
    "    scipy.vstack((vec_mean1, vec_mean2, vec_mean3)).T,\n",
    ")\n",
    "sigma_inv_mu1, sigma_inv_mu2, sigma_inv_mu3 = sigma_inv_mu123.T\n",
    "\n",
    "mat_x = scipy.vstack((cluster1, cluster2, cluster3))\n",
    "mat_delta = (mat_x @ sigma_inv_mu123 -\n",
    "             scipy.array((vec_mean1 @ sigma_inv_mu1,\n",
    "                          vec_mean2 @ sigma_inv_mu2,\n",
    "                          vec_mean3 @ sigma_inv_mu3))/2)\n",
    "\n",
    "cluster_classified1 = mat_x[mat_delta.argmax(axis=1) == 0]\n",
    "cluster_classified2 = mat_x[mat_delta.argmax(axis=1) == 1]\n",
    "cluster_classified3 = mat_x[mat_delta.argmax(axis=1) == 2]"
   ]
  },
  {
   "cell_type": "code",
   "execution_count": 4,
   "metadata": {},
   "outputs": [
    {
     "data": {
      "image/png": "[encoded data removed]",
      "text/plain": [
       "<matplotlib.figure.Figure at 0x7f2d528175f8>"
      ]
     },
     "metadata": {},
     "output_type": "display_data"
    }
   ],
   "source": [
    "fig45 = plt.figure(0, figsize=(10, 5))\n",
    "ax1 = fig45.add_subplot(1, 2, 1)\n",
    "ax1.plot(cluster1[:, 0], cluster1[:, 1], 'o', color='C0')\n",
    "ax1.plot(cluster2[:, 0], cluster2[:, 1], 'o', color='C1')\n",
    "ax1.plot(cluster3[:, 0], cluster3[:, 1], 'o', color='C2')\n",
    "ax1.plot(-.5, 0, 'o', color='C0', markersize=10, markeredgecolor='black',\n",
    "         markeredgewidth=3)\n",
    "ax1.plot(.5, 0, 'o', color='C1', markersize=10, markeredgecolor='black',\n",
    "         markeredgewidth=3)\n",
    "ax1.plot(0, .5, 'o', color='C2', markersize=10, markeredgecolor='black',\n",
    "         markeredgewidth=3)\n",
    "ax1.set_title('Simulation Data')\n",
    "\n",
    "ax2 = fig45.add_subplot(1, 2, 2)\n",
    "ax2.plot(cluster_classified1[:, 0], cluster_classified1[:, 1], 'o', color='C0')\n",
    "ax2.plot(cluster_classified2[:, 0], cluster_classified2[:, 1], 'o', color='C1')\n",
    "ax2.plot(cluster_classified3[:, 0], cluster_classified3[:, 1], 'o', color='C2')\n",
    "ax2.plot(vec_mean1[0], vec_mean1[1], 'o', color='C0', markersize=10,\n",
    "         markeredgecolor='black', markeredgewidth=3)\n",
    "ax2.plot(vec_mean2[0], vec_mean2[1], 'o', color='C1', markersize=10,\n",
    "         markeredgecolor='black', markeredgewidth=3)\n",
    "ax2.plot(vec_mean3[0], vec_mean3[1], 'o', color='C2', markersize=10,\n",
    "         markeredgecolor='black', markeredgewidth=3)\n",
    "ax2.set_title('LDA Results')\n",
    "plt.show()"
   ]
  },
  {
   "cell_type": "markdown",
   "metadata": {},
   "source": [
    "### Estimating parameters\n",
    "\n",
    "In practice we do not know the parameters of the Gaussian distributions, and will need to estimate them using our training data:\n",
    "* $\\hat\\pi_k = N_k/N$,\n",
    "* $\\hat\\mu_k = \\sum_{g_i = k} x_i/N_k$;\n",
    "* $\\hat\\Sigma = \\sum_{k=1}^K \\sum_{g_i=k}(x_i-\\hat\\mu_k)(x_i-\\hat\\mu_k)^T/(N-K)$."
   ]
  },
  {
   "cell_type": "markdown",
   "metadata": {},
   "source": [
    "### Simple correspondence between LDA and linear regression with two classes\n",
    "\n",
    "The LDA rule classifies to class 2 if\n",
    "\n",
    "\\begin{equation}\n",
    "x^T\\hat\\Sigma^{-1}(\\hat\\mu_2-\\hat\\mu_1) > \\frac{1}{2}(\\hat\\mu_2+\\hat\\mu_1)^T\\hat\\Sigma^{-1}(\\hat\\mu_2+\\hat\\mu_1) - \\log\\frac{N_2}{N_1},\n",
    "\\end{equation}\n",
    "\n",
    "and class 1 otherwise. If we code the targets in the two classees as $+1$ and $-1$ respectively, then the coefficient vector from least squares is proportional to the LDA direction shown above (Exercise 4.2). However unless $N_1=N_2$ the intercepts are different and hence the resulting decision rules are different.\n",
    "\n",
    "If $K>2$, LDA is not the same as linear regression of the class indicator matrix, and it avoids the masking problems (Hastie et al., 1994). A correspondence can be established through the notion of *optimal scoring*, discussed in $\\S$ 12.5."
   ]
  },
  {
   "cell_type": "markdown",
   "metadata": {},
   "source": [
    "### Practice beyond the Gaussian assumption\n",
    "\n",
    "Since the derivation of the LDA direction via least squares does not use a Gaussian assumption for the features, its applicability extends beyond the realm of Gaussian data. However the derivation of the particular intercept or cut-point given in the above LDA rule *does* require Gaussian data. Thus it makes sense to instead choose the cut-point that empirically minimizes training error for a given dataset. This something we have found to work well in practive, but have not seen it mentioned in the literature."
   ]
  },
  {
   "cell_type": "markdown",
   "metadata": {},
   "source": [
    "### Quadratic Discriminant Analysis\n",
    "\n",
    "If the $\\Sigma_k$ are not assumed to be equal, then the convenient cancellations do not occur. We then get *quadratic discriminant functions* (QDA),\n",
    "\n",
    "\\begin{equation}\n",
    "\\delta_k(x) = -\\frac{1}{2}\\log|\\Sigma_k| -\\frac{1}{2}(x-\\mu_k)^T\\Sigma_k^{-1}(x-\\mu_k) + \\log\\pi_k\n",
    "\\end{equation}\n",
    "\n",
    "The decision boundary between each pair of classes $k$ and $l$ is described by a quadratic equation $\\left\\lbrace x: \\delta_k(x) = \\delta_l(x) \\right\\rbrace$."
   ]
  },
  {
   "cell_type": "code",
   "execution_count": 5,
   "metadata": {},
   "outputs": [
    {
     "name": "stdout",
     "output_type": "stream",
     "text": [
      "Under construction ...\n"
     ]
    }
   ],
   "source": [
    "\"\"\"FIGURE 4.6. QDA and augmented LDA\n",
    "\n",
    "Two methods for fitting quadratic boundaries. The differences are generally\n",
    "small; QDA is the preferred approach, with the LDA method a convenient\n",
    "substitute.\"\"\"\n",
    "print('Under construction ...')"
   ]
  },
  {
   "cell_type": "markdown",
   "metadata": {},
   "source": [
    "This estimates for QDA are similar to those for LDA, except that separate covariance matrices must be estimated for each class. When $p$ is large this can mean a dramatic increase in parameters.\n",
    "\n",
    "> Since the decision boundaries are functions of the parameters of the densities, counting the number of parameters must be done with care.\n",
    "\n",
    "For LDA, it seems there are $(K-1)\\times(p+1)$ paramters, since we only need the differences $\\delta_k(x)-\\delta_K(x)$ between the discriminant functions where $K$ is some pre-chosen class (here the last), and each difference requires $p+1$ parameters. Likewise for QDA there will be $(K-1)\\times\\lbrace p(p+3)/2+1 \\rbrace$ parameters.\n",
    "\n",
    "Both LDA and QDA perform well on an amazingly large and diverse set of classification tasks. See the textbook (the page 111) for the evidence (Michie et al., 1994)."
   ]
  },
  {
   "cell_type": "markdown",
   "metadata": {},
   "source": [
    "### Why LDA and QDA have such a good track record?\n",
    "\n",
    "The data are approximately Gaussian, or for LDA the covariances are approximately equal? Maybe not.\n",
    "\n",
    "More likely a reason is that the data can only support simple decision boundaries such as linear or quadratic, and the estimates provided via the Guassian models are stable.\n",
    "\n",
    "This is a bias-variance tradeoff -- we can put up with the bias of a linear decision boundary because it can be estimated with much lower variance than more exotic alternatives. This argument is less believable for QDA, since it can have many parameters itself, although perhaps fewer than the non-parametric alternatives."
   ]
  }
 ],
 "metadata": {
  "kernelspec": {
   "display_name": "Python 3",
   "language": "python",
   "name": "python3"
  },
  "language_info": {
   "codemirror_mode": {
    "name": "ipython",
    "version": 3
   },
   "file_extension": ".py",
   "mimetype": "text/x-python",
   "name": "python",
   "nbconvert_exporter": "python",
   "pygments_lexer": "ipython3",
   "version": "3.5.2"
  }
 },
 "nbformat": 4,
 "nbformat_minor": 2
}
