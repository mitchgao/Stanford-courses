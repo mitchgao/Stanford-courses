{
 "cells": [
  {
   "cell_type": "markdown",
   "metadata": {},
   "source": [
    "## $\\S$ 4.3.1. Regularized Discriminant Analysis\n",
    "\n",
    "### $\\Sigma_k \\leftrightarrow \\Sigma$\n",
    "These methods are very similar in flavor to ridge regression. Friedman (1989) proposed a compromise between LDA and QDA, which allows one to shrink the separate covariances of QDA toward a common covariance $\\hat\\Sigma$ as in LDA. The regularized covariance matrices have the form\n",
    "\n",
    "\\begin{equation}\n",
    "\\hat\\Sigma_k(\\alpha) = \\alpha\\hat\\Sigma_k + (1+\\alpha)\\hat\\Sigma,\n",
    "\\end{equation}\n",
    "\n",
    "where $\\alpha\\in[0,1]$ allows a continuum of models between LDA and QDA, and needs to be specified. In practice $\\alpha$ can be chosen based on the performance of the model on validation data, or by cross-validation."
   ]
  },
  {
   "cell_type": "markdown",
   "metadata": {},
   "source": [
    "### $\\Sigma \\leftrightarrow \\sigma$\n",
    "\n",
    "Similar modifications allow $\\hat\\Sigma$ itelf to be shrunk toward the scalar covariance,\n",
    "\n",
    "\\begin{equation}\n",
    "\\hat\\Sigma(\\gamma) = \\gamma\\hat\\Sigma + (1-\\gamma)\\hat\\sigma^2\\mathbf{I},\n",
    "\\end{equation}\n",
    "\n",
    "for $\\gamma\\in[0,1]$.\n",
    "\n",
    "Combining two regularization leads to a more general family of covariances $\\hat\\Sigma(\\alpha,\\gamma)$."
   ]
  },
  {
   "cell_type": "markdown",
   "metadata": {},
   "source": [
    "### To be continued\n",
    "\n",
    "In Chapter 12, we discuss other regularized versions of LDA, which are more suitable when the data arise from digitized analog signals and images. In these situations the features are high-dimensional and correlated, and the LDA coefficients can be regularized to be smooth or sparse in original domain of the signal.\n",
    "\n",
    "In Chapter 18, we also deal with very high-dimensional problems, where for example, the features are gene-expression measurements in microarray studies."
   ]
  }
 ],
 "metadata": {
  "kernelspec": {
   "display_name": "Python 3",
   "language": "python",
   "name": "python3"
  },
  "language_info": {
   "codemirror_mode": {
    "name": "ipython",
    "version": 3
   },
   "file_extension": ".py",
   "mimetype": "text/x-python",
   "name": "python",
   "nbconvert_exporter": "python",
   "pygments_lexer": "ipython3",
   "version": "3.5.2"
  }
 },
 "nbformat": 4,
 "nbformat_minor": 2
}
