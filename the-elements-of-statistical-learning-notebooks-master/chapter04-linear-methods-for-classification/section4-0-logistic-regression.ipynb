{
 "cells": [
  {
   "cell_type": "markdown",
   "metadata": {},
   "source": [
    "# $\\S$ 4.4. Logistic Regression\n",
    "\n",
    "The logistic regression model arises from the desire to model the posterior probabilities of the $K$ classes via linear functions in $x$, ensuring the natural properties of the probability: They sum to one and remain in $[0,1]$.\n",
    "\n",
    "The model has the form\n",
    "\n",
    "\\begin{align}\n",
    "\\log\\frac{\\text{Pr}(G=1|X=x)}{\\text{Pr}(G=K|X=x)} &= \\beta_{10} + \\beta_1^Tx \\\\\n",
    "\\log\\frac{\\text{Pr}(G=2|X=x)}{\\text{Pr}(G=K|X=x)} &= \\beta_{20} + \\beta_2^Tx \\\\\n",
    "&\\vdots \\\\\n",
    "\\log\\frac{\\text{Pr}(G=K-1|X=x)}{\\text{Pr}(G=K|X=x)} &= \\beta_{(K-1)0} + \\beta_{K-1}^Tx \\\\\n",
    "\\end{align}\n",
    "\n",
    "The model is specified in terms of $K-1$ log-odds or logit transformations, reflecting the constraint that the probabilities sum to one. The choice of denominator ($K$ in this case) is arbitrary in that the estimates are equivalent under this choice."
   ]
  },
  {
   "cell_type": "markdown",
   "metadata": {},
   "source": [
    "### Sum to one\n",
    "\n",
    "To emphasize the dependence on the entire parameter set $\\theta = \\left\\lbrace \\beta_{10}, \\beta_1^T, \\cdots, \\beta_{(K-1)0}, \\beta_{K-1}^T\\right\\rbrace$, we denote the probabilities\n",
    "\n",
    "\\begin{equation}\n",
    "\\text{Pr}(G=k|X=x) = p_k(x;\\theta)\n",
    "\\end{equation}\n",
    "\n",
    "A simple calculation shows that\n",
    "\n",
    "\\begin{align}\n",
    "\\text{Pr}(G=k|X=x) &= \\frac{\\exp(\\beta_{k0}+\\beta_k^Tx)}{1+\\sum_{l=1}^{K-1}\\exp(\\beta_{l0}+\\beta_l^Tx)}, \\text{ for } k=1,\\cdots,K-1, \\\\\n",
    "\\text{Pr}(G=K|X=x) &= \\frac{1}{1+\\sum_{l=1}^{K-1}\\exp(\\beta_{l0}+\\beta_l^Tx)},\n",
    "\\end{align}\n",
    "\n",
    "and they clearly sum to one.\n",
    "\n",
    "When $K=2$, this model is especially simple, since there is only a single linear function."
   ]
  }
 ],
 "metadata": {
  "kernelspec": {
   "display_name": "Python 3",
   "language": "python",
   "name": "python3"
  },
  "language_info": {
   "codemirror_mode": {
    "name": "ipython",
    "version": 3
   },
   "file_extension": ".py",
   "mimetype": "text/x-python",
   "name": "python",
   "nbconvert_exporter": "python",
   "pygments_lexer": "ipython3",
   "version": "3.5.2"
  }
 },
 "nbformat": 4,
 "nbformat_minor": 2
}
