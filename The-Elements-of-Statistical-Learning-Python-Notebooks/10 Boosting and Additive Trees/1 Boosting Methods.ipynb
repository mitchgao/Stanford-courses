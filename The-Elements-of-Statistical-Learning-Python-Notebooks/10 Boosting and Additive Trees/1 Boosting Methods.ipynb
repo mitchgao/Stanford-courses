{
 "cells": [
  {
   "cell_type": "code",
   "execution_count": 1,
   "metadata": {
    "collapsed": true
   },
   "outputs": [],
   "source": [
    "import pandas as pd\n",
    "from matplotlib import pyplot as plt\n",
    "import numpy as np\n",
    "from sklearn.model_selection import train_test_split\n",
    "from sklearn.metrics import accuracy_score\n",
    "from sklearn import tree\n",
    "from numpy.random import normal\n",
    "from scipy.stats import chi2\n",
    "%matplotlib inline"
   ]
  },
  {
   "cell_type": "code",
   "execution_count": 2,
   "metadata": {},
   "outputs": [],
   "source": [
    "N_train, N_test = 2000, 10000\n",
    "X_train = normal(size=(N_train, 10))\n",
    "X_test = normal(size=(N_test, 10))"
   ]
  },
  {
   "cell_type": "code",
   "execution_count": 3,
   "metadata": {},
   "outputs": [],
   "source": [
    "Y_train = np.sum(X_train ** 2, axis=1) < chi2.ppf(0.5, 10)\n",
    "Y_test = np.sum(X_test ** 2, axis=1) < chi2.ppf(0.5, 10)"
   ]
  },
  {
   "cell_type": "code",
   "execution_count": 17,
   "metadata": {},
   "outputs": [
    {
     "name": "stdout",
     "output_type": "stream",
     "text": [
      "Signle Stump Test Error  0.46719999999999995\n"
     ]
    }
   ],
   "source": [
    "single_stump = tree.DecisionTreeClassifier(max_leaf_nodes=2)\n",
    "single_stump.fit(X_train, Y_train)\n",
    "single_stump_Y_test_hat = single_stump.predict(X_test)\n",
    "single_stump_err = 1-accuracy_score(single_stump_Y_test_hat, Y_test)\n",
    "print('Signle Stump Test Error ', single_stump_err)"
   ]
  },
  {
   "cell_type": "code",
   "execution_count": 19,
   "metadata": {},
   "outputs": [
    {
     "name": "stdout",
     "output_type": "stream",
     "text": [
      "244 Node Tree Test Error  0.2509\n"
     ]
    }
   ],
   "source": [
    "_244_node_tree = tree.DecisionTreeClassifier(max_leaf_nodes=244)\n",
    "_244_node_tree.fit(X_train, Y_train)\n",
    "_244_node_tree_Y_test_hat = _244_node_tree.predict(X_test)\n",
    "_244_node_tree_err = 1-accuracy_score(_244_node_tree_Y_test_hat, Y_test)\n",
    "print('244 Node Tree Test Error ', _244_node_tree_err)"
   ]
  },
  {
   "cell_type": "code",
   "execution_count": 6,
   "metadata": {
    "collapsed": true
   },
   "outputs": [],
   "source": [
    "G, alpha, M = [], [], 800\n",
    "w = np.array([1.0/N_train]*N_train)"
   ]
  },
  {
   "cell_type": "code",
   "execution_count": 7,
   "metadata": {},
   "outputs": [],
   "source": [
    "for i in range(M):\n",
    "    dtc = tree.DecisionTreeClassifier(max_leaf_nodes=2)\n",
    "    dtc.fit(X_train, Y_train, sample_weight=w)\n",
    "    Y_train_hat = dtc.predict(X_train)\n",
    "    err = np.sum((Y_train_hat != Y_train) * w) / np.sum(w)\n",
    "    alpha_i = np.log((1-err)/err)\n",
    "    w = w*np.exp(alpha_i*(Y_train_hat != Y_train))\n",
    "    G.append(dtc)\n",
    "    alpha.append(alpha_i)"
   ]
  },
  {
   "cell_type": "code",
   "execution_count": 8,
   "metadata": {},
   "outputs": [],
   "source": [
    "boosting_iterations_err = []\n",
    "Y_test_hat = np.zeros(N_test)\n",
    "for i in range(M):\n",
    "    tmp = 0+G[i].predict(X_test)\n",
    "    tmp[tmp == 0] = -1\n",
    "    Y_test_hat += alpha[i]*tmp    \n",
    "    boosting_iterations_err.append(1-accuracy_score(np.sign(Y_test_hat) == 1, Y_test))"
   ]
  },
  {
   "cell_type": "code",
   "execution_count": 9,
   "metadata": {},
   "outputs": [
    {
     "name": "stdout",
     "output_type": "stream",
     "text": [
      "Boosting Test Error  0.09930000000000005\n"
     ]
    }
   ],
   "source": [
    "print('Boosting Test Error ', boosting_iterations_err[-1])"
   ]
  },
  {
   "cell_type": "code",
   "execution_count": 20,
   "metadata": {},
   "outputs": [
    {
     "data": {
      "text/plain": [
       "<matplotlib.lines.Line2D at 0x221742db828>"
      ]
     },
     "execution_count": 20,
     "metadata": {},
     "output_type": "execute_result"
    },
    {
     "data": {
      "image/png": "[encoded data removed]",
      "text/plain": [
       "<matplotlib.figure.Figure at 0x221741a8dd8>"
      ]
     },
     "metadata": {},
     "output_type": "display_data"
    }
   ],
   "source": [
    "fig, ax1 = plt.subplots(figsize=(7.6, 5.5), dpi=110)\n",
    "ax1.plot(range(M), boosting_iterations_err)\n",
    "ax1.axhline(single_stump_err, color='gray', linewidth=0.5)\n",
    "ax1.axhline(_244_node_tree_err, color='gray', linewidth=0.5)"
   ]
  },
  {
   "cell_type": "code",
   "execution_count": null,
   "metadata": {
    "collapsed": true
   },
   "outputs": [],
   "source": []
  }
 ],
 "metadata": {
  "kernelspec": {
   "display_name": "Python [conda env:Python64]",
   "language": "python",
   "name": "conda-env-Python64-py"
  },
  "language_info": {
   "codemirror_mode": {
    "name": "ipython",
    "version": 3
   },
   "file_extension": ".py",
   "mimetype": "text/x-python",
   "name": "python",
   "nbconvert_exporter": "python",
   "pygments_lexer": "ipython3",
   "version": "3.6.3"
  }
 },
 "nbformat": 4,
 "nbformat_minor": 2
}
