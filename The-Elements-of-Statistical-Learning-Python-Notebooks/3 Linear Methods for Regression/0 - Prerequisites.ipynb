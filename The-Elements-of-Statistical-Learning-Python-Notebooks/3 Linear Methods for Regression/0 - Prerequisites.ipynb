{
 "cells": [
  {
   "cell_type": "markdown",
   "metadata": {},
   "source": [
    "<h1>Statistics</h1>\n",
    "<h3>Normal, Student's Distributions</h3>"
   ]
  },
  {
   "cell_type": "code",
   "execution_count": 1,
   "metadata": {
    "collapsed": true
   },
   "outputs": [],
   "source": [
    "from scipy.stats import norm, t\n",
    "import numpy as np\n",
    "from matplotlib import pyplot as plt\n",
    "from mpl_toolkits.mplot3d import Axes3D\n",
    "%matplotlib inline"
   ]
  },
  {
   "cell_type": "code",
   "execution_count": 2,
   "metadata": {
    "collapsed": true
   },
   "outputs": [],
   "source": [
    "# create frozen RVs for standard normal and Student's with 30, 100 degrees of freedom\n",
    "rv_t30, rv_t100, rv_norm = t(30), t(100), norm()"
   ]
  },
  {
   "cell_type": "code",
   "execution_count": 3,
   "metadata": {},
   "outputs": [
    {
     "data": {
      "image/png": "[encoded data removed]",
      "text/plain": [
       "<matplotlib.figure.Figure at 0x21207a9ab70>"
      ]
     },
     "metadata": {},
     "output_type": "display_data"
    }
   ],
   "source": [
    "# calculate tail probabilities Pr(|Z|>z) at some points\n",
    "Z = np.linspace(1.8, 3, 13)\n",
    "tail_probs = {rv_t30: [], rv_t100: [], rv_norm: []}\n",
    "for z in Z:\n",
    "    for rv in tail_probs:\n",
    "        tail_probs[rv].append(1 - rv.cdf(z))\n",
    "# FIGURE 3.3. explains that normal distribution is good for testing significance\n",
    "for rv in tail_probs:\n",
    "    plt.plot(Z, tail_probs[rv])"
   ]
  },
  {
   "cell_type": "markdown",
   "metadata": {},
   "source": [
    "<h3>F-distribution</h3>"
   ]
  },
  {
   "cell_type": "code",
   "execution_count": 4,
   "metadata": {},
   "outputs": [
    {
     "data": {
      "text/plain": [
       "0.1703876176583532"
      ]
     },
     "execution_count": 4,
     "metadata": {},
     "output_type": "execute_result"
    }
   ],
   "source": [
    "from scipy.stats import f\n",
    "rv_f4_58 = f(4, 58)\n",
    "# 3.16 F statistics calculation\n",
    "F = ((32.81-29.43)/(9-5)) / (29.43/(67-9))\n",
    "# tail probability\n",
    "1 - rv_f4_58.cdf(F)"
   ]
  },
  {
   "cell_type": "markdown",
   "metadata": {
    "collapsed": true
   },
   "source": [
    "<h3>Mean, Variance, Standard Deviation</h3>"
   ]
  },
  {
   "cell_type": "code",
   "execution_count": 5,
   "metadata": {
    "collapsed": true
   },
   "outputs": [],
   "source": [
    "values = np.array([-14.82381293, -0.29423447, -13.56067979, -1.6288903, -0.31632439,\n",
    "                   0.53459687, -1.34069996, -1.61042692, -4.03220519, -0.24332097])"
   ]
  },
  {
   "cell_type": "code",
   "execution_count": 6,
   "metadata": {},
   "outputs": [
    {
     "name": "stdout",
     "output_type": "stream",
     "text": [
      "mean:               -3.7315998049999997\n",
      "variance:           28.822364260579157\n",
      "standard deviation: 5.36864640860051\n",
      "---- unbiased estimates ----\n",
      "variance:           32.024849178421285\n",
      "standard deviation: 5.659050201086865\n"
     ]
    }
   ],
   "source": [
    "print('mean:              ', np.mean(values))\n",
    "print('variance:          ', np.var(values))\n",
    "print('standard deviation:', np.std(values))\n",
    "print('---- unbiased estimates ----')\n",
    "# ddof means Delta Degrees of Freedom\n",
    "print('variance:          ', np.var(values, ddof=1))\n",
    "print('standard deviation:', np.std(values, ddof=1))"
   ]
  },
  {
   "cell_type": "markdown",
   "metadata": {},
   "source": [
    "<h3>Variance-Covariance, Correlation Matrix</h3>"
   ]
  },
  {
   "cell_type": "code",
   "execution_count": 7,
   "metadata": {
    "collapsed": true
   },
   "outputs": [],
   "source": [
    "import pandas as pd"
   ]
  },
  {
   "cell_type": "code",
   "execution_count": 8,
   "metadata": {
    "collapsed": true
   },
   "outputs": [],
   "source": [
    "data = pd.read_csv(\"../data/Prostate Cancer.txt\") \n",
    "names = ['lcavol', 'lweight', 'age', 'lbph', 'svi', 'lcp', 'gleason', 'pgg45']\n",
    "X = data[names].values"
   ]
  },
  {
   "cell_type": "code",
   "execution_count": 9,
   "metadata": {},
   "outputs": [
    {
     "data": {
      "text/html": [
       "<div>\n",
       "<style>\n",
       "    .dataframe thead tr:only-child th {\n",
       "        text-align: right;\n",
       "    }\n",
       "\n",
       "    .dataframe thead th {\n",
       "        text-align: left;\n",
       "    }\n",
       "\n",
       "    .dataframe tbody tr th {\n",
       "        vertical-align: top;\n",
       "    }\n",
       "</style>\n",
       "<table border=\"1\" class=\"dataframe\">\n",
       "  <thead>\n",
       "    <tr style=\"text-align: right;\">\n",
       "      <th></th>\n",
       "      <th>lcavol</th>\n",
       "      <th>lweight</th>\n",
       "      <th>age</th>\n",
       "      <th>lbph</th>\n",
       "      <th>svi</th>\n",
       "      <th>lcp</th>\n",
       "      <th>gleason</th>\n",
       "      <th>pgg45</th>\n",
       "    </tr>\n",
       "  </thead>\n",
       "  <tbody>\n",
       "    <tr>\n",
       "      <th>lcavol</th>\n",
       "      <td>1.000000</td>\n",
       "      <td>0.280521</td>\n",
       "      <td>0.225000</td>\n",
       "      <td>0.027350</td>\n",
       "      <td>0.538845</td>\n",
       "      <td>0.675310</td>\n",
       "      <td>0.432417</td>\n",
       "      <td>0.433652</td>\n",
       "    </tr>\n",
       "    <tr>\n",
       "      <th>lweight</th>\n",
       "      <td>0.280521</td>\n",
       "      <td>1.000000</td>\n",
       "      <td>0.347969</td>\n",
       "      <td>0.442264</td>\n",
       "      <td>0.155385</td>\n",
       "      <td>0.164537</td>\n",
       "      <td>0.056882</td>\n",
       "      <td>0.107354</td>\n",
       "    </tr>\n",
       "    <tr>\n",
       "      <th>age</th>\n",
       "      <td>0.225000</td>\n",
       "      <td>0.347969</td>\n",
       "      <td>1.000000</td>\n",
       "      <td>0.350186</td>\n",
       "      <td>0.117658</td>\n",
       "      <td>0.127668</td>\n",
       "      <td>0.268892</td>\n",
       "      <td>0.276112</td>\n",
       "    </tr>\n",
       "    <tr>\n",
       "      <th>lbph</th>\n",
       "      <td>0.027350</td>\n",
       "      <td>0.442264</td>\n",
       "      <td>0.350186</td>\n",
       "      <td>1.000000</td>\n",
       "      <td>-0.085843</td>\n",
       "      <td>-0.006999</td>\n",
       "      <td>0.077820</td>\n",
       "      <td>0.078460</td>\n",
       "    </tr>\n",
       "    <tr>\n",
       "      <th>svi</th>\n",
       "      <td>0.538845</td>\n",
       "      <td>0.155385</td>\n",
       "      <td>0.117658</td>\n",
       "      <td>-0.085843</td>\n",
       "      <td>1.000000</td>\n",
       "      <td>0.673111</td>\n",
       "      <td>0.320412</td>\n",
       "      <td>0.457648</td>\n",
       "    </tr>\n",
       "    <tr>\n",
       "      <th>lcp</th>\n",
       "      <td>0.675310</td>\n",
       "      <td>0.164537</td>\n",
       "      <td>0.127668</td>\n",
       "      <td>-0.006999</td>\n",
       "      <td>0.673111</td>\n",
       "      <td>1.000000</td>\n",
       "      <td>0.514830</td>\n",
       "      <td>0.631528</td>\n",
       "    </tr>\n",
       "    <tr>\n",
       "      <th>gleason</th>\n",
       "      <td>0.432417</td>\n",
       "      <td>0.056882</td>\n",
       "      <td>0.268892</td>\n",
       "      <td>0.077820</td>\n",
       "      <td>0.320412</td>\n",
       "      <td>0.514830</td>\n",
       "      <td>1.000000</td>\n",
       "      <td>0.751905</td>\n",
       "    </tr>\n",
       "    <tr>\n",
       "      <th>pgg45</th>\n",
       "      <td>0.433652</td>\n",
       "      <td>0.107354</td>\n",
       "      <td>0.276112</td>\n",
       "      <td>0.078460</td>\n",
       "      <td>0.457648</td>\n",
       "      <td>0.631528</td>\n",
       "      <td>0.751905</td>\n",
       "      <td>1.000000</td>\n",
       "    </tr>\n",
       "  </tbody>\n",
       "</table>\n",
       "</div>"
      ],
      "text/plain": [
       "           lcavol   lweight       age      lbph       svi       lcp   gleason  \\\n",
       "lcavol   1.000000  0.280521  0.225000  0.027350  0.538845  0.675310  0.432417   \n",
       "lweight  0.280521  1.000000  0.347969  0.442264  0.155385  0.164537  0.056882   \n",
       "age      0.225000  0.347969  1.000000  0.350186  0.117658  0.127668  0.268892   \n",
       "lbph     0.027350  0.442264  0.350186  1.000000 -0.085843 -0.006999  0.077820   \n",
       "svi      0.538845  0.155385  0.117658 -0.085843  1.000000  0.673111  0.320412   \n",
       "lcp      0.675310  0.164537  0.127668 -0.006999  0.673111  1.000000  0.514830   \n",
       "gleason  0.432417  0.056882  0.268892  0.077820  0.320412  0.514830  1.000000   \n",
       "pgg45    0.433652  0.107354  0.276112  0.078460  0.457648  0.631528  0.751905   \n",
       "\n",
       "            pgg45  \n",
       "lcavol   0.433652  \n",
       "lweight  0.107354  \n",
       "age      0.276112  \n",
       "lbph     0.078460  \n",
       "svi      0.457648  \n",
       "lcp      0.631528  \n",
       "gleason  0.751905  \n",
       "pgg45    1.000000  "
      ]
     },
     "execution_count": 9,
     "metadata": {},
     "output_type": "execute_result"
    }
   ],
   "source": [
    "# correlation matrix using pandas\n",
    "data[names].corr()"
   ]
  },
  {
   "cell_type": "code",
   "execution_count": 10,
   "metadata": {},
   "outputs": [
    {
     "data": {
      "text/plain": [
       "array([[ 1.  ,  0.28,  0.22,  0.03,  0.54,  0.68,  0.43,  0.43],\n",
       "       [ 0.28,  1.  ,  0.35,  0.44,  0.16,  0.16,  0.06,  0.11],\n",
       "       [ 0.22,  0.35,  1.  ,  0.35,  0.12,  0.13,  0.27,  0.28],\n",
       "       [ 0.03,  0.44,  0.35,  1.  , -0.09, -0.01,  0.08,  0.08],\n",
       "       [ 0.54,  0.16,  0.12, -0.09,  1.  ,  0.67,  0.32,  0.46],\n",
       "       [ 0.68,  0.16,  0.13, -0.01,  0.67,  1.  ,  0.51,  0.63],\n",
       "       [ 0.43,  0.06,  0.27,  0.08,  0.32,  0.51,  1.  ,  0.75],\n",
       "       [ 0.43,  0.11,  0.28,  0.08,  0.46,  0.63,  0.75,  1.  ]])"
      ]
     },
     "execution_count": 10,
     "metadata": {},
     "output_type": "execute_result"
    }
   ],
   "source": [
    "# correlation matrix using numpy\n",
    "np.set_printoptions(precision=2, suppress=True)\n",
    "np.corrcoef(X, rowvar=False)"
   ]
  },
  {
   "cell_type": "code",
   "execution_count": 11,
   "metadata": {},
   "outputs": [
    {
     "data": {
      "text/plain": [
       "array([[  1.39,   0.14,   1.97,   0.05,   0.26,   1.11,   0.37,  14.42],\n",
       "       [  0.14,   0.18,   1.11,   0.27,   0.03,   0.1 ,   0.02,   1.3 ],\n",
       "       [  1.97,   1.11,  55.43,   3.78,   0.36,   1.33,   1.45,  57.98],\n",
       "       [  0.05,   0.27,   3.78,   2.1 ,  -0.05,  -0.01,   0.08,   3.21],\n",
       "       [  0.26,   0.03,   0.36,  -0.05,   0.17,   0.39,   0.1 ,   5.34],\n",
       "       [  1.11,   0.1 ,   1.33,  -0.01,   0.39,   1.96,   0.52,  24.91],\n",
       "       [  0.37,   0.02,   1.45,   0.08,   0.1 ,   0.52,   0.52,  15.31],\n",
       "       [ 14.42,   1.3 ,  57.98,   3.21,   5.34,  24.91,  15.31, 795.47]])"
      ]
     },
     "execution_count": 11,
     "metadata": {},
     "output_type": "execute_result"
    }
   ],
   "source": [
    "# variance-covariance\n",
    "np.cov(X, rowvar=False)"
   ]
  },
  {
   "cell_type": "code",
   "execution_count": 12,
   "metadata": {},
   "outputs": [
    {
     "data": {
      "text/plain": [
       "array([[ 1.01,  0.28,  0.23,  0.03,  0.54,  0.68,  0.44,  0.44],\n",
       "       [ 0.28,  1.01,  0.35,  0.45,  0.16,  0.17,  0.06,  0.11],\n",
       "       [ 0.23,  0.35,  1.01,  0.35,  0.12,  0.13,  0.27,  0.28],\n",
       "       [ 0.03,  0.45,  0.35,  1.01, -0.09, -0.01,  0.08,  0.08],\n",
       "       [ 0.54,  0.16,  0.12, -0.09,  1.01,  0.68,  0.32,  0.46],\n",
       "       [ 0.68,  0.17,  0.13, -0.01,  0.68,  1.01,  0.52,  0.64],\n",
       "       [ 0.44,  0.06,  0.27,  0.08,  0.32,  0.52,  1.01,  0.76],\n",
       "       [ 0.44,  0.11,  0.28,  0.08,  0.46,  0.64,  0.76,  1.01]])"
      ]
     },
     "execution_count": 12,
     "metadata": {},
     "output_type": "execute_result"
    }
   ],
   "source": [
    "from sklearn.preprocessing import StandardScaler\n",
    "scaler = StandardScaler()\n",
    "scaler.fit(X)\n",
    "X_transformed = scaler.transform(X)\n",
    "# transformed variance-covariance matrix (nearly equals to correlation matrix)\n",
    "np.cov(X_transformed, rowvar=False)"
   ]
  },
  {
   "cell_type": "markdown",
   "metadata": {},
   "source": [
    "<h1>Linear Algebra</h1>\n",
    "<h3>QR Factorization</h3>"
   ]
  },
  {
   "cell_type": "code",
   "execution_count": 13,
   "metadata": {},
   "outputs": [
    {
     "name": "stdout",
     "output_type": "stream",
     "text": [
      "[[-0.3  -0.05  0.15  0.11  0.67  0.55]\n",
      " [-0.17 -0.39  0.34  0.52  0.13 -0.46]\n",
      " [-0.55  0.33 -0.09  0.12  0.22 -0.21]\n",
      " [ 0.33  0.24 -0.03 -0.12  0.24  0.25]\n",
      " [-0.58  0.09 -0.5  -0.16 -0.18 -0.  ]\n",
      " [ 0.36  0.3  -0.43  0.21  0.51 -0.4 ]\n",
      " [ 0.06 -0.52 -0.39  0.32  0.01  0.35]\n",
      " [ 0.04 -0.51 -0.43 -0.33  0.2  -0.22]\n",
      " [ 0.09  0.23 -0.3   0.64 -0.33  0.22]] \n",
      "\n",
      " [[ 1.59 -2.89  1.09 -1.53  0.78  0.99]\n",
      " [ 0.    3.78  0.8  -0.01 -0.84 -0.45]\n",
      " [ 0.    0.    2.56  0.64  0.3  -0.9 ]\n",
      " [ 0.    0.    0.   -3.61  1.4  -0.66]\n",
      " [ 0.    0.    0.    0.   -1.92  0.12]\n",
      " [ 0.    0.    0.    0.    0.   -2.23]]\n"
     ]
    }
   ],
   "source": [
    "a = np.random.randn(9, 6)\n",
    "# q.T @ q == I, r is upper triangular\n",
    "q, r = np.linalg.qr(a)\n",
    "print(q, '\\n\\n', r)"
   ]
  },
  {
   "cell_type": "markdown",
   "metadata": {
    "collapsed": true
   },
   "source": [
    "<h3>Singular Value Decomposition</h3>"
   ]
  },
  {
   "cell_type": "code",
   "execution_count": 14,
   "metadata": {
    "collapsed": true
   },
   "outputs": [],
   "source": [
    "from scipy.stats import multivariate_normal"
   ]
  },
  {
   "cell_type": "code",
   "execution_count": 38,
   "metadata": {
    "collapsed": true
   },
   "outputs": [],
   "source": [
    "rv = multivariate_normal([0, 0], [[10, 6], [6, 10]])\n",
    "X = rv.rvs(100)"
   ]
  },
  {
   "cell_type": "code",
   "execution_count": 39,
   "metadata": {
    "collapsed": true
   },
   "outputs": [],
   "source": [
    "U, d, Vt = np.linalg.svd(X, full_matrices=True)\n",
    "V = Vt.T\n",
    "d = np.sqrt(d)"
   ]
  },
  {
   "cell_type": "code",
   "execution_count": 40,
   "metadata": {},
   "outputs": [
    {
     "data": {
      "text/plain": [
       "(-10, 10)"
      ]
     },
     "execution_count": 40,
     "metadata": {},
     "output_type": "execute_result"
    },
    {
     "data": {
      "image/png": "[encoded data removed]",
      "text/plain": [
       "<matplotlib.figure.Figure at 0x21213acce80>"
      ]
     },
     "metadata": {},
     "output_type": "display_data"
    }
   ],
   "source": [
    "fig, ax1 = plt.subplots(figsize=(5, 5))\n",
    "ax1.plot([0, V[0, 0]*d[0]], [0, V[1, 0]*d[0]])\n",
    "ax1.plot([0, V[0, 1]*d[1]], [0, V[1, 1]*d[1]])\n",
    "ax1.scatter(X[:,0], X[:,1],s=2)\n",
    "ax1.set_xlim([-10, 10])\n",
    "ax1.set_ylim([-10, 10])"
   ]
  },
  {
   "cell_type": "code",
   "execution_count": null,
   "metadata": {
    "collapsed": true
   },
   "outputs": [],
   "source": []
  }
 ],
 "metadata": {
  "kernelspec": {
   "display_name": "Python [conda env:Python64]",
   "language": "python",
   "name": "conda-env-Python64-py"
  },
  "language_info": {
   "codemirror_mode": {
    "name": "ipython",
    "version": 3
   },
   "file_extension": ".py",
   "mimetype": "text/x-python",
   "name": "python",
   "nbconvert_exporter": "python",
   "pygments_lexer": "ipython3",
   "version": "3.6.3"
  }
 },
 "nbformat": 4,
 "nbformat_minor": 2
}
