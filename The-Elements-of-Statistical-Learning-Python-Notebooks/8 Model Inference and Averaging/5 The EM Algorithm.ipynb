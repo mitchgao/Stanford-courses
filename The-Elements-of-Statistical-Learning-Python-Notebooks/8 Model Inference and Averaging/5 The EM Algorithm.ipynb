{
 "cells": [
  {
   "cell_type": "code",
   "execution_count": 52,
   "metadata": {},
   "outputs": [],
   "source": [
    "import numpy as np\n",
    "from matplotlib import pyplot as plt\n",
    "from scipy.stats import norm\n",
    "%matplotlib inline"
   ]
  },
  {
   "cell_type": "code",
   "execution_count": 53,
   "metadata": {
    "collapsed": true
   },
   "outputs": [],
   "source": [
    "y = np.array([-0.39, 0.12, 0.94, 1.67, 1.76, 2.44, 3.72, 4.28, 4.92, 5.53, 0.06, 0.48, 1.01, 1.68, 1.80, 3.25, 4.12, 4.60, 5.28, 6.22])"
   ]
  },
  {
   "cell_type": "code",
   "execution_count": 54,
   "metadata": {
    "collapsed": true
   },
   "outputs": [],
   "source": [
    "var1, var2 = np.var(y), np.var(y)\n",
    "mu1, mu2 = y[np.random.randint(y.shape[0])], y[np.random.randint(y.shape[0])]\n",
    "pi = 0.5"
   ]
  },
  {
   "cell_type": "code",
   "execution_count": 55,
   "metadata": {
    "collapsed": true
   },
   "outputs": [],
   "source": [
    "gamma = np.zeros(shape=(y.shape[0]))"
   ]
  },
  {
   "cell_type": "code",
   "execution_count": 56,
   "metadata": {},
   "outputs": [
    {
     "name": "stdout",
     "output_type": "stream",
     "text": [
      "1.0831618077374836 0.8113706189149964 4.655912807977064 0.8187935704405764 0.44540976747492483\n"
     ]
    }
   ],
   "source": [
    "for k in range(100):\n",
    "    for i in range(y.shape[0]):\n",
    "        gamma[i] = pi*norm.pdf(y[i], mu2, var2**0.5)/((1-pi)*norm.pdf(y[i], mu1, var1**0.5) + pi*norm.pdf(y[i], mu2, var2**0.5))\n",
    "    mu1, var1 = np.sum((1-gamma)*y)/np.sum(1-gamma), np.sum((1-gamma)*((y-mu1)**2))/np.sum(1-gamma)\n",
    "    mu2, var2 = np.sum(gamma*y)/np.sum(gamma), np.sum(gamma*((y-mu2)**2))/np.sum(gamma)\n",
    "    pi = np.mean(gamma)\n",
    "print(mu1, var1, mu2, var2, pi)"
   ]
  },
  {
   "cell_type": "code",
   "execution_count": 57,
   "metadata": {},
   "outputs": [
    {
     "data": {
      "text/plain": [
       "(array([0.1, 0.3, 0.1, 0.1, 0.4, 0.1, 0. , 0.1, 0.1, 0.2, 0.2, 0.1, 0.1,\n",
       "        0.1]),\n",
       " array([-0.5,  0. ,  0.5,  1. ,  1.5,  2. ,  2.5,  3. ,  3.5,  4. ,  4.5,\n",
       "         5. ,  5.5,  6. ,  6.5]),\n",
       " <a list of 14 Patch objects>)"
      ]
     },
     "execution_count": 57,
     "metadata": {},
     "output_type": "execute_result"
    },
    {
     "data": {
      "image/png": "[encoded data removed]",
      "text/plain": [
       "<matplotlib.figure.Figure at 0x2ddf791f048>"
      ]
     },
     "metadata": {},
     "output_type": "display_data"
    }
   ],
   "source": [
    "plt.hist(y, np.linspace(-0.5, 6.5, 15), density=True)"
   ]
  },
  {
   "cell_type": "code",
   "execution_count": 58,
   "metadata": {},
   "outputs": [
    {
     "data": {
      "text/plain": [
       "[<matplotlib.lines.Line2D at 0x2ddf79cf048>]"
      ]
     },
     "execution_count": 58,
     "metadata": {},
     "output_type": "execute_result"
    },
    {
     "data": {
      "image/png": "[encoded data removed]",
      "text/plain": [
       "<matplotlib.figure.Figure at 0x2ddf7928a58>"
      ]
     },
     "metadata": {},
     "output_type": "display_data"
    }
   ],
   "source": [
    "x = np.linspace(-0.5, 6.5, 100)\n",
    "y = (1-pi)*norm.pdf(x, mu1, var1**0.5) + pi*norm.pdf(x, mu2, var2**0.5)\n",
    "plt.plot(x, y)"
   ]
  },
  {
   "cell_type": "code",
   "execution_count": null,
   "metadata": {
    "collapsed": true
   },
   "outputs": [],
   "source": []
  }
 ],
 "metadata": {
  "kernelspec": {
   "display_name": "Python [conda env:Python64]",
   "language": "python",
   "name": "conda-env-Python64-py"
  },
  "language_info": {
   "codemirror_mode": {
    "name": "ipython",
    "version": 3
   },
   "file_extension": ".py",
   "mimetype": "text/x-python",
   "name": "python",
   "nbconvert_exporter": "python",
   "pygments_lexer": "ipython3",
   "version": "3.6.3"
  }
 },
 "nbformat": 4,
 "nbformat_minor": 2
}
