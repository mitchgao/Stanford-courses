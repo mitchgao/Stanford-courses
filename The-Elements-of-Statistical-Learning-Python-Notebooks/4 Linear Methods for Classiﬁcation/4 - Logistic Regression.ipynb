{
 "cells": [
  {
   "cell_type": "code",
   "execution_count": 1,
   "metadata": {
    "collapsed": true
   },
   "outputs": [],
   "source": [
    "import numpy as np\n",
    "import pandas as pd\n",
    "np.set_printoptions(precision=4, suppress=True)"
   ]
  },
  {
   "cell_type": "code",
   "execution_count": 2,
   "metadata": {
    "collapsed": true
   },
   "outputs": [],
   "source": [
    "df = pd.read_csv(\"../data/South African Heart Disease.txt\")\n",
    "names = ['sbp', 'tobacco', 'ldl', 'famhist', 'obesity', 'alcohol', 'age']\n",
    "df['famhist'] = pd.get_dummies(df['famhist'])['Present']\n",
    "X, y = df[names].values, df[['chd']].values\n",
    "X = np.insert(X, 0, values=1, axis=1)\n",
    "N, p = X.shape"
   ]
  },
  {
   "cell_type": "code",
   "execution_count": 3,
   "metadata": {},
   "outputs": [
    {
     "name": "stdout",
     "output_type": "stream",
     "text": [
      "-320.2339974186954 [-2.8943  0.005   0.0681  0.1436  0.7224 -0.0297 -0.0004  0.0267]\n",
      "-245.7972636266484 [-3.8984  0.0057  0.0781  0.1792  0.9061 -0.0348  0.0004  0.0395]\n",
      "-241.70241294159862 [-4.1209  0.0058  0.0795  0.1846  0.9381 -0.0346  0.0006  0.0424]\n",
      "-241.5871635441954 [-4.1296  0.0058  0.0795  0.1848  0.9392 -0.0345  0.0006  0.0425]\n",
      "-241.5870161826394 [-4.1296  0.0058  0.0795  0.1848  0.9392 -0.0345  0.0006  0.0425]\n"
     ]
    }
   ],
   "source": [
    "b_hat = np.zeros(shape=(p))\n",
    "delta = np.inf\n",
    "while delta > 0.000000001:\n",
    "    grad = np.zeros(shape=(1, p))\n",
    "    hess = np.zeros(shape=(p, p))\n",
    "    loss = 0.\n",
    "    for i in range(N):\n",
    "        bt_xi = b_hat @ X[i]\n",
    "        ebx = np.exp(bt_xi)\n",
    "        pxi = ebx/(1+ebx)\n",
    "        grad += X[i] * (y[i, 0] - pxi)\n",
    "        xi = np.reshape(X[i], (1, p))\n",
    "        hess += -(xi.T @ xi) * pxi * (1 - pxi)\n",
    "        loss += y[i][0] * bt_xi - np.log(1+np.exp(bt_xi))\n",
    "    delta = np.squeeze(np.linalg.inv(hess) @ grad.T)\n",
    "    b_hat -= delta\n",
    "    delta = delta @ delta.T\n",
    "    print(loss, b_hat)"
   ]
  },
  {
   "cell_type": "code",
   "execution_count": 4,
   "metadata": {},
   "outputs": [
    {
     "data": {
      "text/plain": [
       "337"
      ]
     },
     "execution_count": 4,
     "metadata": {},
     "output_type": "execute_result"
    }
   ],
   "source": [
    "y_hat = np.zeros(shape=y.shape)\n",
    "for i in range(N):\n",
    "    e = np.exp(b_hat @ X[i])\n",
    "    ps = [1 / (1 + e), e / (1 + e)]\n",
    "    y_hat[i,0] = np.argmax(ps)\n",
    "np.sum(y == y_hat)"
   ]
  },
  {
   "cell_type": "code",
   "execution_count": null,
   "metadata": {
    "collapsed": true
   },
   "outputs": [],
   "source": []
  }
 ],
 "metadata": {
  "kernelspec": {
   "display_name": "Python 3.6 (with Tensorflow GPU)",
   "language": "python",
   "name": "tensorflow"
  },
  "language_info": {
   "codemirror_mode": {
    "name": "ipython",
    "version": 3
   },
   "file_extension": ".py",
   "mimetype": "text/x-python",
   "name": "python",
   "nbconvert_exporter": "python",
   "pygments_lexer": "ipython3",
   "version": "3.6.4"
  }
 },
 "nbformat": 4,
 "nbformat_minor": 2
}
