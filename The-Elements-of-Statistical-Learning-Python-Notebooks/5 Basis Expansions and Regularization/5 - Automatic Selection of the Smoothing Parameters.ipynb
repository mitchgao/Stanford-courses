{
 "cells": [
  {
   "cell_type": "code",
   "execution_count": 1,
   "metadata": {},
   "outputs": [
    {
     "name": "stderr",
     "output_type": "stream",
     "text": [
      "C:\\Python64\\lib\\site-packages\\statsmodels\\compat\\pandas.py:56: FutureWarning: The pandas.core.datetools module is deprecated and will be removed in a future version. Please use the pandas.tseries module instead.\n",
      "  from pandas.core import datetools\n"
     ]
    }
   ],
   "source": [
    "import numpy as np\n",
    "from matplotlib import pyplot as plt\n",
    "from numpy.random import uniform\n",
    "from numpy.random import normal\n",
    "import statsmodels.api as sm\n",
    "%matplotlib inline"
   ]
  },
  {
   "cell_type": "code",
   "execution_count": 2,
   "metadata": {
    "collapsed": true
   },
   "outputs": [],
   "source": [
    "X = uniform(0, 1, 100)\n",
    "Y = np.sin(12*(X+0.2))/(X+0.2) + normal(0, 1, 100)\n",
    "x = np.linspace(0, 1, 100)\n",
    "y = np.sin(12*(x+0.2))/(x+0.2)"
   ]
  },
  {
   "cell_type": "code",
   "execution_count": 5,
   "metadata": {},
   "outputs": [
    {
     "data": {
      "text/plain": [
       "array([[ 5.85768427e-01, -1.39336991e+00],\n",
       "       [ 1.90935794e-01, -1.88768761e+00],\n",
       "       [ 6.12480410e-01,  2.87453273e-02],\n",
       "       [ 1.84879554e-01, -4.40811078e+00],\n",
       "       [ 9.44229306e-01,  1.07180420e+00],\n",
       "       [ 3.21051142e-01, -9.95948330e-01],\n",
       "       [ 9.66100844e-01,  4.05950253e-01],\n",
       "       [ 1.80808567e-01, -1.36979514e-01],\n",
       "       [ 5.47096242e-01,  8.67123293e-01],\n",
       "       [ 4.43211281e-01,  1.88397333e+00],\n",
       "       [ 8.64050510e-01, -2.00673061e+00],\n",
       "       [ 9.56088966e-01,  2.13002494e+00],\n",
       "       [ 3.82246032e-01,  7.85791881e-02],\n",
       "       [ 5.23579059e-01,  3.11791051e+00],\n",
       "       [ 5.34713917e-01, -1.67315249e+00],\n",
       "       [ 6.98601044e-01, -1.76391339e+00],\n",
       "       [ 6.66842281e-01,  1.01746514e-01],\n",
       "       [ 9.52974133e-01,  8.01579010e-02],\n",
       "       [ 7.98387613e-01, -2.17618930e+00],\n",
       "       [ 4.77659219e-01,  1.00928654e+00],\n",
       "       [ 2.18512756e-01, -2.78658086e+00],\n",
       "       [ 7.77137741e-01,  5.21976898e-01],\n",
       "       [ 8.76054088e-01, -1.81367313e-01],\n",
       "       [ 9.09244442e-01, -2.55372534e-01],\n",
       "       [ 1.36196361e-01, -2.02790991e+00],\n",
       "       [ 6.95710474e-01, -2.02380711e+00],\n",
       "       [ 8.49010858e-02,  2.09386241e-01],\n",
       "       [ 1.38691474e-01, -3.82921115e+00],\n",
       "       [ 4.27750729e-01,  1.36296313e+00],\n",
       "       [ 7.00571908e-01, -2.95162804e+00],\n",
       "       [ 1.21899971e-01, -1.79933980e+00],\n",
       "       [ 5.98182386e-02, -3.34762228e-01],\n",
       "       [ 2.76203686e-01, -1.12803272e+00],\n",
       "       [ 2.68594643e-01, -5.03645425e-01],\n",
       "       [ 4.06915236e-01,  2.52057647e+00],\n",
       "       [ 6.99525786e-01, -2.05518747e-01],\n",
       "       [ 9.59816866e-01,  1.00960792e+00],\n",
       "       [ 8.24790211e-01, -7.00537408e-04],\n",
       "       [ 5.83598438e-03,  3.10867247e+00],\n",
       "       [ 6.94468692e-01, -1.48620910e+00],\n",
       "       [ 4.74371453e-01,  1.97391071e+00],\n",
       "       [ 4.90898844e-02,  1.38833098e+00],\n",
       "       [ 3.24871769e-01,  2.82880443e-01],\n",
       "       [ 8.43180020e-02, -3.04308950e-01],\n",
       "       [ 2.25299107e-01, -4.25563063e+00],\n",
       "       [ 5.60358393e-01, -2.42779960e-01],\n",
       "       [ 8.52043172e-01,  1.32666398e+00],\n",
       "       [ 9.03971859e-01,  1.40565144e+00],\n",
       "       [ 3.48074756e-02,  2.17468279e+00],\n",
       "       [ 6.93486429e-01, -1.25020204e+00],\n",
       "       [ 3.06933276e-02,  2.10574900e+00],\n",
       "       [ 3.15761536e-01, -7.73566486e-02],\n",
       "       [ 7.70432784e-01, -7.07633888e-01],\n",
       "       [ 8.38818767e-01,  2.13333496e+00],\n",
       "       [ 6.23448044e-01, -2.25558255e+00],\n",
       "       [ 9.54676835e-02, -1.97170433e+00],\n",
       "       [ 9.57442876e-01, -3.68983041e-01],\n",
       "       [ 6.20543607e-01, -1.17731327e+00],\n",
       "       [ 1.09749574e-01, -9.19159483e-01],\n",
       "       [ 7.98985063e-01,  1.36345985e-01],\n",
       "       [ 8.31730378e-01, -2.10634646e-01],\n",
       "       [ 9.75960181e-01, -3.95320395e-01],\n",
       "       [ 4.37765687e-01,  1.41903080e+00],\n",
       "       [ 8.81944515e-01,  7.96695236e-01],\n",
       "       [ 5.04870754e-01,  2.74369638e+00],\n",
       "       [ 9.64985934e-01,  2.28435513e+00],\n",
       "       [ 4.69265108e-01,  1.65882275e+00],\n",
       "       [ 8.65292843e-02, -1.78334060e-01],\n",
       "       [ 7.48071272e-01,  8.86928498e-01],\n",
       "       [ 1.05653459e-02,  6.39453387e-01],\n",
       "       [ 5.15025565e-01,  1.47594876e+00],\n",
       "       [ 8.89124571e-02, -1.43424043e+00],\n",
       "       [ 1.26106744e-01, -2.10088196e+00],\n",
       "       [ 4.49362029e-01,  1.75437890e+00],\n",
       "       [ 4.11514737e-01,  8.03446447e-01],\n",
       "       [ 7.43727171e-01, -3.51699946e-01],\n",
       "       [ 9.31202641e-01,  5.55710302e-01],\n",
       "       [ 2.41274478e-01, -5.14453914e-01],\n",
       "       [ 4.30900454e-01,  2.50856015e+00],\n",
       "       [ 8.71089005e-01, -2.66324825e-01],\n",
       "       [ 1.47814430e-01, -1.33391394e+00],\n",
       "       [ 5.95005838e-01,  1.55464641e-01],\n",
       "       [ 6.64759361e-01, -8.50081928e-01],\n",
       "       [ 5.62118029e-01, -9.86713771e-02],\n",
       "       [ 8.61683339e-01,  1.84199277e+00],\n",
       "       [ 3.31949745e-01,  5.50167452e-01],\n",
       "       [ 6.90091709e-01,  2.76662076e-01],\n",
       "       [ 3.73310473e-01,  2.99239231e+00],\n",
       "       [ 2.60437137e-02,  1.15307804e+00],\n",
       "       [ 7.66760260e-01, -1.27045515e+00],\n",
       "       [ 7.94056914e-03,  4.16381231e+00],\n",
       "       [ 4.78099751e-01,  2.00292603e+00],\n",
       "       [ 4.56730663e-01,  1.96125129e+00],\n",
       "       [ 1.05340391e-01, -3.03400919e+00],\n",
       "       [ 8.96798727e-01,  4.70741405e-03],\n",
       "       [ 9.56489683e-01,  1.35070855e+00],\n",
       "       [ 8.50041565e-01,  2.06596562e+00],\n",
       "       [ 9.68572468e-01,  1.30197029e+00],\n",
       "       [ 7.15064804e-01, -1.75328560e+00],\n",
       "       [ 1.75035577e-01, -1.46415853e+00]])"
      ]
     },
     "execution_count": 5,
     "metadata": {},
     "output_type": "execute_result"
    }
   ],
   "source": [
    "np.vstack((X, Y)).T"
   ]
  },
  {
   "cell_type": "code",
   "execution_count": 3,
   "metadata": {},
   "outputs": [
    {
     "data": {
      "text/plain": [
       "<matplotlib.collections.PathCollection at 0x210a3a42c50>"
      ]
     },
     "execution_count": 3,
     "metadata": {},
     "output_type": "execute_result"
    },
    {
     "data": {
      "image/png": "[encoded data removed]",
      "text/plain": [
       "<matplotlib.figure.Figure at 0x21097bbbc50>"
      ]
     },
     "metadata": {},
     "output_type": "display_data"
    }
   ],
   "source": [
    "plt.plot(x, y)\n",
    "plt.scatter(X, Y, s=3)"
   ]
  },
  {
   "cell_type": "code",
   "execution_count": 4,
   "metadata": {
    "collapsed": true
   },
   "outputs": [],
   "source": [
    "def dk(x, xi_k, xi_K):\n",
    "    return (max(0, x-xi_k)**3) / (xi_K-xi_k)\n",
    "\n",
    "def do_nc_expansion(x, xis):\n",
    "    X = np.zeros(shape=(x.shape[0], len(xis)))\n",
    "    for i in range(X.shape[0]):\n",
    "        X[i, 0] = 1\n",
    "        X[i, 1] = x[i]\n",
    "        for k in range(2, len(xis)):\n",
    "            X[i, k] = dk(x[i], xis[k-2], xis[-1]) - dk(x[i], xis[-2], xis[-1])\n",
    "    return X"
   ]
  },
  {
   "cell_type": "code",
   "execution_count": 5,
   "metadata": {
    "collapsed": true
   },
   "outputs": [],
   "source": [
    "X_unique = np.unique(X)\n",
    "N = do_nc_expansion(X, X_unique)"
   ]
  },
  {
   "cell_type": "code",
   "execution_count": 6,
   "metadata": {
    "collapsed": true
   },
   "outputs": [],
   "source": [
    "ls = sm.OLS(Y, N).fit_regularized(alpha=0.000000000000001, L1_wt=0)\n",
    "y_hat = ls.predict(do_nc_expansion(x, X_unique))"
   ]
  },
  {
   "cell_type": "code",
   "execution_count": 7,
   "metadata": {},
   "outputs": [
    {
     "data": {
      "text/plain": [
       "[<matplotlib.lines.Line2D at 0x210a3beaef0>]"
      ]
     },
     "execution_count": 7,
     "metadata": {},
     "output_type": "execute_result"
    },
    {
     "data": {
      "image/png": "[encoded data removed]",
      "text/plain": [
       "<matplotlib.figure.Figure at 0x210a3a7a438>"
      ]
     },
     "metadata": {},
     "output_type": "display_data"
    }
   ],
   "source": [
    "plt.plot(x, y)\n",
    "plt.scatter(X, Y, s=3)\n",
    "plt.plot(x, y_hat, color='red')"
   ]
  },
  {
   "cell_type": "code",
   "execution_count": 8,
   "metadata": {
    "collapsed": true
   },
   "outputs": [],
   "source": [
    "def a_ij(i, j, a):\n",
    "    return (a[-1]-a[i]) * (a[-1]-a[j])\n",
    "def integral_formula(x, i, j, a):\n",
    "    return (1/a_ij(i, j, a)) * (1/3*(x**3) - 1/2*(x**2)*(a[i]+a[j])+x*a[i]*a[j])\n",
    "def integral_value(i, j, a):\n",
    "    xs, xf = a[max(i, j)], a[-1]\n",
    "    return integral_formula(xf, i, j, a) - integral_formula(xs, i, j, a)\n",
    "def N_ij(i, j, k, a):\n",
    "    return 36*(integral_value(i, j, a) - integral_value(i, k-1, a) - integral_value(j, k-1, a) + integral_value(k-1, k-1, a))"
   ]
  },
  {
   "cell_type": "code",
   "execution_count": 9,
   "metadata": {
    "collapsed": true
   },
   "outputs": [],
   "source": [
    "def calc_O(x_unique, N):\n",
    "    O = np.zeros(shape=(N.shape[1], N.shape[1]))\n",
    "    k = x_unique.shape[0]-1\n",
    "    for i in range(O.shape[0]):\n",
    "        for j in range(O.shape[1]):\n",
    "            if i <= 1 or j <= 1:\n",
    "                continue\n",
    "            O[i, j] = N_ij(i-2, j-2, k, x_unique)    \n",
    "    return O"
   ]
  },
  {
   "cell_type": "code",
   "execution_count": 10,
   "metadata": {
    "collapsed": true
   },
   "outputs": [],
   "source": [
    "O = calc_O(X_unique, N)"
   ]
  },
  {
   "cell_type": "code",
   "execution_count": 61,
   "metadata": {
    "collapsed": true
   },
   "outputs": [],
   "source": [
    "theta_hat = np.linalg.inv(N.T @ N + 0.00034*O) @ N.T @ Y\n",
    "y_hat = do_nc_expansion(x, X_unique) @ theta_hat\n",
    "Sl = N @ np.linalg.inv(N.T @ N + 0.00034*O) @ N.T\n",
    "#lb = do_nc_expansion(X_unique, X_unique) @ theta_hat - 2*np.sqrt(np.diag(Sl @ Sl.T))\n",
    "#ub = do_nc_expansion(X_unique, X_unique) @ theta_hat + 2*np.sqrt(np.diag(Sl @ Sl.T))"
   ]
  },
  {
   "cell_type": "code",
   "execution_count": 62,
   "metadata": {},
   "outputs": [
    {
     "data": {
      "text/plain": [
       "[<matplotlib.lines.Line2D at 0x210a558acf8>]"
      ]
     },
     "execution_count": 62,
     "metadata": {},
     "output_type": "execute_result"
    },
    {
     "data": {
      "image/png": "[encoded data removed]",
      "text/plain": [
       "<matplotlib.figure.Figure at 0x210a54ff400>"
      ]
     },
     "metadata": {},
     "output_type": "display_data"
    }
   ],
   "source": [
    "plt.plot(x, y)\n",
    "plt.scatter(X, Y, s=3)\n",
    "plt.plot(x, y_hat, color='red')\n",
    "#plt.fill_between(X_unique, ub, lb, color='y', alpha=.5)"
   ]
  },
  {
   "cell_type": "code",
   "execution_count": 63,
   "metadata": {},
   "outputs": [
    {
     "data": {
      "text/plain": [
       "4.81464391950291"
      ]
     },
     "execution_count": 63,
     "metadata": {},
     "output_type": "execute_result"
    }
   ],
   "source": [
    "Sl = N @ np.linalg.inv(N.T @ N + 0.0061*O) @ N.T\n",
    "np.trace(Sl)"
   ]
  },
  {
   "cell_type": "code",
   "execution_count": 64,
   "metadata": {},
   "outputs": [
    {
     "data": {
      "text/plain": [
       "8.837516403803651"
      ]
     },
     "execution_count": 64,
     "metadata": {},
     "output_type": "execute_result"
    }
   ],
   "source": [
    "Sl = N @ np.linalg.inv(N.T @ N + 0.00034*O) @ N.T\n",
    "np.trace(Sl)"
   ]
  },
  {
   "cell_type": "code",
   "execution_count": 65,
   "metadata": {},
   "outputs": [
    {
     "data": {
      "text/plain": [
       "14.690071801887408"
      ]
     },
     "execution_count": 65,
     "metadata": {},
     "output_type": "execute_result"
    }
   ],
   "source": [
    "Sl = N @ np.linalg.inv(N.T @ N + 0.000034*O) @ N.T\n",
    "np.trace(Sl)"
   ]
  },
  {
   "cell_type": "code",
   "execution_count": 66,
   "metadata": {},
   "outputs": [
    {
     "data": {
      "text/plain": [
       "array([0.30772501, 0.08702497, 0.16334688, 0.33586328, 0.13469727,\n",
       "       0.12016026, 0.09700921, 0.13749705, 0.06875221, 0.09135256,\n",
       "       0.08554157, 0.3186662 , 0.15032515, 0.10294217, 0.09278946,\n",
       "       0.12170345, 0.12926328, 0.15150455, 0.08367811, 0.13850258,\n",
       "       0.12511884, 0.09901993, 0.0690609 , 0.0689981 , 0.08727204,\n",
       "       0.09312536, 0.08509996, 0.09308922, 0.08537738, 0.13400079,\n",
       "       0.11290522, 0.10122182, 0.08844923, 0.09385592, 0.06314335,\n",
       "       0.12898969, 0.08264118, 0.16435942, 0.22872093, 0.16655034,\n",
       "       0.09428844, 0.09714081, 0.07234559, 0.07646523, 0.08382058,\n",
       "       0.08893411, 0.08434471, 0.16148026, 0.08252649, 0.09808628,\n",
       "       0.12080386, 0.09702107, 0.09217925, 0.11126668, 0.09829798,\n",
       "       0.12246415, 0.11138967, 0.08903452, 0.13396947, 0.10031141,\n",
       "       0.10259912, 0.28318732, 0.1116649 , 0.08230944, 0.0687552 ,\n",
       "       0.09278793, 0.09429692, 0.19324315, 0.11723683, 0.11899695,\n",
       "       0.11302668, 0.14249486, 0.13902367, 0.09335776, 0.06579108,\n",
       "       0.09695014, 0.09395212, 0.08383299, 0.10570532, 0.10478139,\n",
       "       0.07752215, 0.07186662, 0.08104852, 0.08152826, 0.0842651 ,\n",
       "       0.14437604, 0.07729984, 0.08415089, 0.1058279 , 0.19091501,\n",
       "       0.09652769, 0.09387062, 0.09454173, 0.0842226 , 0.10018223,\n",
       "       0.08682716, 0.09492529, 0.14108865, 0.06959454, 0.14907633])"
      ]
     },
     "execution_count": 66,
     "metadata": {},
     "output_type": "execute_result"
    }
   ],
   "source": [
    "np.diag(Sl @ Sl.T)"
   ]
  },
  {
   "cell_type": "code",
   "execution_count": null,
   "metadata": {
    "collapsed": true
   },
   "outputs": [],
   "source": []
  }
 ],
 "metadata": {
  "kernelspec": {
   "display_name": "Python [conda env:Python64]",
   "language": "python",
   "name": "conda-env-Python64-py"
  },
  "language_info": {
   "codemirror_mode": {
    "name": "ipython",
    "version": 3
   },
   "file_extension": ".py",
   "mimetype": "text/x-python",
   "name": "python",
   "nbconvert_exporter": "python",
   "pygments_lexer": "ipython3",
   "version": "3.6.3"
  }
 },
 "nbformat": 4,
 "nbformat_minor": 2
}
