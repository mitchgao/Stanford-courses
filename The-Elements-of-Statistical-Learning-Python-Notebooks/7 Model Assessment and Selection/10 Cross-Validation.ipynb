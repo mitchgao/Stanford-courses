{
 "cells": [
  {
   "cell_type": "code",
   "execution_count": 1,
   "metadata": {},
   "outputs": [
    {
     "name": "stderr",
     "output_type": "stream",
     "text": [
      "C:\\Python64\\lib\\site-packages\\statsmodels\\compat\\pandas.py:56: FutureWarning: The pandas.core.datetools module is deprecated and will be removed in a future version. Please use the pandas.tseries module instead.\n",
      "  from pandas.core import datetools\n"
     ]
    }
   ],
   "source": [
    "import numpy as np\n",
    "from numpy.random import uniform\n",
    "from matplotlib import pyplot as plt\n",
    "from itertools import combinations\n",
    "from sklearn.model_selection import KFold\n",
    "import statsmodels.api as sm\n",
    "%matplotlib inline\n",
    "np.set_printoptions(precision=4, suppress=True)"
   ]
  },
  {
   "cell_type": "code",
   "execution_count": 2,
   "metadata": {
    "collapsed": true
   },
   "outputs": [],
   "source": [
    "X = uniform(0, 1, size=(80, 20))\n",
    "Y = (np.sum(X[:,:10], axis=1)>5) + 0\n",
    "X = np.hstack((np.ones(shape=(80,1)), X))"
   ]
  },
  {
   "cell_type": "code",
   "execution_count": 3,
   "metadata": {},
   "outputs": [
    {
     "name": "stdout",
     "output_type": "stream",
     "text": [
      "0 0.425 0.049999999999999996\n",
      "1 0.4625 0.0375\n",
      "2 0.4125 0.0375\n",
      "3 0.25 0.049300664859163464\n",
      "4 0.2625 0.05086064839889043\n",
      "5 0.2 0.027638539919628332\n",
      "6 0.2875 0.049476425362657984\n",
      "7 0.225 0.044876373392787536\n",
      "8 0.1875 0.05017331074496789\n",
      "9 0.2 0.04249182927993987\n",
      "10 0.1875 0.05017331074496789\n",
      "11 0.1625 0.03254270698294439\n",
      "12 0.125 0.02635231383473649\n",
      "13 0.175 0.04249182927993988\n",
      "14 0.175 0.04249182927993988\n",
      "15 0.1875 0.04658474953124562\n",
      "16 0.1875 0.04269562819149833\n",
      "17 0.175 0.04639803635691685\n",
      "18 0.175 0.04249182927993988\n",
      "19 0.175 0.027638539919628332\n",
      "20 0.125 0.02635231383473649\n"
     ]
    }
   ],
   "source": [
    "kf = KFold(n_splits=10)\n",
    "p_errors = []\n",
    "for p in range(21):\n",
    "    errors = []\n",
    "    stds = []\n",
    "    for train_index, valid_index in kf.split(X):\n",
    "        X_train, Y_train = X[train_index], Y[train_index]\n",
    "        X_valid, Y_valid = X[valid_index], Y[valid_index]\n",
    "        best_model, best_combination, best_beta, min_error = None, None, None, np.inf\n",
    "        for predictors in combinations(list(range(1, 21)), p):\n",
    "            predictors = [0] + list(predictors)\n",
    "            X_ = X_train[:,predictors]\n",
    "            beta = np.linalg.inv(X_.T @ X_) @ X_.T @ Y_train\n",
    "            y_hat = np.round(X_ @ beta)\n",
    "            error = np.mean(np.abs(Y_train - y_hat))\n",
    "            if error < min_error:\n",
    "                best_combination = predictors\n",
    "                min_error = error\n",
    "                best_beta = beta\n",
    "        pred = np.round(X_valid[:,best_combination] @ best_beta)\n",
    "        valid_error = np.mean(np.abs(Y_valid - pred))\n",
    "        errors.append(valid_error)\n",
    "        #print(best_combination, min_error, valid_error)\n",
    "    print(p, np.mean(errors), np.std(errors, ddof=1)/np.sqrt(10))\n",
    "    p_errors.append(errors)"
   ]
  },
  {
   "cell_type": "code",
   "execution_count": 5,
   "metadata": {},
   "outputs": [
    {
     "data": {
      "text/plain": [
       "(0, 0.6)"
      ]
     },
     "execution_count": 5,
     "metadata": {},
     "output_type": "execute_result"
    },
    {
     "data": {
      "image/png": "[encoded data removed]",
      "text/plain": [
       "<matplotlib.figure.Figure at 0x1bec0c184e0>"
      ]
     },
     "metadata": {},
     "output_type": "display_data"
    }
   ],
   "source": [
    "y = [np.mean(e) for e in p_errors]\n",
    "e = [np.std(e, ddof=1)/np.sqrt(10) for e in p_errors]\n",
    "x = list(range(21))\n",
    "plt.errorbar(x, y, e, marker='o')\n",
    "plt.ylim(0, 0.6)"
   ]
  },
  {
   "cell_type": "code",
   "execution_count": null,
   "metadata": {
    "collapsed": true
   },
   "outputs": [],
   "source": []
  }
 ],
 "metadata": {
  "kernelspec": {
   "display_name": "Python [conda env:Python64]",
   "language": "python",
   "name": "conda-env-Python64-py"
  },
  "language_info": {
   "codemirror_mode": {
    "name": "ipython",
    "version": 3
   },
   "file_extension": ".py",
   "mimetype": "text/x-python",
   "name": "python",
   "nbconvert_exporter": "python",
   "pygments_lexer": "ipython3",
   "version": "3.6.3"
  }
 },
 "nbformat": 4,
 "nbformat_minor": 2
}
