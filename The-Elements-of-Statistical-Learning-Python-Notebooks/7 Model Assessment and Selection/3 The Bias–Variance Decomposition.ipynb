{
 "cells": [
  {
   "cell_type": "code",
   "execution_count": 1,
   "metadata": {
    "collapsed": true
   },
   "outputs": [],
   "source": [
    "import numpy as np\n",
    "from numpy.random import uniform\n",
    "from matplotlib import pyplot as plt\n",
    "from sklearn import neighbors\n",
    "from itertools import combinations\n",
    "%matplotlib inline"
   ]
  },
  {
   "cell_type": "code",
   "execution_count": 2,
   "metadata": {
    "collapsed": true
   },
   "outputs": [],
   "source": [
    "test_size = 10000\n",
    "trials = 100\n",
    "X_test = uniform(0, 1, size=(test_size, 20))\n",
    "Y1_test= (X_test[:,0]>0.5) + np.zeros(test_size)\n",
    "Y2_test = (np.sum(X_test[:,:10], axis=1)>5) + np.zeros(test_size)"
   ]
  },
  {
   "cell_type": "code",
   "execution_count": 3,
   "metadata": {
    "collapsed": true
   },
   "outputs": [],
   "source": [
    "k_means_gen_erros = {k: [] for k in [50, 40, 30, 20, 10, 7, 3, 1]}"
   ]
  },
  {
   "cell_type": "code",
   "execution_count": 4,
   "metadata": {
    "collapsed": true
   },
   "outputs": [],
   "source": [
    "for k in k_means_gen_erros:\n",
    "    for t in range(trials):\n",
    "        X = uniform(0, 1, size=(80, 20))\n",
    "        Y1= (X[:,0]>0.5) + np.zeros(80)\n",
    "        knn = neighbors.KNeighborsRegressor(k)\n",
    "        predict = knn.fit(X, Y1).predict(X_test)\n",
    "        k_means_gen_erros[k].append(np.mean((Y1_test - predict) ** 2))\n",
    "    break"
   ]
  },
  {
   "cell_type": "code",
   "execution_count": 5,
   "metadata": {
    "collapsed": true
   },
   "outputs": [],
   "source": [
    "k_means_pred_errors = []\n",
    "k_means_bias = []\n",
    "k_means_variance = []\n",
    "\n",
    "for k in sorted(k_means_gen_erros):\n",
    "    tmp = np.zeros((test_size, trials))\n",
    "    err = []\n",
    "    for t in range(trials):\n",
    "        X = uniform(0, 1, size=(80, 20))\n",
    "        Y1= (X[:,0]>0.5) + np.zeros(80)\n",
    "        knn = neighbors.KNeighborsRegressor(k)\n",
    "        predict = knn.fit(X, Y1).predict(X_test)\n",
    "        tmp[:,t] = predict\n",
    "        err.append(np.mean((Y1_test - predict)**2))\n",
    "    bias, variance = np.mean((np.mean(tmp, axis=1) - Y1_test)**2), np.mean(np.var(tmp, axis=1))\n",
    "    k_means_pred_errors.append(np.mean(err))\n",
    "    k_means_bias.append(bias)\n",
    "    k_means_variance.append(variance)"
   ]
  },
  {
   "cell_type": "code",
   "execution_count": 6,
   "metadata": {},
   "outputs": [
    {
     "data": {
      "text/plain": [
       "(0, 0.4)"
      ]
     },
     "execution_count": 6,
     "metadata": {},
     "output_type": "execute_result"
    },
    {
     "data": {
      "image/png": "[encoded data removed]",
      "text/plain": [
       "<matplotlib.figure.Figure at 0x1cc56c38908>"
      ]
     },
     "metadata": {},
     "output_type": "display_data"
    }
   ],
   "source": [
    "plt.plot(sorted(k_means_gen_erros), k_means_pred_errors)\n",
    "plt.plot(sorted(k_means_gen_erros), k_means_bias)\n",
    "plt.plot(sorted(k_means_gen_erros), k_means_variance)\n",
    "plt.gca().invert_xaxis()\n",
    "plt.ylim(0, 0.4)"
   ]
  },
  {
   "cell_type": "code",
   "execution_count": 7,
   "metadata": {
    "collapsed": true
   },
   "outputs": [],
   "source": [
    "p = 18\n",
    "X_test_ = np.hstack((np.ones(shape=(X_test.shape[0], 1)), X_test))"
   ]
  },
  {
   "cell_type": "code",
   "execution_count": 8,
   "metadata": {},
   "outputs": [
    {
     "name": "stdout",
     "output_type": "stream",
     "text": [
      "0 0.253677375 0.2500820624999999 0.0035953125000000013 5.724587470723463e-17\n",
      "1 0.24385176507411388 0.202115273270708 0.0417364918034059 -1.3877787807814457e-17\n",
      "2 0.22506907493644274 0.17744780686972325 0.04762126806671949 -6.938893903907228e-18\n",
      "5 0.19194612831415525 0.1276817560335388 0.06426437228061645 1.3877787807814457e-17\n",
      "7 0.1582227281707133 0.09956083140771382 0.0586618967629995 -1.3877787807814457e-17\n",
      "11 0.1247734592465011 0.09232093004735505 0.03245252919914605 6.938893903907228e-18\n",
      "14 0.11946491954343372 0.09178205315547272 0.027682866387961 -3.469446951953614e-18\n",
      "17 0.12157879852726569 0.0937446776523781 0.02783412087488761 -1.3877787807814457e-17\n",
      "20 0.11779790032279794 0.09256397186612367 0.025233928456674274 -3.469446951953614e-18\n"
     ]
    }
   ],
   "source": [
    "p_vars = [0, 1, 2, 5, 7, 11, 14, 17, 20]\n",
    "lr_pred_errors = []\n",
    "lr_bias = []\n",
    "lr_variance = []\n",
    "trials = 10\n",
    "\n",
    "for p in p_vars:\n",
    "    tmp = np.zeros((test_size, trials))\n",
    "    err = []\n",
    "    for t in range(trials):\n",
    "        X = uniform(0, 1, size=(80, 20))\n",
    "        Y2 = (np.sum(X[:,:10], axis=1)>5) + np.zeros(80)\n",
    "        X = np.hstack((np.ones(shape=(80, 1)), X))\n",
    "\n",
    "        best_combination, best_beta, min_error = None, None, np.inf\n",
    "        for predictors in combinations(list(range(1, 21)), p):\n",
    "            predictors = [0] + list(predictors)\n",
    "            X_ = X[:,predictors]\n",
    "            beta = np.linalg.inv(X_.T @ X_) @ X_.T @ Y2\n",
    "            y_hat = X_ @ beta\n",
    "            error = np.mean((Y2 - y_hat) ** 2)\n",
    "            if error < min_error:\n",
    "                best_combination = predictors\n",
    "                min_error = error\n",
    "                best_beta = beta\n",
    "        predict = X_test_[:,best_combination] @ best_beta\n",
    "        tmp[:,t] = predict\n",
    "        err.append(np.mean((Y2_test - predict)**2))\n",
    "    bias, variance = np.mean((np.mean(tmp, axis=1) - Y2_test)**2), np.mean(np.var(tmp, axis=1))\n",
    "    lr_pred_errors.append(np.mean(err))\n",
    "    lr_bias.append(bias)\n",
    "    lr_variance.append(variance)\n",
    "    print(p, np.mean(err), bias, variance, np.mean(err)-bias-variance)"
   ]
  },
  {
   "cell_type": "code",
   "execution_count": 9,
   "metadata": {},
   "outputs": [
    {
     "data": {
      "text/plain": [
       "(0, 0.4)"
      ]
     },
     "execution_count": 9,
     "metadata": {},
     "output_type": "execute_result"
    },
    {
     "data": {
      "image/png": "[encoded data removed]",
      "text/plain": [
       "<matplotlib.figure.Figure at 0x1cc56e4a6a0>"
      ]
     },
     "metadata": {},
     "output_type": "display_data"
    }
   ],
   "source": [
    "plt.plot(p_vars, lr_pred_errors)\n",
    "plt.plot(p_vars, lr_bias)\n",
    "plt.plot(p_vars, lr_variance)\n",
    "plt.ylim(0, 0.4)"
   ]
  },
  {
   "cell_type": "code",
   "execution_count": null,
   "metadata": {
    "collapsed": true
   },
   "outputs": [],
   "source": []
  }
 ],
 "metadata": {
  "kernelspec": {
   "display_name": "Python [conda env:Python64]",
   "language": "python",
   "name": "conda-env-Python64-py"
  },
  "language_info": {
   "codemirror_mode": {
    "name": "ipython",
    "version": 3
   },
   "file_extension": ".py",
   "mimetype": "text/x-python",
   "name": "python",
   "nbconvert_exporter": "python",
   "pygments_lexer": "ipython3",
   "version": "3.6.3"
  }
 },
 "nbformat": 4,
 "nbformat_minor": 2
}
