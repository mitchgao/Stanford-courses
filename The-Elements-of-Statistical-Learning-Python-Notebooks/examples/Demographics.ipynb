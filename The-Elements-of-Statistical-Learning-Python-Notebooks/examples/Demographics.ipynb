{
 "cells": [
  {
   "cell_type": "markdown",
   "metadata": {},
   "source": [
    "# Demographics Data\n",
    "\n",
    "Marketing Database.\n",
    "\n",
    "Source: Impact Resources, Inc., Columbus, OH (1987). \n",
    "\n",
    "A total of N=9409 questionnaires containg 502 questions were filled out by shopping mall customers in the San Francisco Bay area. \n",
    "\n",
    "The dataset is an extract from this survey. It consists of 14 demographic attributes. The dataset is a good mixture of categorical and continuos variables with a lot of missing data. This is characteristic \n",
    "for data mining applications. \n",
    "\n",
    "Variables:\n",
    "\n",
    "|         |                                                                  |\n",
    "|---------|------------------------------------------------------------------|\n",
    "|income   |ANNUAL INCOME OF HOUSEHOLD<br>(PERSONAL INCOME IF SINGLE)         |\n",
    "|sex      |SEX                                                               |\n",
    "|mar-stat |MARITAL STATUS                                                    |\n",
    "|age      |AGE                                                               |\n",
    "|edu      |EDUCATION                                                         |\n",
    "|occup    |OCCUPATION                                                        |\n",
    "|yrs-BA   |HOW LONG HAVE YOU LIVED IN THE<br>SAN FRAN./OAKLAND/SAN JOSE AREA?|\n",
    "|mar-dlinc|DUAL INCOMES (IF MARRIED)                                         |\n",
    "|num-hsld |PERSONS IN YOUR HOUSEHOLD                                         |\n",
    "|children |PERSONS IN HOUSEHOLD UNDER 18                                     |\n",
    "|hsld-stat|HOUSEHOLDER STATUS                                                |\n",
    "|typ-home |TYPE OF HOME                                                      |\n",
    "|ethnic   |ETHNIC CLASSIFICATION                                             |\n",
    "|lang     |WHAT LANGUAGE IS SPOKEN MOST<br>OFTEN IN YOUR HOME?               |"
   ]
  },
  {
   "cell_type": "code",
   "execution_count": 1,
   "metadata": {
    "collapsed": true
   },
   "outputs": [],
   "source": [
    "import pandas as pd\n",
    "from matplotlib import transforms, pyplot as plt\n",
    "import numpy as np\n",
    "\n",
    "%matplotlib inline\n",
    "\n",
    "# define plots common properties and color constants\n",
    "plt.rcParams['font.family'] = 'Arial'\n",
    "plt.rcParams['axes.linewidth'] = 0.5\n",
    "GRAY1, GRAY4, GRAY7 = '#231F20', '#646369', '#929497'"
   ]
  },
  {
   "cell_type": "markdown",
   "metadata": {},
   "source": [
    "## Load and Prepare Data"
   ]
  },
  {
   "cell_type": "code",
   "execution_count": 2,
   "metadata": {},
   "outputs": [
    {
     "data": {
      "text/plain": [
       "income               $75,000 or more\n",
       "sex                           Female\n",
       "mar-stat                     Married\n",
       "age                       45 thru 54\n",
       "edu          1 to 3 years of college\n",
       "occup                      Homemaker\n",
       "yrs-BA           More than ten years\n",
       "mar-dlinc                         No\n",
       "num-hsld                       Three\n",
       "children                        None\n",
       "hsld-stat                        Own\n",
       "typ-home                       House\n",
       "ethnic                         White\n",
       "lang                             NaN\n",
       "Name: 0, dtype: object"
      ]
     },
     "execution_count": 2,
     "metadata": {},
     "output_type": "execute_result"
    }
   ],
   "source": [
    "df = pd.read_csv(\"../data/Demographis.txt\", sep=';')\n",
    "df.iloc[0]  # use df.head() instead"
   ]
  },
  {
   "cell_type": "markdown",
   "metadata": {},
   "source": [
    "### Treat Missing Values"
   ]
  },
  {
   "cell_type": "code",
   "execution_count": 3,
   "metadata": {
    "collapsed": true
   },
   "outputs": [],
   "source": [
    "from sklearn.impute import SimpleImputer"
   ]
  },
  {
   "cell_type": "code",
   "execution_count": 4,
   "metadata": {
    "collapsed": true
   },
   "outputs": [],
   "source": [
    "# replace missing values with most frequent observations\n",
    "imputer = SimpleImputer(strategy=\"most_frequent\")\n",
    "df = pd.DataFrame(imputer.fit_transform(df), columns=df.columns)"
   ]
  },
  {
   "cell_type": "markdown",
   "metadata": {},
   "source": [
    "### Treat Ordered Categorical Features"
   ]
  },
  {
   "cell_type": "code",
   "execution_count": 5,
   "metadata": {
    "collapsed": true
   },
   "outputs": [],
   "source": [
    "# Convert ordered categorical (ordinal) features to quantitative.\n",
    "# The values of this type of variable are often represented\n",
    "# as contiguous integers (1-N), but I prefer 'natural' values.\n",
    "# It doesn't affect the result, but the plots are easier to read\n",
    "income_cats = {\n",
    "    'Less than $10,000':  5000,  '$10,000 to $14,999': 12500,\n",
    "    '$15,000 to $19,999': 17500, '$20,000 to $24,999': 22500,\n",
    "    '$25,000 to $29,999': 27500, '$30,000 to $39,999': 35000,\n",
    "    '$40,000 to $49,999': 45000, '$50,000 to $74,999': 62500,\n",
    "    '$75,000 or more': 100000}\n",
    "\n",
    "age_cats = {\n",
    "    '14 thru 17': 15, '18 thru 24': 21, '25 thru 34': 30,\n",
    "    '35 thru 44': 40, '45 thru 54': 50, '55 thru 64': 60,\n",
    "    '65 and Over': 70}\n",
    "\n",
    "yrs_BA_cats = {\n",
    "    'Less than one year': 0.5, 'One to three years': 2,\n",
    "    'Four to six years': 5,    'Seven to ten years': 8,\n",
    "    'More than ten years': 15}\n",
    "\n",
    "num_hsld_cats = {\n",
    "    'One': 1, 'Two': 2,   'Three': 3, 'Four': 4, 'Five': 5,\n",
    "    'Six': 6, 'Seven': 7, 'Eight': 8, 'Nine or more': 10}\n",
    "\n",
    "children_cats = {\n",
    "    'None': 0, 'One': 1, 'Two': 2,   'Three': 3, 'Four': 4,\n",
    "    'Five': 5, 'Six': 6, 'Seven': 7, 'Eight': 8, 'Nine or more': 10}\n",
    "\n",
    "# do replacement\n",
    "df.replace({\n",
    "    'income': income_cats,\n",
    "    'age': age_cats,\n",
    "    'yrs-BA': yrs_BA_cats,\n",
    "    'num-hsld': num_hsld_cats,\n",
    "    'children': children_cats\n",
    "}, inplace=True)"
   ]
  },
  {
   "cell_type": "markdown",
   "metadata": {},
   "source": [
    "### Train-Test Split"
   ]
  },
  {
   "cell_type": "code",
   "execution_count": 6,
   "metadata": {
    "collapsed": true
   },
   "outputs": [],
   "source": [
    "from sklearn.model_selection import train_test_split"
   ]
  },
  {
   "cell_type": "code",
   "execution_count": 7,
   "metadata": {},
   "outputs": [],
   "source": [
    "target = 'occup'\n",
    "features = [\n",
    "    'income', 'sex', 'mar-stat', 'age', 'edu', 'yrs-BA', 'mar-dlinc',\n",
    "    'num-hsld', 'children', 'hsld-stat', 'typ-home', 'ethnic', 'lang']\n",
    "cat_features = [\n",
    "    'sex', 'mar-stat', 'mar-dlinc', 'edu',\n",
    "    'hsld-stat', 'ethnic', 'lang', 'typ-home']\n",
    "\n",
    "X, y = df[features].values, df[target].values\n",
    "\n",
    "# PAGE 379. We randomly divided the data into a training set (80%) \n",
    "#           and test set (20%)\n",
    "X_train, X_test, y_train, y_test = train_test_split(\n",
    "    X, y, test_size=0.2, random_state=1)"
   ]
  },
  {
   "cell_type": "markdown",
   "metadata": {
    "collapsed": true
   },
   "source": [
    "## Base Model"
   ]
  },
  {
   "cell_type": "code",
   "execution_count": 8,
   "metadata": {
    "collapsed": true
   },
   "outputs": [],
   "source": [
    "from sklearn.dummy import DummyClassifier\n",
    "from sklearn.metrics import accuracy_score"
   ]
  },
  {
   "cell_type": "code",
   "execution_count": 9,
   "metadata": {},
   "outputs": [
    {
     "name": "stdout",
     "output_type": "stream",
     "text": [
      "The null error rate 0.69\n"
     ]
    }
   ],
   "source": [
    "# PAGE 379. ...the null rate of 69% obtained by predicting the most\n",
    "#           numerous class Prof/Man (Professional/Managerial).\n",
    "dummy_clf = DummyClassifier(strategy='most_frequent').fit(X_train, y_train)\n",
    "y_test_hat = dummy_clf.predict(X_test)\n",
    "dummy_error_rate = 1 - accuracy_score(y_test, y_test_hat)\n",
    "print(f'The null error rate {dummy_error_rate:.2f}')"
   ]
  },
  {
   "cell_type": "markdown",
   "metadata": {},
   "source": [
    "## Boosting over Decision Trees"
   ]
  },
  {
   "cell_type": "code",
   "execution_count": 10,
   "metadata": {
    "collapsed": true
   },
   "outputs": [],
   "source": [
    "from catboost import Pool, CatBoostClassifier\n",
    "from sklearn.metrics import confusion_matrix"
   ]
  },
  {
   "cell_type": "code",
   "execution_count": 11,
   "metadata": {
    "collapsed": true
   },
   "outputs": [],
   "source": [
    "# CatBoost uses the indices of categorical features\n",
    "cat_features_idx = [features.index(f) for f in cat_features]\n",
    "\n",
    "train_dataset = Pool(data=X_train,\n",
    "                     label=y_train,\n",
    "                     cat_features=cat_features_idx)\n",
    "\n",
    "eval_dataset = Pool(data=X_test,\n",
    "                    label=y_test,\n",
    "                    cat_features=cat_features_idx)"
   ]
  },
  {
   "cell_type": "code",
   "execution_count": 12,
   "metadata": {
    "collapsed": true
   },
   "outputs": [],
   "source": [
    "model = CatBoostClassifier(\n",
    "    iterations=350,\n",
    "    learning_rate=0.035,\n",
    "    loss_function='MultiClass',\n",
    "    eval_metric='Accuracy'\n",
    ").fit(\n",
    "    train_dataset,\n",
    "    use_best_model=True,\n",
    "    eval_set=eval_dataset,\n",
    "    verbose=False,\n",
    "    plot=False  # set it True to track training progress\n",
    ")"
   ]
  },
  {
   "cell_type": "markdown",
   "metadata": {
    "collapsed": true
   },
   "source": [
    "### Model Performance"
   ]
  },
  {
   "cell_type": "code",
   "execution_count": 13,
   "metadata": {
    "collapsed": true
   },
   "outputs": [],
   "source": [
    "# PAGE 379. The overall error rate is 42.5% ... The four best predicted\n",
    "#           classes are seen to be Retired, Student, Prof/Man, and Homemaker.\n",
    "y_test_hat = model.predict(X_test)\n",
    "overall_error_rate = 1 - accuracy_score(y_test, y_test_hat)\n",
    "occupations = list(set(y))\n",
    "cm = confusion_matrix(y_test, y_test_hat, labels=occupations)\n",
    "occup_error_rates = 1 - cm.diagonal()/cm.sum(axis=1)\n",
    "errors = sorted(zip(occup_error_rates, occupations))"
   ]
  },
  {
   "cell_type": "code",
   "execution_count": 14,
   "metadata": {},
   "outputs": [
    {
     "data": {
      "image/png": "[encoded data removed]",
      "text/plain": [
       "<matplotlib.figure.Figure at 0x1f6c4f96908>"
      ]
     },
     "metadata": {},
     "output_type": "display_data"
    }
   ],
   "source": [
    "# PAGE 381. FIGURE 10.22. Error rate for each occupation in the demographics\n",
    "#           data.\n",
    "yticks = np.arange(len(errors))\n",
    "yticklabels = [e[1] for e in errors][::-1]\n",
    "bars_sizes = [100*e[0] for e in errors][::-1]\n",
    "\n",
    "fig, ax = plt.subplots(figsize=(4.3, 3), dpi=150)\n",
    "bars = ax.barh(yticks, bars_sizes, height=0.8, color='green')\n",
    "plt.setp(ax, yticks=yticks, yticklabels=yticklabels)\n",
    "ax.set_xlim([0, 100])\n",
    "ax.set_ylim([-0.5, 8.5])\n",
    "for e in ax.get_yticklabels()+ax.get_xticklabels():\n",
    "    e.set_fontsize(6)\n",
    "    e.set_color(GRAY1)\n",
    "ax.tick_params(left=False)\n",
    "ax.spines['right'].set_visible(False)\n",
    "ax.spines['top'].set_visible(False)\n",
    "offset = transforms.ScaledTranslation(0, -0.07, fig.dpi_scale_trans)\n",
    "for e in ax.get_xticklabels() + ax.xaxis.get_ticklines() + \\\n",
    "         [ax.spines['bottom']]:\n",
    "    e.set_transform(e.get_transform() + offset)\n",
    "ax.spines['bottom'].set_bounds(0, 100)\n",
    "ax.text(31, 9, f'Overall Error Rate = {overall_error_rate:.3f}',\n",
    "        color=GRAY4, fontsize=7)\n",
    "_ = ax.set_xlabel('Error Rate', color=GRAY4, fontsize=7)"
   ]
  },
  {
   "cell_type": "markdown",
   "metadata": {
    "collapsed": true
   },
   "source": [
    "### Relative Importance of the Predictors"
   ]
  },
  {
   "cell_type": "code",
   "execution_count": 15,
   "metadata": {
    "collapsed": true
   },
   "outputs": [],
   "source": [
    "# we'll construct many plots, so let's implement a function\n",
    "def plot_importance_bars(ax, model, title=None):\n",
    "    importance = np.array(model.get_feature_importance())\n",
    "    max_importance = np.max(importance)\n",
    "    relative_importance = sorted(zip(100*importance/max_importance, features))\n",
    "\n",
    "    yticks = np.arange(len(relative_importance))\n",
    "    yticklabels = [ri[1] for ri in relative_importance][::-1]\n",
    "    bars_sizes = [ri[0] for ri in relative_importance][::-1]\n",
    "\n",
    "    bars = ax.barh(yticks, bars_sizes, height=0.8, color='red')\n",
    "    plt.setp(ax, yticks=yticks, yticklabels=yticklabels)\n",
    "    ax.set_xlim([0, 100])\n",
    "    ax.set_ylim([-0.5, len(relative_importance) - 0.5])\n",
    "    for e in ax.get_yticklabels()+ax.get_xticklabels():\n",
    "        e.set_fontsize(6)\n",
    "        e.set_color(GRAY1)\n",
    "    ax.tick_params(left=False)\n",
    "    ax.spines['right'].set_visible(False)\n",
    "    ax.spines['top'].set_visible(False)\n",
    "    offset = transforms.ScaledTranslation(0, -0.07, fig.dpi_scale_trans)\n",
    "    for e in ax.get_xticklabels() + ax.xaxis.get_ticklines() + \\\n",
    "            [ax.spines['bottom']]:\n",
    "        e.set_transform(e.get_transform() + offset)\n",
    "    ax.spines['bottom'].set_bounds(0, 100)\n",
    "    ax.set_xlabel('Relative Importance', color=GRAY4, fontsize=7)\n",
    "    if title is not None:\n",
    "        ax.text(50, ax.get_ylim()[1]+0.5, title, color=GRAY4, fontsize=8,\n",
    "                horizontalalignment='center')"
   ]
  },
  {
   "cell_type": "code",
   "execution_count": 16,
   "metadata": {},
   "outputs": [
    {
     "data": {
      "image/png": "[encoded data removed]",
      "text/plain": [
       "<matplotlib.figure.Figure at 0x1f6c4f966a0>"
      ]
     },
     "metadata": {},
     "output_type": "display_data"
    }
   ],
   "source": [
    "# PAGE 381. FIGURE 10.23. Relative importance of the predictors as\n",
    "#           averaged over all classes for the demographics data.\n",
    "fig, ax = plt.subplots(figsize=(4.3, 3), dpi=150)\n",
    "plot_importance_bars(ax, model)"
   ]
  },
  {
   "cell_type": "markdown",
   "metadata": {
    "collapsed": true
   },
   "source": [
    "## One-Vs-Rest Classification"
   ]
  },
  {
   "cell_type": "code",
   "execution_count": 17,
   "metadata": {
    "collapsed": true
   },
   "outputs": [],
   "source": [
    "# trains a boosting model for the specified occupation\n",
    "def build_model(occupation):\n",
    "    y_train_occup = 0 + (y_train == occupation)\n",
    "    y_test_occup = 0 + (y_test == occupation)\n",
    "    train_dataset = Pool(data=X_train,\n",
    "                         label=y_train_occup,\n",
    "                         cat_features=cat_features_idx)\n",
    "    eval_dataset = Pool(data=X_test,\n",
    "                        label=y_test_occup,\n",
    "                        cat_features=cat_features_idx)\n",
    "    model = CatBoostClassifier(\n",
    "        iterations=350,\n",
    "        learning_rate=0.035,\n",
    "        eval_metric='Accuracy'\n",
    "    ).fit(\n",
    "        train_dataset,\n",
    "        use_best_model=True,\n",
    "        eval_set=eval_dataset,\n",
    "        verbose=False\n",
    "    )\n",
    "    return model"
   ]
  },
  {
   "cell_type": "code",
   "execution_count": 18,
   "metadata": {
    "collapsed": true
   },
   "outputs": [],
   "source": [
    "# train 4 models\n",
    "retired_clf = build_model('Retired')\n",
    "prof_man_clf = build_model('Professional/Managerial')\n",
    "student_clf = build_model('Student, HS or College')\n",
    "homemaker_clf = build_model('Homemaker')"
   ]
  },
  {
   "cell_type": "code",
   "execution_count": 19,
   "metadata": {},
   "outputs": [
    {
     "data": {
      "image/png": "[encoded data removed]",
      "text/plain": [
       "<matplotlib.figure.Figure at 0x1f6cdf5c128>"
      ]
     },
     "metadata": {},
     "output_type": "display_data"
    }
   ],
   "source": [
    "# PAGE 382. FIGURE 10.24. Predictor variable importance separately for each of\n",
    "#           the four classes with lowest error rate for the demographics data.\n",
    "fig, axarr = plt.subplots(2, 2, figsize=(4.65, 4), dpi=150)\n",
    "plt.subplots_adjust(wspace=0.35, hspace=0.6)\n",
    "plot_importance_bars(axarr[0, 0], retired_clf, 'Retired')\n",
    "plot_importance_bars(axarr[0, 1], student_clf, 'Student, HS or College')\n",
    "plot_importance_bars(axarr[1, 0], prof_man_clf, 'Professional/Managerial')\n",
    "plot_importance_bars(axarr[1, 1], homemaker_clf, 'Homemaker')"
   ]
  },
  {
   "cell_type": "code",
   "execution_count": 20,
   "metadata": {
    "collapsed": true
   },
   "outputs": [],
   "source": [
    "# PAGE 380. Figure 10.25 shows the partial dependance of the log-odds (10.25)\n",
    "#           on age for these three classes.\n",
    "# PAGE 380. One sees that after accounting for the contribution of the other\n",
    "#           variables, the odds of being retired are higher for older people,\n",
    "#           whereas the opposite is the case for being a student.\n",
    "def plot_partial_dependence(ax, model, occupation):\n",
    "    prior_prob = np.mean(0 + (y == occupation))\n",
    "    coef = (1 - prior_prob)/prior_prob\n",
    "    n = features.index('age')\n",
    "    X_tmp = X.copy()\n",
    "    vals = np.unique(X_tmp[:, n])\n",
    "    result = []\n",
    "    for i in range(vals.shape[0]):\n",
    "        X_tmp[:, n] = vals[i]\n",
    "        pr = np.mean(model.predict_proba(X_tmp), axis=0)\n",
    "        result.append(np.log(coef*pr[1]/pr[0]))\n",
    "    ax.plot(vals, result, linewidth=0.6, color='#26FF26')\n",
    "    for e in ax.get_yticklabels() + ax.get_xticklabels():\n",
    "        e.set_fontsize(4)\n",
    "    ax.set_ylabel('Partial Dependance', color=GRAY4, fontsize=6)\n",
    "    ax.set_xlabel('age', color=GRAY4, fontsize=6)\n",
    "    ax.yaxis.set_label_coords(-0.15, 0.5)\n",
    "    ax.xaxis.set_label_coords(0.5, -0.15)\n",
    "    ax.set_ylim(-3.5, 3.5)\n",
    "    ax.text(\n",
    "        np.mean(ax.get_xlim()), ax.get_ylim()[1]+0.5,\n",
    "        occupation, color=GRAY4, fontsize=7,\n",
    "        horizontalalignment='center')"
   ]
  },
  {
   "cell_type": "code",
   "execution_count": 21,
   "metadata": {},
   "outputs": [
    {
     "data": {
      "image/png": "[encoded data removed]",
      "text/plain": [
       "<matplotlib.figure.Figure at 0x1f6ce531ef0>"
      ]
     },
     "metadata": {},
     "output_type": "display_data"
    }
   ],
   "source": [
    "# PAGE 383. FIGURE 10.25. Partial dependance of the odds of three different\n",
    "#           occupations on age, for the demographics data.\n",
    "fig, axarr = plt.subplots(2, 2, figsize=(4.65, 3.43), dpi=150)\n",
    "plt.subplots_adjust(wspace=0.35, hspace=0.45)\n",
    "plot_partial_dependence(axarr[0, 0], retired_clf, 'Retired')\n",
    "plot_partial_dependence(axarr[0, 1], student_clf, 'Student, HS or College')\n",
    "plot_partial_dependence(axarr[1, 0], prof_man_clf, 'Professional/Managerial')\n",
    "plot_partial_dependence(axarr[1, 1], homemaker_clf, 'Homemaker')"
   ]
  },
  {
   "cell_type": "markdown",
   "metadata": {},
   "source": [
    "# Market Basket Analysis"
   ]
  },
  {
   "cell_type": "code",
   "execution_count": 22,
   "metadata": {
    "collapsed": true
   },
   "outputs": [],
   "source": [
    "import pandas as pd\n",
    "from matplotlib import transforms, pyplot as plt\n",
    "import numpy as np\n",
    "\n",
    "%matplotlib inline\n",
    "\n",
    "# define plots common properties and color constants\n",
    "plt.rcParams['font.family'] = 'Arial'\n",
    "plt.rcParams['axes.linewidth'] = 0.5\n",
    "GRAY1, GRAY4, GRAY7 = '#231F20', '#646369', '#929497'"
   ]
  },
  {
   "cell_type": "markdown",
   "metadata": {},
   "source": [
    "## Reload and Prepare Data"
   ]
  },
  {
   "cell_type": "code",
   "execution_count": 23,
   "metadata": {},
   "outputs": [
    {
     "name": "stdout",
     "output_type": "stream",
     "text": [
      "income     5        $30,000 to $39,999\n",
      "age        2                25 thru 34\n",
      "edu        3   1 to 3 years of college\n",
      "yrs-BA     4       More than ten years\n",
      "num-hsld   2                     Three\n",
      "children   0                      None\n"
     ]
    }
   ],
   "source": [
    "df = pd.read_csv(\"../data/Demographis.txt\", sep=';')\n",
    "# PAGE 492. After removing observations with missing values, each ordinal\n",
    "#           predictor was cut at its median and coded by two dummy variables;\n",
    "#           each categorical predictor with k categories was coded by k dummy\n",
    "#           variables.\n",
    "df.dropna(inplace=True)\n",
    "\n",
    "# treat ordinal features\n",
    "ordinal = ['income', 'age', 'edu', 'yrs-BA', 'num-hsld', 'children']\n",
    "income_order = [\n",
    "    'Less than $10,000', '$10,000 to $14,999', '$15,000 to $19,999',\n",
    "    '$20,000 to $24,999', '$25,000 to $29,999', '$30,000 to $39,999',\n",
    "    '$40,000 to $49,999', '$50,000 to $74,999', '$75,000 or more']\n",
    "age_order = sorted(list(set(df.age)))\n",
    "edu_order = [\n",
    "    'Grade 8 or less', 'Grades 9 to 11', 'Graduated high school',\n",
    "    '1 to 3 years of college', 'College graduate', 'Grad Study']\n",
    "yrs_BA_order = [\n",
    "    'Less than one year', 'One to three years', 'Four to six years',\n",
    "    'Seven to ten years', 'More than ten years']\n",
    "num_hsld_order = [\n",
    "    'One', 'Two', 'Three', 'Four', 'Five',\n",
    "    'Six', 'Seven', 'Eight', 'Nine or more']\n",
    "children_order = [\n",
    "    'None', 'One', 'Two', 'Three', 'Four', 'Five',\n",
    "    'Six', 'Seven', 'Eight', 'Nine or more']\n",
    "orders = [income_order, age_order, edu_order,\n",
    "          yrs_BA_order, num_hsld_order, children_order]\n",
    "orders_dict = [{i: e for i, e in enumerate(o)} for o in orders]\n",
    "\n",
    "# find medians for all ordinal features\n",
    "for name, order, mapper in zip(ordinal, orders, orders_dict):\n",
    "    vals = df.groupby(name)[name].count().apply(mapper).values\n",
    "    median_index = np.argwhere(np.cumsum(vals) > np.sum(vals)//2)[0, 0]\n",
    "    print(f'{name:<10} {median_index} {order[median_index]:>25}')"
   ]
  },
  {
   "cell_type": "code",
   "execution_count": 24,
   "metadata": {
    "collapsed": true
   },
   "outputs": [],
   "source": [
    "# PAGE 495. As stated above, we created dummy variables for each category of\n",
    "#           the input predictors, for example, Z1 = I(income < $40, 000) and\n",
    "#           Z2 = I(income ≥ $40, 000) for below and above the median income. If\n",
    "#           we were interested only in finding associations with the\n",
    "#           high-income category, we would include Z2 but not Z1. This is often\n",
    "#           the case in actual market basket problems, where we are interested\n",
    "#           in finding associations with the presence of a relatively rare\n",
    "#           item, but not associations with its absence.\n",
    "splits = [\n",
    "    (5, '<$40,000', '>=$40,000'),\n",
    "    (2, 'yonger 35', '35 and older'),\n",
    "    (3, 'NOT {college graduate, graduate study}',\n",
    "        '{college graduate, graduate study}'),\n",
    "    (3, '<= 10 years in BA', 'more 10 years in BA'),\n",
    "    (2, '<= 3 persons in household', '> 3 persons in household'),\n",
    "    (0, 'no chidren', 'has kids')]\n",
    "for name, order, split in zip(ordinal, orders, splits):\n",
    "    mapper = {e: split[1+(i > split[0])] for i, e in enumerate(order)}\n",
    "    df[name] = df[name].map(mapper)\n",
    "\n",
    "# convert to dummy features\n",
    "df_dummy = pd.get_dummies(df)"
   ]
  },
  {
   "cell_type": "code",
   "execution_count": 25,
   "metadata": {},
   "outputs": [
    {
     "name": "stdout",
     "output_type": "stream",
     "text": [
      "6876 x 50\n"
     ]
    }
   ],
   "source": [
    "# PAGE 492. This resulted in a 6876 × 50 matrix of 6876 observations\n",
    "#           on 50 dummy variables.\n",
    "print(f'{len(df_dummy)} x {len(df_dummy.columns)}')"
   ]
  },
  {
   "cell_type": "markdown",
   "metadata": {},
   "source": [
    "## Apriori"
   ]
  },
  {
   "cell_type": "code",
   "execution_count": 26,
   "metadata": {
    "collapsed": true
   },
   "outputs": [],
   "source": [
    "from mlxtend.frequent_patterns import apriori\n",
    "from mlxtend.frequent_patterns import association_rules"
   ]
  },
  {
   "cell_type": "code",
   "execution_count": 27,
   "metadata": {},
   "outputs": [],
   "source": [
    "# PAGE 492. The algorithm found a total of 6288 association rules,\n",
    "#           involving ≤ 5 predictors, with support of at least 10%.\n",
    "frequent_itemsets = apriori(df_dummy, min_support=0.12, use_colnames=True)\n",
    "rules = association_rules(frequent_itemsets)\n",
    "# remove obvious rules\n",
    "rules = rules[rules.confidence < 1]"
   ]
  },
  {
   "cell_type": "code",
   "execution_count": 28,
   "metadata": {},
   "outputs": [],
   "source": [
    "# PAGE 492. We will not attempt this here, but only illustrate in Figure 14.2\n",
    "#           the relative frequency of each dummy variable in the data (top) and\n",
    "#           the association rules (bottom). Prevalent categories tend to appear\n",
    "#           more often in the rules, for example, the first category in\n",
    "#           language (English). However, others such as occupation are\n",
    "#           under-represented, with the exception of the first and fifth level.\n",
    "dummy_variables = df_dummy.columns\n",
    "dummy_variables_types = [d[:d.index('_')] for d in dummy_variables]\n",
    "rel_frequency = np.sum(df_dummy.values, axis=0) / np.sum(df_dummy.values)"
   ]
  },
  {
   "cell_type": "code",
   "execution_count": 29,
   "metadata": {},
   "outputs": [],
   "source": [
    "rule_frequency = np.zeros(shape=(len(dummy_variables)))\n",
    "dummy_in_rules = rules[['antecedents', 'consequents']].values\n",
    "for i in range(len(dummy_variables)):\n",
    "    var = dummy_variables[i]\n",
    "    for j in range(dummy_in_rules.shape[0]):\n",
    "        rule_frequency[i] += (var in dummy_in_rules[j, 0]) + \\\n",
    "                             (var in dummy_in_rules[j, 1])\n",
    "rule_frequency /= sum(rule_frequency)"
   ]
  },
  {
   "cell_type": "code",
   "execution_count": 30,
   "metadata": {
    "collapsed": true
   },
   "outputs": [],
   "source": [
    "def plot_freq(ax, freq, xlim, xlabel):\n",
    "    ax.barh(range(len(dummy_variables)), freq)\n",
    "    ax.set_ylim(49.5, -0.5)\n",
    "    ax.set_xlim(0, xlim)\n",
    "\n",
    "    plt.setp(ax, yticks=np.linspace(0, len(dummy_variables), 6))\n",
    "\n",
    "    prev_line = -0.5\n",
    "    for i in range(1, len(dummy_variables)):\n",
    "        if dummy_variables_types[i-1] != dummy_variables_types[i]:\n",
    "            ax.axhline(i-0.5, color=GRAY4, linewidth=0.5)\n",
    "            curr_line = i-0.5\n",
    "            ax.text(xlim*1.07, (prev_line + curr_line)/2,\n",
    "                    dummy_variables_types[i-1], color=GRAY4, size=8)\n",
    "            prev_line = curr_line\n",
    "    ax.text(xlim*1.07, (prev_line + 49.5)/2,\n",
    "            dummy_variables_types[-1], color=GRAY4, size=8)\n",
    "\n",
    "    ax.tick_params(top='on', bottom='off', labelbottom='off', labeltop='on')\n",
    "\n",
    "    for item in ax.get_xticklabels() + ax.get_yticklabels():\n",
    "        item.set_color(GRAY7)\n",
    "\n",
    "    # remove chart border\n",
    "    ax.tick_params(color=GRAY7)\n",
    "    ax.spines['top'].set_color(GRAY7)\n",
    "    ax.spines['left'].set_color(GRAY7)\n",
    "    ax.spines['right'].set_visible(False)\n",
    "    ax.spines['bottom'].set_visible(False)\n",
    "\n",
    "    offset = transforms.ScaledTranslation(0, 0.03, fig.dpi_scale_trans)\n",
    "    for item in [ax.spines['top']] + ax.get_xticklabels() + \\\n",
    "                ax.xaxis.get_ticklines():\n",
    "        item.set_transform(item.get_transform() + offset)\n",
    "    offset = transforms.ScaledTranslation(-0.03, 0, fig.dpi_scale_trans)\n",
    "    for item in [ax.spines['left']] + ax.get_yticklabels() + \\\n",
    "                ax.yaxis.get_ticklines():\n",
    "        item.set_transform(item.get_transform() + offset)\n",
    "    ax.xaxis.set_label_position('top')\n",
    "    ax.set_xlabel(xlabel, color=GRAY4, fontsize=8)\n",
    "    ax.set_ylabel('Attribute', color=GRAY4, fontsize=8)"
   ]
  },
  {
   "cell_type": "code",
   "execution_count": 31,
   "metadata": {},
   "outputs": [
    {
     "data": {
      "image/png": "[encoded data removed]",
      "text/plain": [
       "<matplotlib.figure.Figure at 0x1f6ce8ed588>"
      ]
     },
     "metadata": {},
     "output_type": "display_data"
    }
   ],
   "source": [
    "# PAGE 493. FIGURE 14.2. Market basket analysis: relative frequency of each\n",
    "#           dummy variable (coding an input category) in the data (top), and\n",
    "#           the association rules found by the Apriori algorithm (bottom).\n",
    "fig, axarr = plt.subplots(1, 2, figsize=(8, 6), dpi=150)\n",
    "fig.subplots_adjust(wspace=0.5)\n",
    "plot_freq(\n",
    "    axarr[0], rule_frequency, 0.15, 'Relative Frequency in Association Rules')\n",
    "plot_freq(axarr[1], rel_frequency, 0.06, 'Relative Frequency in Data')"
   ]
  },
  {
   "cell_type": "code",
   "execution_count": 32,
   "metadata": {},
   "outputs": [
    {
     "name": "stdout",
     "output_type": "stream",
     "text": [
      "\n",
      "Rule 1\n",
      "\n",
      "antecedents           (num-hsld_<= 3 persons in household, lang_Engl...\n",
      "consequents                                       (children_no chidren)\n",
      "antecedent support                                             0.649506\n",
      "consequent support                                             0.621873\n",
      "support                                                        0.521379\n",
      "confidence                                                     0.802732\n",
      "lift                                                            1.29083\n",
      "leverage                                                       0.117469\n",
      "conviction                                                      1.91682\n",
      "Name: 555, dtype: object\n",
      "\n",
      "Rule 3\n",
      "\n",
      "antecedents           (mar-dlinc_Not Married, income_<$40,000, age_y...\n",
      "consequents                            (mar-stat_Single, never married)\n",
      "antecedent support                                             0.320099\n",
      "consequent support                                             0.409104\n",
      "support                                                        0.265998\n",
      "confidence                                                     0.830986\n",
      "lift                                                            2.03123\n",
      "leverage                                                       0.135044\n",
      "conviction                                                      3.49613\n",
      "Name: 2755, dtype: object\n"
     ]
    }
   ],
   "source": [
    "# PAGE 495. We chose the first and third rules based on their high support.\n",
    "len2_filter = rules.antecedents.str.len() == 2\n",
    "print('\\nRule 1\\n')\n",
    "print(rules[len2_filter].sort_values('support', ascending=[0]).iloc[0])\n",
    "print('\\nRule 3\\n')\n",
    "len4_filter = rules.antecedents.str.len() == 4\n",
    "print(rules[len4_filter].sort_values('support', ascending=[0]).iloc[0])"
   ]
  },
  {
   "cell_type": "code",
   "execution_count": 33,
   "metadata": {},
   "outputs": [
    {
     "name": "stdout",
     "output_type": "stream",
     "text": [
      "\n",
      "Rule 2\n",
      "\n",
      "antecedents           (occup_Professional/Managerial, hsld-stat_Own,...\n",
      "consequents                                          (income_>=$40,000)\n",
      "antecedent support                                             0.165503\n",
      "consequent support                                             0.377545\n",
      "support                                                        0.133653\n",
      "confidence                                                     0.807557\n",
      "lift                                                            2.13897\n",
      "leverage                                                      0.0711684\n",
      "conviction                                                      3.23449\n",
      "Name: 1109, dtype: object\n"
     ]
    }
   ],
   "source": [
    "# PAGE 495. The second rule is an association rule with a high-income\n",
    "#           consequent, and could be used to try to target high-income\n",
    "#           individuals.\n",
    "high_income = ['income_>=$40,000' in r for r in rules.consequents.values]\n",
    "print('\\nRule 2\\n')\n",
    "print(rules[high_income].iloc[5])"
   ]
  },
  {
   "cell_type": "code",
   "execution_count": null,
   "metadata": {
    "collapsed": true
   },
   "outputs": [],
   "source": []
  }
 ],
 "metadata": {
  "kernelspec": {
   "display_name": "Python [conda env:Python64]",
   "language": "python",
   "name": "conda-env-Python64-py"
  },
  "language_info": {
   "codemirror_mode": {
    "name": "ipython",
    "version": 3
   },
   "file_extension": ".py",
   "mimetype": "text/x-python",
   "name": "python",
   "nbconvert_exporter": "python",
   "pygments_lexer": "ipython3",
   "version": "3.6.3"
  }
 },
 "nbformat": 4,
 "nbformat_minor": 2
}
