{
 "cells": [
  {
   "cell_type": "markdown",
   "metadata": {},
   "source": [
    "# Bone Mineral Density\n",
    "Relative spinal bone mineral density measurements on 261 North American adolescents.  The response is relative change in spinal BMD (the difference in spnbmd taken on two consecutive visits, divided by the average), typically about one year apart. The age is the average age over the two visits.\n",
    "\n",
    "Variables:\n",
    "\n",
    "|        |                                                       |\n",
    "|--------|-------------------------------------------------------|\n",
    "|idnum   |identifies the child, and hence the repeat measurements|\n",
    "|age     |average age of child when measurements were taken      |\n",
    "|gender  |male or female                                         |\n",
    "|spnbmd  |Relative Spinal bone mineral density measurement       |"
   ]
  },
  {
   "cell_type": "code",
   "execution_count": 1,
   "metadata": {},
   "outputs": [],
   "source": [
    "import pandas as pd\n",
    "from matplotlib import pyplot as plt\n",
    "import numpy as np\n",
    "\n",
    "%matplotlib inline\n",
    "\n",
    "# set common plots properties\n",
    "plt.rcParams['font.family'] = 'Arial'\n",
    "plt.rcParams['axes.linewidth'] = 0.5\n",
    "# define commonly used colors\n",
    "RED, BLUE, GRAY4 = '#FF5865', '#0000FF', '#646369'"
   ]
  },
  {
   "cell_type": "markdown",
   "metadata": {},
   "source": [
    "## Load and Prepare Data"
   ]
  },
  {
   "cell_type": "code",
   "execution_count": 2,
   "metadata": {},
   "outputs": [
    {
     "data": {
      "text/html": [
       "<div>\n",
       "<style scoped>\n",
       "    .dataframe tbody tr th:only-of-type {\n",
       "        vertical-align: middle;\n",
       "    }\n",
       "\n",
       "    .dataframe tbody tr th {\n",
       "        vertical-align: top;\n",
       "    }\n",
       "\n",
       "    .dataframe thead th {\n",
       "        text-align: right;\n",
       "    }\n",
       "</style>\n",
       "<table border=\"1\" class=\"dataframe\">\n",
       "  <thead>\n",
       "    <tr style=\"text-align: right;\">\n",
       "      <th></th>\n",
       "      <th>idnum</th>\n",
       "      <th>age</th>\n",
       "      <th>gender</th>\n",
       "      <th>spnbmd</th>\n",
       "    </tr>\n",
       "  </thead>\n",
       "  <tbody>\n",
       "    <tr>\n",
       "      <th>0</th>\n",
       "      <td>1</td>\n",
       "      <td>11.70</td>\n",
       "      <td>male</td>\n",
       "      <td>0.018081</td>\n",
       "    </tr>\n",
       "    <tr>\n",
       "      <th>1</th>\n",
       "      <td>1</td>\n",
       "      <td>12.70</td>\n",
       "      <td>male</td>\n",
       "      <td>0.060109</td>\n",
       "    </tr>\n",
       "    <tr>\n",
       "      <th>2</th>\n",
       "      <td>1</td>\n",
       "      <td>13.75</td>\n",
       "      <td>male</td>\n",
       "      <td>0.005858</td>\n",
       "    </tr>\n",
       "    <tr>\n",
       "      <th>3</th>\n",
       "      <td>2</td>\n",
       "      <td>13.25</td>\n",
       "      <td>male</td>\n",
       "      <td>0.010264</td>\n",
       "    </tr>\n",
       "    <tr>\n",
       "      <th>4</th>\n",
       "      <td>2</td>\n",
       "      <td>14.30</td>\n",
       "      <td>male</td>\n",
       "      <td>0.210526</td>\n",
       "    </tr>\n",
       "  </tbody>\n",
       "</table>\n",
       "</div>"
      ],
      "text/plain": [
       "   idnum    age gender    spnbmd\n",
       "0      1  11.70   male  0.018081\n",
       "1      1  12.70   male  0.060109\n",
       "2      1  13.75   male  0.005858\n",
       "3      2  13.25   male  0.010264\n",
       "4      2  14.30   male  0.210526"
      ]
     },
     "execution_count": 2,
     "metadata": {},
     "output_type": "execute_result"
    }
   ],
   "source": [
    "df = pd.read_csv(\"../data/Bone Mineral Density.txt\", sep='\\t')\n",
    "df_male = df[df.gender == 'male']\n",
    "df_female = df[df.gender == 'female']\n",
    "df.head()"
   ]
  },
  {
   "cell_type": "markdown",
   "metadata": {},
   "source": [
    "## Smoothing Splines\n",
    "Unfortunately, I did not find any Python library for smoothing splines of a similar implementation from the book. Let's implement it ourselves. First, let's recall the formulas from the book.\n",
    "\n",
    "**PAGE 145.** A natural cubic spline with $K$ knots is represented by $K$ basis functions. One can start from a basis for cubic splines, and derive the reduced basis by imposing the boundary constraints. For example, starting from the truncated power series basis described in Section 5.2, we arrive at (Excercise 5.4):\n",
    "$$N_1(X)=1, N_2(X)=X, N_{k+2}(X)=d_{k}(X)-d_{K-1}(X)$$\n",
    "where $$d_{k}(X)=\\frac{(X-\\xi_{k})_{+}^{3}-(X-\\xi_{K})_{+}^{3}}{\\xi_{K}-\\xi_{k}}$$\n",
    "\n",
    "**PAGE 151.** Here we discuss a spline basis method that avoids the knot selection problem completely by using a maximal set of knots. The complexity of the fit is controlled by regularization. Consider the following problem: among all functions $f(x)$ with two continuous derivatives, find one that minimizes the penalized residual sum of squares\n",
    "$$\\operatorname{RSS}(f, \\lambda)=\\sum_{i=1}^{N}\\left\\{y_{i}-f\\left(x_{i}\\right)\\right\\}^{2}+\\lambda \\int\\left\\{f^{\\prime \\prime}(t)\\right\\}^{2} d t$$\n",
    "where $\\lambda$ is a fixed *smoothing parameter*. The first term measures closeness to the data, while the second term penalizes curvature in the function, and $\\lambda$ establishes a tradeoff between the two.\n",
    "\n",
    "**PAGE 151.** Since the solution is a natural spline, we can write it as\n",
    "$$f(x)=\\sum_{j=1}^{N} N_{j}(x) \\theta_{j}$$\n",
    "where the $N_j(x)$ are a N-dimensional set of basis functions for representing this family of natural splines (Section 5.2.1 and Exercise 5.4). The criterion thus reduces to\n",
    "$$\\operatorname{RSS}(\\theta, \\lambda)=(\\mathbf{y}-\\mathbf{N} \\theta)^{T}(\\mathbf{y}-\\mathbf{N} \\theta)+\\lambda \\theta^{T} \\mathbf{\\Omega}_{N} \\theta$$\n",
    "where $\\{\\mathbf{N}\\}_{i j}=N_{j}\\left(x_{i}\\right)$ and $\\left\\{\\mathbf{\\Omega}_{N}\\right\\}_{j k}=\\int N_{j}^{\\prime \\prime}(t) N_{k}^{\\prime \\prime}(t) dt$. The solution is easily seen to be\n",
    "$$\\hat{\\theta}=\\left(\\mathbf{N}^{T} \\mathbf{N}+\\lambda \\mathbf{\\Omega}_{N}\\right)^{-1} \\mathbf{N}^{T} \\mathbf{y}$$\n",
    "a generalized ridge regression. The fitten smoothing spline is given by\n",
    "$$\\hat{f}(x)=\\sum_{j=1}^{N} N_{j}(x) \\hat{\\theta}_{j}$$\n",
    "\n",
    "**PAGE 153.** A smoothing spline with prechosen $\\lambda$ is an example of *lineary smoother* (as in linear operator). This is because the estimated parameters in (5.12) are a linear combination of $y_i$. Denote $\\hat{\\mathbf{f}}$ the *N*-vector of fitted values $\\hat{f}(x_i)$ at the training predictors $x_i$. Then\n",
    "$$\\begin{aligned} \\hat{\\mathbf{f}} &=\\mathbf{N}\\left(\\mathbf{N}^{T} \\mathbf{N}+\\lambda \\mathbf{\\Omega}_{N}\\right)^{-1} \\mathbf{N}^{T} \\mathbf{y} \\\\ &=\\mathbf{S}_{\\lambda} \\mathbf{y} \\end{aligned}$$\n",
    "Again the fit is linear in $\\mathbf{y}$, and the finite linear operator $\\mathbf{S}_{\\lambda}$ is known as the *smoother matrix*. One consequence of this linearity is that the recipe for producing $\\hat{\\mathbf{f}}$ from $\\mathbf{y}$ does not depend on $\\mathbf{y}$ itself; $\\mathbf{S}_{\\lambda}$ depends only on the $x_i$ and $\\lambda$.\n",
    "\n",
    "**PAGE 153.** By analogy we define the *effective degrees of freedom* of a smoothing spline to be\n",
    "$$\\mathrm{df}_{\\lambda}=\\operatorname{trace}\\left(\\mathbf{S}_{\\lambda}\\right)$$\n",
    "the sum of the diagonal elements of $\\mathbf{S}_{\\lambda}$."
   ]
  },
  {
   "cell_type": "markdown",
   "metadata": {},
   "source": [
    "## Algorithm\n",
    "Finally, from the formulas above we need to perform the following steps:\n",
    "1.  Build a matrix $\\mathbf{N}$ of natural cubic splines.\n",
    "2.  Build a matrix $\\mathbf{\\Omega}_N$ of integrals.\n",
    "3.  Calculate a vector of parameters $\\hat{\\theta}$, and a smoothing matrix $\\mathbf{S}_{\\lambda}$.\n",
    "\n",
    "The trickie part here is $\\mathbf{\\Omega}_N$ construction, where $\\left\\{\\mathbf{\\Omega}_{N}\\right\\}_{ij}=\\int_{\\xi_1}^{\\xi_K} N_{i}^{\\prime \\prime}(t) N_{j}^{\\prime \\prime}(t)dt$, the definite integral from the first knot to the last knot.\n",
    "\n",
    "The first two basis functions $N_1(X)=1, N_2(X)=X$ has 0 second derivative, so the first two columns and the first two rows of $\\mathbf{\\Omega}_N$ are zeros. Also $\\mathbf{\\Omega}_N$ is symmetric, so we will calculate its elements when $i \\le j$.\n",
    "\n",
    "For the sake of simplicity, let's reoder basis functions so that $N_i(X)=d_i(X)-d_{K-1}(X)$, where $d_i(X)=\\frac{(X-\\xi_{i})_{+}^{3}-(X-\\xi_{K})_{+}^{3}}{\\xi_{K}-\\xi_{i}}$. Due to the fact that we integrate to $\\xi_{K}$, the part $(X-\\xi_{K})_{+}^{3}$ is always zero. Thus we rewrite $d_i(X)=\\frac{(X-\\xi_{i})_{+}^{3}}{\\xi_{K}-\\xi_{i}}$.\n",
    "\n",
    "Note that the basis function $N_i$ is zero till the corresponding knot $\\xi_i$. Also $d_{K-1}(X)$ part is zero till the knot $\\xi_{K-1}$. Now, it's time to rewrite integral:\n",
    "$$\\begin{aligned}\\left\\{\\mathbf{\\Omega}_{N}\\right\\}_{ij}&=\\int_{\\xi_1}^{\\xi_K} N_{i}^{\\prime \\prime}(x) N_{j}^{\\prime \\prime}(x)dt \\\\&= \n",
    "\\int_{\\xi_j}^{\\xi_{K-1}} \\left\\{{\\frac{(x-\\xi_{i})^{3}}{\\xi_{K}-\\xi_{i}}}\\right\\}^{\\prime \\prime} \\left\\{{\\frac{(x-\\xi_{j})^{3}}{\\xi_{K}-\\xi_{j}}}\\right\\}^{\\prime \\prime}dx \\\\ &+ \n",
    "\\int_{\\xi_{K-1}}^{\\xi_{K}} \\left\\{{\\frac{(x-\\xi_{i})^{3}}{\\xi_{K}-\\xi_{i}}} - {\\frac{(x-\\xi_{K-1})^{3}}{\\xi_{K}-\\xi_{K-1}}}\\right\\}^{\\prime \\prime} \\left\\{{\\frac{(x-\\xi_{j})^{3}}{\\xi_{K}-\\xi_{j}}} - {\\frac{(x-\\xi_{K-1})^{3}}{\\xi_{K}-\\xi_{K-1}}}\\right\\}^{\\prime \\prime}dx\n",
    "\\end{aligned}$$\n",
    "\n",
    "**Now, it's time to calculate the integral!!!**"
   ]
  },
  {
   "cell_type": "markdown",
   "metadata": {},
   "source": [
    "## Calculate the integral with Sympy\n",
    "Instead of calculating the integral ourselves, let's use SymPy for it."
   ]
  },
  {
   "cell_type": "code",
   "execution_count": 3,
   "metadata": {},
   "outputs": [],
   "source": [
    "from sympy import symbols, integrate, init_printing, simplify\n",
    "init_printing()"
   ]
  },
  {
   "cell_type": "code",
   "execution_count": 4,
   "metadata": {},
   "outputs": [
    {
     "data": {
      "image/png": "[encoded data removed]",
      "text/latex": [
       "$$\\frac{- 18 \\xi_i \\xi_j^{2} + 24 \\xi_i \\xi_j \\xi_{K-1} + 12 \\xi_i \\xi_j \\xi_{K} - 6 \\xi_i \\xi_{K-1}^{2} - 12 \\xi_i \\xi_{K-1} \\xi_{K} + 6 \\xi_j^{3} - 6 \\xi_j \\xi_{K-1}^{2} - 12 \\xi_j \\xi_{K-1} \\xi_{K} + 12 \\xi_{K-1}^{2} \\xi_{K}}{\\xi_i \\xi_j - \\xi_i \\xi_{K} - \\xi_j \\xi_{K} + \\xi_{K}^{2}}$$"
      ],
      "text/plain": [
       "               2                                                              \n",
       "- 18⋅\\xiᵢ⋅\\xi_j  + 24⋅\\xiᵢ⋅\\xi_j⋅\\xi_{K-1} + 12⋅\\xiᵢ⋅\\xi_j⋅\\xi_{K} - 6⋅\\xiᵢ⋅\\x\n",
       "──────────────────────────────────────────────────────────────────────────────\n",
       "                                                                              \n",
       "                                                                          \\xiᵢ\n",
       "\n",
       "       2                                      3                    2          \n",
       "i_{K-1}  - 12⋅\\xiᵢ⋅\\xi_{K-1}⋅\\xi_{K} + 6⋅\\xi_j  - 6⋅\\xi_j⋅\\xi_{K-1}  - 12⋅\\xi_\n",
       "──────────────────────────────────────────────────────────────────────────────\n",
       "                                               2                              \n",
       "⋅\\xi_j - \\xiᵢ⋅\\xi_{K} - \\xi_j⋅\\xi_{K} + \\xi_{K}                               \n",
       "\n",
       "                                  2        \n",
       "j⋅\\xi_{K-1}⋅\\xi_{K} + 12⋅\\xi_{K-1} ⋅\\xi_{K}\n",
       "───────────────────────────────────────────\n",
       "                                           \n",
       "                                           "
      ]
     },
     "execution_count": 4,
     "metadata": {},
     "output_type": "execute_result"
    }
   ],
   "source": [
    "# define all our variables\n",
    "x = symbols('x')\n",
    "ki, kj = symbols('\\\\xi_i'), symbols('\\\\xi_j')\n",
    "kl, kp = symbols('\\\\xi_{K}'), symbols('\\\\xi_{K-1}')\n",
    "\n",
    "# define integral constructed from all our variables\n",
    "dKp = (x - kp)**3/(kl - kp)\n",
    "dKi = (x - ki)**3 / (kl - ki)\n",
    "dKj = (x - kj)**3 / (kl - kj)\n",
    "integral_part_1 = integrate(dKi.diff(x, 2)*dKj.diff(x, 2),\n",
    "                            (x, kj, kp))\n",
    "integral_part_2 = integrate((dKi - dKp).diff(x, 2)*(dKj - dKp).diff(x, 2),\n",
    "                            (x, kp, kl))\n",
    "total_integral = integral_part_1 + integral_part_2\n",
    "\n",
    "# print the integral\n",
    "simplify(total_integral)"
   ]
  },
  {
   "cell_type": "markdown",
   "metadata": {},
   "source": [
    "## Smoothing Spline Implementation"
   ]
  },
  {
   "cell_type": "code",
   "execution_count": 5,
   "metadata": {},
   "outputs": [],
   "source": [
    "from sklearn.base import BaseEstimator, TransformerMixin\n",
    "from typing import List\n",
    "from numpy.linalg import inv\n",
    "from scipy import optimize"
   ]
  },
  {
   "cell_type": "code",
   "execution_count": 6,
   "metadata": {},
   "outputs": [],
   "source": [
    "class SmoothingSpline1D(BaseEstimator, TransformerMixin):\n",
    "    \"\"\"One dimensional smoothing spline.\n",
    "    Parameters\n",
    "    ----------\n",
    "    dof :\n",
    "        The target effective degrees of of freedom of a smoothing spline.\n",
    "    Attributes\n",
    "    ----------\n",
    "    knots_:\n",
    "        Unique values of X training data.\n",
    "    smooth_:\n",
    "        The smoothing parameter that results in the target degrees of freedom.\n",
    "    coef_:\n",
    "        The vector of fitted coefficients for linear regression.\"\"\"\n",
    "    def __init__(self, dof: float):\n",
    "        self.dof = dof\n",
    "\n",
    "    def fit(self, X: np.ndarray, y: np.array) -> 'SmoothingSpline1D':\n",
    "        \"\"\"Fit SmoothingSpline1D model according to the given training data\n",
    "           and parameters.\n",
    "        Parameters\n",
    "        ----------\n",
    "        X :\n",
    "            Training data.\n",
    "        y :\n",
    "            Target values.\n",
    "        \"\"\"\n",
    "        y = np.atleast_2d(y).T\n",
    "        self.knots_ = np.unique(X)\n",
    "        N = self.__expand_natural_cubic(X, self.knots_)\n",
    "        O = self.__calc_integral_matrix(self.knots_)\n",
    "        self.smooth_ = optimize.newton(\n",
    "            lambda s: self.__calc_dof(N, O, s) - self.dof,\n",
    "            0.5, maxiter=400)\n",
    "        self.coef_ = inv(N.T @ N + self.smooth_ * O) @ N.T @ y\n",
    "        self.Sl_ = self.__calc_Sl(N, O, self.smooth_)\n",
    "        return self\n",
    "\n",
    "    def transform(self, X: np.ndarray) -> np.ndarray:\n",
    "        \"\"\"Natural cubic spline basis expansion.\n",
    "        Parameters\n",
    "        ----------\n",
    "        X :\n",
    "            Input data.\n",
    "        Returns\n",
    "        -------\n",
    "        X_new :\n",
    "            Transformed data.\n",
    "        \"\"\"\n",
    "        return self.__expand_natural_cubic(X, self.knots_)\n",
    "\n",
    "    def predict(self, X: np.ndarray) -> np.array:\n",
    "        return self.transform(X) @ self.coef_\n",
    "\n",
    "    @staticmethod\n",
    "    def __calc_Sl(N, O, smoothing):\n",
    "        return N @ inv(N.T @ N + smoothing * O) @ N.T\n",
    "\n",
    "    @staticmethod\n",
    "    def __calc_dof(N, O, smoothing):\n",
    "        if smoothing < 0:\n",
    "            smoothing = 0\n",
    "        return np.trace(SmoothingSpline1D.__calc_Sl(N, O, smoothing))\n",
    "\n",
    "    @staticmethod\n",
    "    def __dk(X: np.ndarray, knot: float, knot_last: float) -> np.ndarray:\n",
    "        return (X - knot).clip(0) ** 3 / (knot_last - knot)\n",
    "\n",
    "    @staticmethod\n",
    "    def __expand_natural_cubic(X: np.ndarray, knots: np.array) -> np.ndarray:\n",
    "        basis_splines = [np.ones(shape=(X.size, 1)), X]\n",
    "        dk_last = SmoothingSpline1D.__dk(X, knots[-2], knots[-1])\n",
    "        for knot in knots[:-2]:\n",
    "            dk = SmoothingSpline1D.__dk(X, knot, knots[-1])\n",
    "            basis_splines.append(dk - dk_last)\n",
    "        return np.hstack(basis_splines)\n",
    "\n",
    "    @staticmethod\n",
    "    def __calc_integral_matrix(knots: np.array) -> np.ndarray:\n",
    "        O = np.zeros(shape=(knots.size, knots.size))\n",
    "        for i in range(2, knots.size):\n",
    "            for j in range(i, knots.size):\n",
    "                O[i, j] = O[j, i] = SmoothingSpline1D.__calc_integral(\n",
    "                    knots[i-2], knots[j-2], knots[-2], knots[-1])\n",
    "        return O\n",
    "\n",
    "    @staticmethod\n",
    "    def __calc_integral(i, j, p, l):\n",
    "        return (-18*i*j*j + 12*i*j*l + 24*i*j*p - 12*i*l*p - 6*i*p*p +\n",
    "                6*j*j*j - 12*j*l*p - 6*j*p*p + 12*l*p*p) / \\\n",
    "               (i*j - i*l - j*l + l*l)"
   ]
  },
  {
   "cell_type": "code",
   "execution_count": 7,
   "metadata": {},
   "outputs": [],
   "source": [
    "# split the data into male and female datasets\n",
    "X_male, y_male = df_male[['age']].values, df_male.spnbmd.values\n",
    "X_female, y_female = df_female[['age']].values, df_female.spnbmd.values\n",
    "# fit 1D smoothing spline to the data\n",
    "sp_male = SmoothingSpline1D(dof=12).fit(X_male, y_male)\n",
    "sp_female = SmoothingSpline1D(dof=12).fit(X_female, y_female)\n",
    "# calculate values for plotting\n",
    "x_plot_male = np.linspace(sp_male.knots_[0], sp_male.knots_[-1], 100)\n",
    "y_plot_male = sp_male.predict(np.atleast_2d(x_plot_male).T)\n",
    "x_plot_female = np.linspace(sp_female.knots_[0], sp_female.knots_[-1], 100)\n",
    "y_plot_female = sp_female.predict(np.atleast_2d(x_plot_female).T)"
   ]
  },
  {
   "cell_type": "code",
   "execution_count": 8,
   "metadata": {},
   "outputs": [
    {
     "data": {
      "image/png": "[encoded data removed]",
      "text/plain": [
       "<Figure size 772.5x591 with 1 Axes>"
      ]
     },
     "metadata": {},
     "output_type": "display_data"
    }
   ],
   "source": [
    "# PAGE 152. FIGURE 5.6. The response is the relative change in bone mineral\n",
    "#           density measured at the spine in adolescents, as a function of age.\n",
    "#           A separate smoothing spline was fit to the males and females, with\n",
    "#           λ ≈ 0.00022. This choice corresponds to about 12 degrees of\n",
    "#           freedom. The data are color coded by gender, and two separate\n",
    "#           curves were fit. This simple summary reinforces the evidence in the\n",
    "#           data that the growth spurt for females precedes that for males by\n",
    "#           about two years.\n",
    "fig, ax = plt.subplots(figsize=(5.15, 3.94), dpi=150)\n",
    "ax.plot(x_plot_male, y_plot_male, color=BLUE, linewidth=1, label='Male')\n",
    "ax.plot(x_plot_female, y_plot_female, color=RED, linewidth=1, label='Female')\n",
    "ax.scatter(X_male, y_male, color=BLUE, s=1)\n",
    "ax.scatter(X_female, y_female, color=RED, s=1)\n",
    "for i in ax.get_yticklabels() + ax.get_xticklabels():\n",
    "    i.set_fontsize(7)\n",
    "ax.axhline(y=0, c=GRAY4, linewidth=0.5, linestyle='--')\n",
    "ax.set_xlabel('Age', color=GRAY4, fontsize=8)\n",
    "ax.set_ylabel('Relative Change in Spinal BMD', color=GRAY4, fontsize=8)\n",
    "_ = ax.legend(loc='upper right', prop={'size': 8})"
   ]
  },
  {
   "cell_type": "code",
   "execution_count": null,
   "metadata": {},
   "outputs": [],
   "source": []
  }
 ],
 "metadata": {
  "kernelspec": {
   "display_name": "Python 3.6 (with Tensorflow GPU)",
   "language": "python",
   "name": "tensorflow"
  },
  "language_info": {
   "codemirror_mode": {
    "name": "ipython",
    "version": 3
   },
   "file_extension": ".py",
   "mimetype": "text/x-python",
   "name": "python",
   "nbconvert_exporter": "python",
   "pygments_lexer": "ipython3",
   "version": "3.6.4"
  }
 },
 "nbformat": 4,
 "nbformat_minor": 2
}
