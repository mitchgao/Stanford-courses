{
 "cells": [
  {
   "cell_type": "markdown",
   "metadata": {},
   "source": [
    "# Waveform\n",
    "**PAGE 461.** We now illustrate some of these ideas on a popular simulated example, taken from Breiman et al. (1984, pages 49–55), and used in Hastie and Tibshirani (1996b) and elsewhere. It is a three-class problem with 21 variables, and is considered to be a difficult pattern recognition problem. The\n",
    "predictors are defined by\n",
    "\n",
    "\\begin{array}{rlrl}{X_{j}} & {=U h_{1}(j)+(1-U) h_{2}(j)+\\epsilon_{j}} & {\\text { Class } 1} \\\\ {X_{j}} & {=U h_{1}(j)+(1-U) h_{3}(j)+\\epsilon_{j}} & {\\text { Class } 2} \\\\ {X_{j}} & {=U h_{2}(j)+(1-U) h_{3}(j)+\\epsilon_{j}} & {\\text { Class } 3}\\end{array}\n",
    "\n",
    "where j = 1, 2,... , 21, U is uniform on (0, 1), $\\epsilon_{j}$ are standard normal variates, and the $h_ℓ$ are the shifted triangular waveforms: $h_{1}(j)=\\max (6-|j-11|, 0), h_{2}(j)=h_{1}(j-4) \\text { and } h_{3}(j)=h_{1}(j+4)$. Figure 12.14 shows some example waveforms from each class.\n",
    "\n",
    "**DATA INFO.** The dataset provides an instance of 300 training observations and 500 test observations."
   ]
  },
  {
   "cell_type": "code",
   "execution_count": 1,
   "metadata": {
    "collapsed": true
   },
   "outputs": [],
   "source": [
    "import pandas as pd\n",
    "from matplotlib import pyplot as plt\n",
    "import numpy as np\n",
    "from sklearn.metrics import accuracy_score\n",
    "\n",
    "np.warnings.filterwarnings('ignore')\n",
    "%matplotlib inline\n",
    "\n",
    "# define plots common properties and color constants\n",
    "plt.rcParams['font.family'] = 'Arial'\n",
    "plt.rcParams['axes.linewidth'] = 0.5\n",
    "GRAY1, GRAY4, GRAY7 = '#231F20', '#646369', '#929497'\n",
    "\n",
    "\n",
    "# we will calculate train and test error rates for all models\n",
    "def error_rate(y_true, y_pred):\n",
    "    return 1 - accuracy_score(y_true, y_pred)"
   ]
  },
  {
   "cell_type": "markdown",
   "metadata": {},
   "source": [
    "## Load and Prepare Data"
   ]
  },
  {
   "cell_type": "code",
   "execution_count": 2,
   "metadata": {},
   "outputs": [
    {
     "data": {
      "text/html": [
       "<div>\n",
       "<style scoped>\n",
       "    .dataframe tbody tr th:only-of-type {\n",
       "        vertical-align: middle;\n",
       "    }\n",
       "\n",
       "    .dataframe tbody tr th {\n",
       "        vertical-align: top;\n",
       "    }\n",
       "\n",
       "    .dataframe thead th {\n",
       "        text-align: right;\n",
       "    }\n",
       "</style>\n",
       "<table border=\"1\" class=\"dataframe\">\n",
       "  <thead>\n",
       "    <tr style=\"text-align: right;\">\n",
       "      <th></th>\n",
       "      <th>is_test</th>\n",
       "      <th>row.names</th>\n",
       "      <th>y</th>\n",
       "      <th>x.1</th>\n",
       "      <th>x.2</th>\n",
       "      <th>x.3</th>\n",
       "      <th>x.4</th>\n",
       "      <th>x.5</th>\n",
       "      <th>x.6</th>\n",
       "      <th>x.7</th>\n",
       "      <th>...</th>\n",
       "      <th>x.12</th>\n",
       "      <th>x.13</th>\n",
       "      <th>x.14</th>\n",
       "      <th>x.15</th>\n",
       "      <th>x.16</th>\n",
       "      <th>x.17</th>\n",
       "      <th>x.18</th>\n",
       "      <th>x.19</th>\n",
       "      <th>x.20</th>\n",
       "      <th>x.21</th>\n",
       "    </tr>\n",
       "  </thead>\n",
       "  <tbody>\n",
       "    <tr>\n",
       "      <th>0</th>\n",
       "      <td>0</td>\n",
       "      <td>1</td>\n",
       "      <td>2</td>\n",
       "      <td>-1.4854</td>\n",
       "      <td>0.3470</td>\n",
       "      <td>1.6592</td>\n",
       "      <td>1.2570</td>\n",
       "      <td>1.3945</td>\n",
       "      <td>4.3182</td>\n",
       "      <td>3.9421</td>\n",
       "      <td>...</td>\n",
       "      <td>4.2555</td>\n",
       "      <td>1.5460</td>\n",
       "      <td>1.0990</td>\n",
       "      <td>0.0588</td>\n",
       "      <td>2.0671</td>\n",
       "      <td>-0.9759</td>\n",
       "      <td>-1.0614</td>\n",
       "      <td>-0.8499</td>\n",
       "      <td>1.0453</td>\n",
       "      <td>-0.6089</td>\n",
       "    </tr>\n",
       "    <tr>\n",
       "      <th>1</th>\n",
       "      <td>0</td>\n",
       "      <td>2</td>\n",
       "      <td>1</td>\n",
       "      <td>-0.9938</td>\n",
       "      <td>1.2748</td>\n",
       "      <td>-1.1977</td>\n",
       "      <td>-0.3464</td>\n",
       "      <td>-0.3442</td>\n",
       "      <td>1.2738</td>\n",
       "      <td>0.1725</td>\n",
       "      <td>...</td>\n",
       "      <td>2.8144</td>\n",
       "      <td>4.8261</td>\n",
       "      <td>5.9428</td>\n",
       "      <td>4.4309</td>\n",
       "      <td>5.2562</td>\n",
       "      <td>3.6981</td>\n",
       "      <td>2.7722</td>\n",
       "      <td>3.4906</td>\n",
       "      <td>0.7623</td>\n",
       "      <td>-0.5920</td>\n",
       "    </tr>\n",
       "    <tr>\n",
       "      <th>2</th>\n",
       "      <td>0</td>\n",
       "      <td>3</td>\n",
       "      <td>1</td>\n",
       "      <td>-0.2120</td>\n",
       "      <td>-0.5239</td>\n",
       "      <td>-0.6108</td>\n",
       "      <td>2.5555</td>\n",
       "      <td>-0.1607</td>\n",
       "      <td>0.2911</td>\n",
       "      <td>0.7401</td>\n",
       "      <td>...</td>\n",
       "      <td>4.3555</td>\n",
       "      <td>3.5097</td>\n",
       "      <td>4.2721</td>\n",
       "      <td>6.7883</td>\n",
       "      <td>3.0623</td>\n",
       "      <td>3.3953</td>\n",
       "      <td>1.5929</td>\n",
       "      <td>3.0073</td>\n",
       "      <td>2.7663</td>\n",
       "      <td>-0.7788</td>\n",
       "    </tr>\n",
       "    <tr>\n",
       "      <th>3</th>\n",
       "      <td>0</td>\n",
       "      <td>4</td>\n",
       "      <td>1</td>\n",
       "      <td>-0.4256</td>\n",
       "      <td>-0.8360</td>\n",
       "      <td>0.4756</td>\n",
       "      <td>-0.7948</td>\n",
       "      <td>-1.8930</td>\n",
       "      <td>-0.0541</td>\n",
       "      <td>-1.8688</td>\n",
       "      <td>...</td>\n",
       "      <td>3.7252</td>\n",
       "      <td>2.3957</td>\n",
       "      <td>4.0405</td>\n",
       "      <td>5.1305</td>\n",
       "      <td>5.2005</td>\n",
       "      <td>2.9713</td>\n",
       "      <td>2.6089</td>\n",
       "      <td>1.0063</td>\n",
       "      <td>1.3321</td>\n",
       "      <td>-0.1967</td>\n",
       "    </tr>\n",
       "    <tr>\n",
       "      <th>4</th>\n",
       "      <td>0</td>\n",
       "      <td>5</td>\n",
       "      <td>2</td>\n",
       "      <td>1.0515</td>\n",
       "      <td>-0.5382</td>\n",
       "      <td>-1.3438</td>\n",
       "      <td>0.9739</td>\n",
       "      <td>0.3659</td>\n",
       "      <td>1.8218</td>\n",
       "      <td>4.8663</td>\n",
       "      <td>...</td>\n",
       "      <td>4.6134</td>\n",
       "      <td>2.5792</td>\n",
       "      <td>2.9855</td>\n",
       "      <td>2.8388</td>\n",
       "      <td>0.1155</td>\n",
       "      <td>-1.3772</td>\n",
       "      <td>-1.5039</td>\n",
       "      <td>2.0517</td>\n",
       "      <td>0.2095</td>\n",
       "      <td>-1.7289</td>\n",
       "    </tr>\n",
       "  </tbody>\n",
       "</table>\n",
       "<p>5 rows × 24 columns</p>\n",
       "</div>"
      ],
      "text/plain": [
       "   is_test  row.names  y     x.1     x.2     x.3     x.4     x.5     x.6  \\\n",
       "0        0          1  2 -1.4854  0.3470  1.6592  1.2570  1.3945  4.3182   \n",
       "1        0          2  1 -0.9938  1.2748 -1.1977 -0.3464 -0.3442  1.2738   \n",
       "2        0          3  1 -0.2120 -0.5239 -0.6108  2.5555 -0.1607  0.2911   \n",
       "3        0          4  1 -0.4256 -0.8360  0.4756 -0.7948 -1.8930 -0.0541   \n",
       "4        0          5  2  1.0515 -0.5382 -1.3438  0.9739  0.3659  1.8218   \n",
       "\n",
       "      x.7  ...    x.12    x.13    x.14    x.15    x.16    x.17    x.18  \\\n",
       "0  3.9421  ...  4.2555  1.5460  1.0990  0.0588  2.0671 -0.9759 -1.0614   \n",
       "1  0.1725  ...  2.8144  4.8261  5.9428  4.4309  5.2562  3.6981  2.7722   \n",
       "2  0.7401  ...  4.3555  3.5097  4.2721  6.7883  3.0623  3.3953  1.5929   \n",
       "3 -1.8688  ...  3.7252  2.3957  4.0405  5.1305  5.2005  2.9713  2.6089   \n",
       "4  4.8663  ...  4.6134  2.5792  2.9855  2.8388  0.1155 -1.3772 -1.5039   \n",
       "\n",
       "     x.19    x.20    x.21  \n",
       "0 -0.8499  1.0453 -0.6089  \n",
       "1  3.4906  0.7623 -0.5920  \n",
       "2  3.0073  2.7663 -0.7788  \n",
       "3  1.0063  1.3321 -0.1967  \n",
       "4  2.0517  0.2095 -1.7289  \n",
       "\n",
       "[5 rows x 24 columns]"
      ]
     },
     "execution_count": 2,
     "metadata": {},
     "output_type": "execute_result"
    }
   ],
   "source": [
    "data = pd.read_csv(\"../data/waveform.txt\", sep='\\t')\n",
    "data.head()"
   ]
  },
  {
   "cell_type": "code",
   "execution_count": 3,
   "metadata": {
    "collapsed": true
   },
   "outputs": [],
   "source": [
    "target = 'y'\n",
    "features = [f'x.{i}' for i in range(1, 22)]\n",
    "X = data[features].values\n",
    "y = data[target].values\n",
    "# rename y, so the first class has name 0 instead of 1\n",
    "y = y - 1\n",
    "# split data by is_test flag\n",
    "is_test = data.is_test.values\n",
    "X_train, X_test = X[is_test == 0], X[is_test == 1]\n",
    "y_train, y_test = y[is_test == 0], y[is_test == 1]"
   ]
  },
  {
   "cell_type": "markdown",
   "metadata": {},
   "source": [
    "## Plotting\n",
    "**PAGE 453.** FIGURE 12.14. Some examples of the waveforms generated from model (12.64) before the Gaussian noise is added."
   ]
  },
  {
   "cell_type": "code",
   "execution_count": 4,
   "metadata": {},
   "outputs": [
    {
     "data": {
      "image/png": "[encoded data removed]",
      "text/plain": [
       "<matplotlib.figure.Figure at 0x20e40ca87f0>"
      ]
     },
     "metadata": {},
     "output_type": "display_data"
    }
   ],
   "source": [
    "def h1(j): return max(6 - abs(j - 11), 0)\n",
    "def h2(j): return h1(j - 4)\n",
    "def h3(j): return h1(j + 4)\n",
    "\n",
    "\n",
    "def gen_sample(first_fnc, second_fnc, U):\n",
    "    return [U*first_fnc(j) + (1-U)*second_fnc(j) for j in range(1, 22)]\n",
    "\n",
    "\n",
    "def gen_rnd_sample(first_fnc, second_fnc):\n",
    "    return gen_sample(first_fnc, second_fnc, np.random.uniform())\n",
    "\n",
    "class_fncs = ((h1, h2), (h1, h3), (h2, h3))\n",
    "\n",
    "fig, axarr = plt.subplots(3, 1, figsize=(4.5, 4.57), dpi=150)\n",
    "plt.subplots_adjust(wspace=0.1)\n",
    "\n",
    "x_plt = list(range(1, 22))\n",
    "for cls in range(3):\n",
    "    fncs = class_fncs[cls]\n",
    "    ax = axarr[cls]\n",
    "    plt.axes(ax)\n",
    "    ax.tick_params(\n",
    "        bottom=False, labelbottom=False, left=False, labelleft=False)\n",
    "    plt.title(f'Class {cls+1}', fontsize=6, color=GRAY1)\n",
    "    for i in range(5):\n",
    "        sample = gen_rnd_sample(*fncs)\n",
    "        ax.plot(x_plt, sample, color='#57FF54', linewidth=0.5, linestyle='--')\n",
    "        ax.scatter(x_plt, sample, color='#57FF54', s=0.5)\n",
    "    ax.plot(x_plt, gen_sample(*fncs, 0), color='red', linewidth=0.85)\n",
    "    ax.plot(x_plt, gen_sample(*fncs, 1), color='red', linewidth=0.85)"
   ]
  },
  {
   "cell_type": "markdown",
   "metadata": {
    "collapsed": true
   },
   "source": [
    "## LDA & QDA"
   ]
  },
  {
   "cell_type": "code",
   "execution_count": 5,
   "metadata": {
    "collapsed": true
   },
   "outputs": [],
   "source": [
    "from sklearn.discriminant_analysis import LinearDiscriminantAnalysis\n",
    "from sklearn.discriminant_analysis import QuadraticDiscriminantAnalysis"
   ]
  },
  {
   "cell_type": "code",
   "execution_count": 6,
   "metadata": {},
   "outputs": [
    {
     "name": "stdout",
     "output_type": "stream",
     "text": [
      "LDA Error Rate: Training 0.15, Test 0.21\n",
      "QDA Error Rate: Training 0.05, Test 0.22\n"
     ]
    }
   ],
   "source": [
    "# fit linear and quadratic discriminant analysis models\n",
    "lda = LinearDiscriminantAnalysis().fit(X_train, y_train)\n",
    "qda = QuadraticDiscriminantAnalysis().fit(X_train, y_train)\n",
    "# calculate and print their error rates\n",
    "lda_train_er = error_rate(y_train, lda.predict(X_train))\n",
    "qda_train_er = error_rate(y_train, qda.predict(X_train))\n",
    "lda_test_er = error_rate(y_test, lda.predict(X_test))\n",
    "qda_test_er = error_rate(y_test, qda.predict(X_test))\n",
    "print(f'LDA Error Rate: Training {lda_train_er:.2f}, Test {lda_test_er:.2f}')\n",
    "print(f'QDA Error Rate: Training {qda_train_er:.2f}, Test {qda_test_er:.2f}')"
   ]
  },
  {
   "cell_type": "markdown",
   "metadata": {},
   "source": [
    "## Decision Tree"
   ]
  },
  {
   "cell_type": "code",
   "execution_count": 7,
   "metadata": {
    "collapsed": true
   },
   "outputs": [],
   "source": [
    "from sklearn.tree import DecisionTreeClassifier"
   ]
  },
  {
   "cell_type": "code",
   "execution_count": 8,
   "metadata": {},
   "outputs": [
    {
     "name": "stdout",
     "output_type": "stream",
     "text": [
      "CART: Training 0.07, Test 0.29\n"
     ]
    }
   ],
   "source": [
    "# try decision tree classifier for the data\n",
    "dtc = DecisionTreeClassifier(max_depth=5).fit(X_train, y_train)\n",
    "# calculate its error rates\n",
    "dtc_train_er = error_rate(y_train, dtc.predict(X_train))\n",
    "dtc_test_er = error_rate(y_test, dtc.predict(X_test))\n",
    "print(f'CART: Training {dtc_train_er:.2f}, Test {dtc_test_er:.2f}')"
   ]
  },
  {
   "cell_type": "markdown",
   "metadata": {
    "collapsed": true
   },
   "source": [
    "## FDA/MARS & MDA\n",
    "I have not found the flexible discriminant analysis implementation for Python and implemented it myself. The result is close to the result from the book, but slightly worse. Maybe I made some mistakes. More research and testing is needed. The approch is explained here https://www.researchgate.net/publication/2889611_Flexible_Discriminant_Analysis_by_Optimal_Scoring."
   ]
  },
  {
   "cell_type": "code",
   "execution_count": 9,
   "metadata": {
    "collapsed": true
   },
   "outputs": [],
   "source": [
    "from sklearn.base import BaseEstimator, TransformerMixin\n",
    "from sklearn.preprocessing import LabelEncoder, OneHotEncoder\n",
    "from sklearn.utils.multiclass import unique_labels\n",
    "from sklearn.linear_model import LinearRegression\n",
    "from scipy.stats import multivariate_normal\n",
    "from pyearth import Earth"
   ]
  },
  {
   "cell_type": "code",
   "execution_count": 10,
   "metadata": {},
   "outputs": [],
   "source": [
    "class FlexibleDiscriminantAnalysis(BaseEstimator, TransformerMixin):\n",
    "    \"\"\"Flexible Discriminant Analysis\n",
    "    A classifier with nonlinear decision boundary, based on adaptive\n",
    "    multivariate regression and optimal scoring approach.\n",
    "    Parameters\n",
    "    ----------\n",
    "    model :\n",
    "        Multivariate nonparameteric regression. Should have fit method,\n",
    "        transform method (for basis expansion).\n",
    "    n_components :\n",
    "        Number of components for dimensionality reduction.\n",
    "    \"\"\"\n",
    "    def __init__(self, model, n_components: int = None):\n",
    "        self.model = model\n",
    "        self.n_components = n_components\n",
    "\n",
    "    def fit(self,\n",
    "            X: np.ndarray,\n",
    "            y: np.array) -> 'FlexibleDiscriminantAnalysis':\n",
    "        \"\"\"Fit FlexibleDiscriminantAnalysis model according to the given\n",
    "           training data and parameters.\n",
    "        Parameters\n",
    "        ----------\n",
    "        X :\n",
    "            Training data.\n",
    "        y :\n",
    "            Target values.\n",
    "        \"\"\"\n",
    "        # relabel target values to start from zero\n",
    "        label_encoder = LabelEncoder()\n",
    "        y = label_encoder.fit_transform(y)\n",
    "        self.classes_ = label_encoder.classes_\n",
    "        _, counts_elements = np.unique(y, return_counts=True)\n",
    "        # PAGE 440. We create an N × K indicator response matrix Y\n",
    "        Y = OneHotEncoder(\n",
    "            categories='auto'\n",
    "        ).fit_transform(np.atleast_2d(y).T).toarray()\n",
    "\n",
    "        # PAGE 441. Multivariate nonparametric regression. Fit a multiresponse,\n",
    "        #           adaptive nonparametric regression of Y on X\n",
    "        self.model.fit(X, Y)\n",
    "        X_exp = self.model.transform(X)\n",
    "        lr = LinearRegression(fit_intercept=False).fit(X_exp, Y)\n",
    "        Y_hat = lr.predict(X_exp)\n",
    "\n",
    "        # PAGE 441. Optimal scores. Compute the eigen-decomposition of\n",
    "        #           Y.T @ Y_hat\n",
    "        evals, evecs = np.linalg.eig(Y.T @ Y_hat)\n",
    "        evals_ord = np.argsort(evals)[::-1]\n",
    "        evals = evals[evals_ord]\n",
    "        evecs = evecs[:, evals_ord]\n",
    "        priors = Y.T @ Y / len(y)\n",
    "        evecs = evecs / np.sqrt(np.diag(priors))\n",
    "\n",
    "        # PAGE 441. Update the model from step 1 using the optimal scores.\n",
    "        self.coef_ = evecs.T @ lr.coef_\n",
    "        R = self.transform(X)\n",
    "        self.lda_ = LinearDiscriminantAnalysis().fit(R, y)\n",
    "        return self\n",
    "\n",
    "    def transform(self, X: np.ndarray) -> np.ndarray:\n",
    "        \"\"\"Project data to maximize class separation.\n",
    "        Parameters\n",
    "        ----------\n",
    "        X :\n",
    "            Input data.\n",
    "        Returns\n",
    "        -------\n",
    "        X_new :\n",
    "            Transformed data.\n",
    "        \"\"\"\n",
    "        X_exp = self.model.transform(X)\n",
    "        R = X_exp @ self.coef_.T\n",
    "        if self.n_components is None:\n",
    "            return R\n",
    "        return R[:, :self.n_components]\n",
    "\n",
    "    def predict(self, X: np.ndarray) -> np.array:\n",
    "        X_new = self.transform(X)\n",
    "        return self.classes_[self.lda_.predict(X_new)]"
   ]
  },
  {
   "cell_type": "code",
   "execution_count": 11,
   "metadata": {},
   "outputs": [
    {
     "name": "stdout",
     "output_type": "stream",
     "text": [
      "FDA/MARS (degree = 1): Training 0.13, Test 0.20\n",
      "FDA/MARS (degree = 2): Training 0.06, Test 0.19\n"
     ]
    }
   ],
   "source": [
    "# fit flexible discriminant analysis model of degree 1\n",
    "fda_degree1 = FlexibleDiscriminantAnalysis(\n",
    "    Earth(max_terms=21, max_degree=1, enable_pruning=False)\n",
    ").fit(X_train, y_train)\n",
    "# fit flexible discriminant analysis model of degree 2\n",
    "fda_degree2 = FlexibleDiscriminantAnalysis(\n",
    "    Earth(max_terms=36, max_degree=2, enable_pruning=False)\n",
    ").fit(X_train, y_train)\n",
    "for fda_model in [fda_degree1, fda_degree2]:\n",
    "    train_er = error_rate(y_train, fda_model.predict(X_train))\n",
    "    test_er = error_rate(y_test, fda_model.predict(X_test))\n",
    "    print(f'FDA/MARS (degree = {fda_model.model.max_degree}): ' +\n",
    "          f'Training {train_er:.2f}, Test {test_er:.2f}')"
   ]
  },
  {
   "cell_type": "code",
   "execution_count": 12,
   "metadata": {
    "collapsed": true
   },
   "outputs": [],
   "source": [
    "class MixtureDiscriminantAnalysis(BaseEstimator, TransformerMixin):\n",
    "    \"\"\"Mixture Discriminant Analysis\n",
    "    A classifier with nonlinear decision boundary, where each class is\n",
    "    represented by a mixture of components.\n",
    "    Parameters\n",
    "    ----------\n",
    "    n_prototypes :\n",
    "        Number of prototypes for each class.\n",
    "    max_iter :\n",
    "        Maximum number of iterations of the EM algorithm for a single run.\n",
    "    random_state :\n",
    "        Determines random number generation for centroid initialization.\n",
    "    \"\"\"\n",
    "    def __init__(self, n_prototypes: int, max_iter: int=100,\n",
    "                 random_state: int=0):\n",
    "        self.n_prototypes = n_prototypes\n",
    "        self.random_state = random_state\n",
    "        self.max_iter = max_iter\n",
    "\n",
    "    def fit(self,\n",
    "            X: np.ndarray,\n",
    "            y: np.array) -> 'MixtureDiscriminantAnalysis':\n",
    "        \"\"\"Fit MixtureDiscriminantAnalysis model according to the given\n",
    "           training data and parameters.\n",
    "        Parameters\n",
    "        ----------\n",
    "        X :\n",
    "            Training data.\n",
    "        y :\n",
    "            Target values.\n",
    "        \"\"\"\n",
    "        # relabel target values to start from zero\n",
    "        label_encoder = LabelEncoder()\n",
    "        y = label_encoder.fit_transform(y)\n",
    "        self.classes_ = label_encoder.classes_\n",
    "        N, p, K = *X.shape, self.classes_.size\n",
    "        _, counts = np.unique(y, return_counts=True)\n",
    "        self.priors_ = counts / len(y)\n",
    "        # set initial random means for prototypes at random quantiles\n",
    "        np.random.seed(self.random_state)\n",
    "        means = np.stack(\n",
    "            [np.vstack([np.quantile(\n",
    "                X[y == k][:, i], np.random.uniform(0, 1, self.n_prototypes))\n",
    "                for i in range(p)]).T\n",
    "             for k in range(K)])\n",
    "        # assign each observation to the closest class prototype\n",
    "        # and calculate mixin proportions\n",
    "        obs_protos = np.zeros(shape=N, dtype=int)\n",
    "        for i in range(N):\n",
    "            obs_protos[i] = np.argmin(np.sum((means[y[i]] - X[i])**2, axis=1))\n",
    "        mixin_props = np.stack(\n",
    "            [np.bincount(obs_protos[y == k]) / np.sum(y == k)\n",
    "             for k in range(K)])\n",
    "        # calculate init covariance matrix based on hard prototype assignment\n",
    "        cov = np.zeros(shape=(p, p))\n",
    "        for k in range(K):\n",
    "            for r in range(self.n_prototypes):\n",
    "                Xkr = X[(y == k) & (obs_protos == r), :]\n",
    "                cov += mixin_props[k, r] * \\\n",
    "                       self.priors_[k] * np.cov(Xkr.T, bias=True)\n",
    "\n",
    "        # do Expectation-Maximization\n",
    "        for step in range(self.max_iter):\n",
    "            # calculate responsibility for each observation\n",
    "            resps = self.__e_step(N, X, cov, means, mixin_props, y)\n",
    "            # calculate means, cov-matrix and mixin proportions\n",
    "            cov, means, mixin_props = self.__m_step(N, X, p, resps, y)\n",
    "\n",
    "        self.means_ = means\n",
    "        self.mixin_props_ = mixin_props\n",
    "        self.cov_ = cov\n",
    "        return self\n",
    "\n",
    "    def __m_step(self, N, X, p, resps, y):\n",
    "        # PAGE 450. M-step: Compute the weighted MLEs for the parameters of\n",
    "        #           each of the component Gaussians within each of the\n",
    "        #           classes, using the weights from the E-step.\n",
    "        K = self.classes_.size\n",
    "        means = np.zeros(shape=(K, self.n_prototypes, p))\n",
    "        cov = np.zeros(shape=(p, p))\n",
    "        mixin_props = np.zeros(shape=(K, self.n_prototypes))\n",
    "        for k in range(K):\n",
    "            Xk, class_resp = X[y == k], resps[y == k]\n",
    "            for r in range(self.n_prototypes):\n",
    "                proto_resp = class_resp[:, r:r+1]\n",
    "                mixin_props[k, r] = np.sum(proto_resp) / Xk.shape[0]\n",
    "                means[k, r] = np.sum(Xk*proto_resp, axis=0)/np.sum(proto_resp)\n",
    "        for i in range(N):\n",
    "            for r in range(self.n_prototypes):\n",
    "                v = np.atleast_2d(X[i] - means[y[i], r]).T\n",
    "                cov += resps[i, r] * (v @ v.T)\n",
    "        cov /= N\n",
    "        return cov, means, mixin_props\n",
    "\n",
    "    def __e_step(self, N, X, cov, means, mixin_proportions, y):\n",
    "        # PAGE 450. E-step: Given the current parameters, compute the\n",
    "        #           responsibility of subclass ckr within class k for each\n",
    "        #           of the class-k observations (gi = k): (12.62)\n",
    "        resps = np.zeros((N, self.n_prototypes))\n",
    "        for i in range(N):\n",
    "            k = y[i]\n",
    "            for r in range(self.n_prototypes):\n",
    "                prob = multivariate_normal.pdf(X[i], means[k, r], cov)\n",
    "                resps[i, r] = mixin_proportions[k, r] * prob\n",
    "            resps[i] /= np.sum(resps[i])\n",
    "        return resps\n",
    "\n",
    "    def predict_proba(self, X: np.ndarray) -> np.ndarray:\n",
    "        # PAGE 449. Given such a model for each class, the class\n",
    "        #           posterior probabilities are given by (12.60)\n",
    "        K = self.classes_.size\n",
    "        proto_proba = np.zeros((X.shape[0], K, self.n_prototypes))\n",
    "        for k in range(K):\n",
    "            for r in range(self.n_prototypes):\n",
    "                prob = self.mixin_props_[k, r] * multivariate_normal.pdf(\n",
    "                    X, self.means_[k, r], self.cov_) * self.priors_[k]\n",
    "                proto_proba[:, k, r] = prob\n",
    "\n",
    "        proba = np.sum(proto_proba, axis=2)\n",
    "        denominators = np.sum(proba, axis=1)\n",
    "        proba /= denominators[:, None]\n",
    "        return proba\n",
    "\n",
    "    def predict(self, X: np.ndarray) -> np.array:\n",
    "        result = self.classes_[np.argmax(self.predict_proba(X), axis=1)]\n",
    "        return result"
   ]
  },
  {
   "cell_type": "code",
   "execution_count": 13,
   "metadata": {},
   "outputs": [
    {
     "name": "stdout",
     "output_type": "stream",
     "text": [
      "MDA (3 subclasses): Training 0.110, Test 0.172\n"
     ]
    }
   ],
   "source": [
    "mda = MixtureDiscriminantAnalysis(3, 50, 27).fit(X_train, y_train)\n",
    "mda_train_er = error_rate(y_train, mda.predict(X_train))\n",
    "mda_test_er = error_rate(y_test, mda.predict(X_test))\n",
    "print(f'MDA (3 subclasses): Training {mda_train_er:.3f}, Test {mda_test_er:.3f}')"
   ]
  },
  {
   "cell_type": "markdown",
   "metadata": {
    "collapsed": true
   },
   "source": [
    "## TODO\n",
    "MDA (3 subclasses, penalized 4 df)"
   ]
  },
  {
   "cell_type": "code",
   "execution_count": null,
   "metadata": {
    "collapsed": true
   },
   "outputs": [],
   "source": []
  }
 ],
 "metadata": {
  "kernelspec": {
   "display_name": "Python [conda env:Python64]",
   "language": "python",
   "name": "conda-env-Python64-py"
  },
  "language_info": {
   "codemirror_mode": {
    "name": "ipython",
    "version": 3
   },
   "file_extension": ".py",
   "mimetype": "text/x-python",
   "name": "python",
   "nbconvert_exporter": "python",
   "pygments_lexer": "ipython3",
   "version": "3.6.3"
  }
 },
 "nbformat": 4,
 "nbformat_minor": 2
}
