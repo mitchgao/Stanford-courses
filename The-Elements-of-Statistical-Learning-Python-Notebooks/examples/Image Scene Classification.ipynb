{
 "cells": [
  {
   "cell_type": "markdown",
   "metadata": {},
   "source": [
    "# Image Scene Classification\n",
    "The database consists of the multi-spectral values of pixels in 3x3 neighbourhoods in a satellite image, and the classification associated with the central pixel in each neighbourhood. The aim is to predict this classification, given the multi-spectral values. In the sample database, the class of a pixel is coded as a number.\n",
    "\n",
    "|Number|Class                               |\n",
    "|------|------------------------------------|\n",
    "|1     |red soil                            |\n",
    "|2     |cotton crop                         |\n",
    "|3     |grey soil                           | \n",
    "|4     |damp grey soil                      |\n",
    "|5     |soil with vegetation stubble        |\n",
    "|6     |mixture class (all types present)   |\n",
    "|7     |very damp grey soil                 |\n",
    "\n",
    "The data is given in random order and certain lines of data have been removed so you cannot reconstruct the original image from this dataset.\n",
    "\n",
    "In each line of data the four spectral values for the top-left pixel are given first followed by the four spectral values for the top-middle pixel and then those for the top-right pixel, and so on with the pixels read out in sequence left-to-right and top-to-bottom. Thus, the four spectral values for the central pixel are given by attributes 17,18,19 and 20. If you like you can use only these four attributes, while ignoring the others. This avoids the problem which arises when a 3x3 neighbourhood straddles a boundary.\n",
    "\n",
    "The last column has 1 for train, 0 for test."
   ]
  },
  {
   "cell_type": "markdown",
   "metadata": {},
   "source": [
    "## Load and Prepare Data"
   ]
  },
  {
   "cell_type": "code",
   "execution_count": 1,
   "metadata": {
    "collapsed": true
   },
   "outputs": [],
   "source": [
    "import numpy as np"
   ]
  },
  {
   "cell_type": "code",
   "execution_count": 2,
   "metadata": {},
   "outputs": [],
   "source": [
    "data = np.load('../data/sat.npy')\n",
    "is_train = data[:, -1] == 1\n",
    "X_train, X_test = data[is_train, :36], data[~is_train, :36]\n",
    "y_train, y_test = data[is_train, 36], data[~is_train, 36]"
   ]
  },
  {
   "cell_type": "markdown",
   "metadata": {},
   "source": [
    "## k-Nearest-Neighbors"
   ]
  },
  {
   "cell_type": "code",
   "execution_count": 3,
   "metadata": {
    "collapsed": true
   },
   "outputs": [],
   "source": [
    "from sklearn.neighbors import KNeighborsClassifier\n",
    "from sklearn.metrics import accuracy_score"
   ]
  },
  {
   "cell_type": "code",
   "execution_count": 4,
   "metadata": {},
   "outputs": [
    {
     "name": "stdout",
     "output_type": "stream",
     "text": [
      "Test Error rate: 9.6%\n"
     ]
    }
   ],
   "source": [
    "# PAGE 471. Then five-nearest-neighbors classification was carried out in this\n",
    "#           36-dimensional feature space. The resulting test error rate was\n",
    "#           about 9.5% (see Figure 13.8). Of all the methods used in the\n",
    "#           STATLOG project, including LVQ, CART, neural networks, linear\n",
    "#           discriminant analysis and many others, k-nearest-neighbors\n",
    "#           performed best on this task. Hence it is likely that the decision\n",
    "#           boundaries in IR36 are quite irregular.\n",
    "model = KNeighborsClassifier(n_neighbors=5).fit(X_train, y_train)\n",
    "y_test_hat = model.predict(X_test)\n",
    "error_rate = 1 - accuracy_score(y_test, y_test_hat)\n",
    "print(f'Test Error rate: {100*error_rate:.1f}%')"
   ]
  },
  {
   "cell_type": "code",
   "execution_count": null,
   "metadata": {
    "collapsed": true
   },
   "outputs": [],
   "source": []
  }
 ],
 "metadata": {
  "kernelspec": {
   "display_name": "Python [conda env:Python64]",
   "language": "python",
   "name": "conda-env-Python64-py"
  },
  "language_info": {
   "codemirror_mode": {
    "name": "ipython",
    "version": 3
   },
   "file_extension": ".py",
   "mimetype": "text/x-python",
   "name": "python",
   "nbconvert_exporter": "python",
   "pygments_lexer": "ipython3",
   "version": "3.6.3"
  }
 },
 "nbformat": 4,
 "nbformat_minor": 2
}
